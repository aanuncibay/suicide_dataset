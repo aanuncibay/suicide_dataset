{
  "cells": [
    {
      "cell_type": "markdown",
      "metadata": {
        "id": "QNT7RjLSKER3"
      },
      "source": [
        "# Aumento de data"
      ]
    },
    {
      "cell_type": "markdown",
      "metadata": {},
      "source": [
        "Se hará uso de Tensorflow y el arreglo de estilo \"n-gram\" para crear nuevas cadenas de texto a partir del entrenamiento\r\n",
        "y predicción de un modelo que permita generar una palabra a partir de sus anteriores.\r\n",
        "\r\n",
        "Fuente: https://www.youtube.com/watch?v=ZMudJXhsUpY&list=PLQY2H8rRoyvzDbLUZkbudP-MFQZwNmU4S&index=6"
      ]
    },
    {
      "cell_type": "code",
      "execution_count": 1,
      "metadata": {
        "id": "uQwh_5j9xiHB"
      },
      "outputs": [],
      "source": [
        "# Importar librerías necesarias. \r\n",
        "\r\n",
        "import tensorflow as tf\r\n",
        "from tensorflow.keras.preprocessing.sequence import pad_sequences\r\n",
        "from tensorflow.keras.layers import Embedding, LSTM, Dense, Dropout, Bidirectional\r\n",
        "from tensorflow.keras.preprocessing.text import Tokenizer\r\n",
        "from tensorflow.keras.models import Sequential\r\n",
        "from tensorflow.keras.optimizers import Adam\r\n",
        "from tensorflow.keras import regularizers\r\n",
        "import tensorflow.keras.utils as ku\r\n",
        "import random\r\n",
        "import numpy as np\r\n",
        "from random import randrange, choice\r\n",
        "import pickle\r\n",
        "import nltk \r\n",
        "stopwords = nltk.corpus.stopwords.words('english')"
      ]
    },
    {
      "cell_type": "code",
      "execution_count": 3,
      "metadata": {
        "id": "4K39WIj14HOp"
      },
      "outputs": [],
      "source": [
        "# Carga de la data\r\n",
        "\r\n",
        "Flagged_basic = pickle.load(open(\"./data_final/Flagged_basic.p\", \"rb\" ))\r\n",
        "Flagged_GloVe = pickle.load(open(\"./data_final/Flagged_GloVe.p\", \"rb\" ))\r\n",
        "\r\n",
        "Flagged = Flagged_basic + Flagged_GloVe"
      ]
    },
    {
      "cell_type": "code",
      "execution_count": 6,
      "metadata": {
        "colab": {
          "base_uri": "https://localhost:8080/"
        },
        "id": "k_ercF86adr0",
        "outputId": "cf72ef43-2c36-4185-cbb0-c6699439132a"
      },
      "outputs": [
        {
          "name": "stdout",
          "output_type": "stream",
          "text": [
            "{'i': 1, 'be': 2, 'and': 3, 'to': 4, 'she': 5, 'go': 6, 'he': 7, 'a': 8, 'have': 9, 'my': 10, 'help': 11, 'the': 12, 'with': 13, 'talk': 14, 'of': 15, 'depression': 16, 'for': 17, 'get': 18, 'in': 19, 'anxiety': 20, 'that': 21, 'try': 22, 'would': 23, 'as': 24, 'when': 25, 'it': 26, 'good': 27, 'through': 28, 'her': 29, 'but': 30, 'make': 31, 'year': 32, 'issue': 33, 'think': 34, 'deal': 35, 'life': 36, 'one': 37, 'use': 38, 'addiction': 39, 'everything': 40, 'find': 41, 'out': 42, 'some': 43, 'they': 44, 'though': 45, 'well': 46, 'back': 47, 'severe': 48, 'ex': 49, 'diagnose': 50, 'kill': 51, 'there': 52, 'not': 53, 'this': 54, 'on': 55, 'will': 56, 'need': 57, 'person': 58, 'call': 59, 'suicide': 60, 'what': 61, 'say': 62, 'simply': 63, 'support': 64, 'know': 65, 'come': 66, 'school': 67, 'comfort': 68, 'night': 69, 'see': 70, 'could': 71, 'time': 72, 'desire': 73, 'much': 74, 'want': 75, 'end': 76, 'disorder': 77, 'start': 78, 'look': 79, 'feel': 80, 'shit': 81, 'experience': 82, 'many': 83, 'like': 84, 'personal': 85, 'from': 86, 'up': 87, 'all': 88, 'girl': 89, 'do': 90, 'who': 91, 'day': 92, 'alcoholic': 93, 'alone': 94, 'anything': 95, 'always': 96, 'listen': 97, 'give': 98, 'advice': 99, 'self': 100, 'because': 101, 'stuff': 102, 'face': 103, 'about': 104, 'define': 105, 'basically': 106, 'even': 107, 'big': 108, 'so': 109, 'last': 110, 'either': 111, 'way': 112, 'his': 113, 'take': 114, 'hospital': 115, 'clean': 116, 'friend': 117, 'live': 118, 'while': 119, 'sister': 120, 'problem': 121, 'describe': 122, 'care': 123, 'happen': 124, 'before': 125, 'hold': 126, 'period': 127, 'intense': 128, 'sure': 129, 'month': 130, 'past': 131, 'grandmother': 132, 'shortly': 133, 'difficulty': 134, 'or': 135, 'himself': 136, 'tell': 137, 'still': 138, 'keep': 139, 'depressed': 140, 'share': 141, 'hope': 142, 'let': 143, 'understand': 144, 'offer': 145, 'answer': 146, 'little': 147, 'helpful': 148, 'serious': 149, 'trouble': 150, 'date': 151, 'mental': 152, 'onset': 153, 'addict': 154, 'after': 155, 'few': 156, 'other': 157, 'how': 158, 'having': 159, 'myself': 160, 'now': 161, 'at': 162, 'alcoholism': 163, 'illness': 164, 'anger': 165, 'manage': 166, 'down': 167, 'also': 168, 'hear': 169, 'very': 170, 'low': 171, 'esteem': 172, 'promise': 173, 'remind': 174, 'then': 175, 'our': 176, 'parent': 177, 'throw': 178, 'house': 179, 'part': 180, 'another': 181, 'bedroom': 182, 'similar': 183, 'treat': 184, 'human': 185, 'stranger': 186, 'respect': 187, 'kindness': 188, 'blow': 189, 'over': 190, 'more': 191, 'along': 192, 'line': 193, 'blunt': 194, 'blue': 195, 'thankgive': 196, 'boyfriend': 197, 'cut': 198, 'change': 199, 'by': 200, 'reality': 201, 'nt': 202, 'unless': 203, 'pull': 204, 'complete': 205, 'lack': 206, 'family': 207, 'cop': 208, 'already': 209, 'number': 210, 'something': 211, 'calm': 212, 'campsite': 213, 'slightly': 214, 'summer': 215, 'catch': 216, 'work': 217, 'acquaintance': 218, 'lose': 219, 'virgity': 220, 'walk': 221, 'convince': 222, 'doc': 223, 'together': 224, 'spot': 225, 'couple': 226, 'quite': 227, 'emotional': 228, 'completely': 229, 'isolate': 230, 'kid': 231, 'cuttersuicidal': 232, 'slowly': 233, 'die': 234, 'inside': 235, 'own': 236, 'hang': 237, 'rehab': 238, 'swallow': 239, 'bunch': 240, 'pill': 241, 'goal': 242, 'purpose': 243, 'sustain': 244, 'survival': 245, 'mom': 246, 'away': 247, 'ode': 248, 'grade': 249, 'harm': 250, 'knowledge': 251, 'allow': 252, 'several': 253, 'internet': 254, 'psych': 255, 'ward': 256, 'drive': 257, 'n': 258, 'mother': 259, 'eventually': 260, 'relationship': 261, 'suffer': 262, 'result': 263, 'nobody': 264, 'else': 265, 'hour': 266, 'half': 267, 'huge': 268, 'douche': 269, 'swim': 270, 'enough': 271, 'same': 272, 'long': 273, 'till': 274, 'flicker': 275, 'super': 276, 'you': 277, 'both': 278, 'save': 279, 'sway': 280, 'action': 281, 'spend': 282, 'vent': 283, 'late': 284, 'entire': 285, 'throughout': 286, 'recovery': 287, 'important': 288, 'listening': 289, 'struggle': 290, 'method': 291, 'cope': 292, 'hit': 293, 'visit': 294, 'almost': 295, 'every': 296, 'treatment': 297, 'junior': 298, 'high': 299, 'light': 300, 'tunnel': 301, 'switch': 302, 'if': 303, 'laugh': 304, 'sad': 305, 'may': 306, 'rude': 307, 'essential': 308, 'hard': 309, 'drug': 310, 'cocaine': 311, 'memorial': 312, 'anniversary': 313, 'father': 314, 'might': 315, 'around': 316, 'never': 317, 'we': 318, 'pretty': 319, 'health': 320, 'sometime': 321, 'oh': 322, 'ok': 323, 'cancer': 324, 'open': 325, 'weed': 326, 'peace': 327, 'turmoil': 328, 'people': 329, 'bit': 330, 'perfect': 331, 'roommate': 332, 'death': 333, 'loss': 334, 'commit': 335, 'early': 336, 'mind': 337, 'bring': 338, 'supportive': 339, 'focus': 340, 'situation': 341, 'subject': 342, 'drag': 343, 'due': 344, 'fact': 345, 'relate': 346, 'whenever': 347, 'y': 348, 'discomfort': 349, 'paranoia': 350, 'nervousness': 351, 'addictions': 352, 'addicted': 353, 'an': 354, 'into': 355, 'only': 356, 'during': 357, 'here': 358, 'off': 359, 'than': 360, 'once': 361, 'those': 362, 'too': 363, 'just': 364, 'themselves': 365, 'their': 366, 'can': 367, 'such': 368, 'll': 369}\n",
            " \n",
            " Cantidad de palabras diferentes: 370\n"
          ]
        }
      ],
      "source": [
        "#Se carga el tokenizador de la librería Keras y se entrena con el corpus \r\n",
        "# para generar un diccionario de cada una de las palabras con su respectiva representación numérica.\r\n",
        "\r\n",
        "tokenizer = Tokenizer() \r\n",
        "tokenizer.fit_on_texts(Flagged)\r\n",
        "word_index = tokenizer.word_index\r\n",
        "\r\n",
        "total_words = len(word_index) + 1 \r\n",
        "\r\n",
        "print(tokenizer.word_index)\r\n",
        "print(\" \\n Cantidad de palabras diferentes:\",  total_words)"
      ]
    },
    {
      "cell_type": "code",
      "execution_count": 9,
      "metadata": {
        "id": "ZLdwlgOex-9v"
      },
      "outputs": [],
      "source": [
        "# Creación de las secuencias de entrada de la red neuronal \r\n",
        "## con oraciones del set de datos, las cuales serán convertidas en secuencias de números \r\n",
        "## en un arreglo de estilo n-gram\r\n",
        "\r\n",
        "input_sequences = []\r\n",
        "\r\n",
        "for line in Flagged:\r\n",
        "\ttoken_list = tokenizer.texts_to_sequences([line])[0]\r\n",
        "\tfor i in range(1, len(token_list)):\r\n",
        "\t\tn_gram_sequence = token_list[:i+1]\r\n",
        "\t\tinput_sequences.append(n_gram_sequence)\r\n",
        "\r\n",
        "# Conocer la longitud máxima para igualar las cadenas a la más larga.\r\n",
        "\r\n",
        "max_sequence_len = max([len(x) for x in input_sequences])\r\n",
        "\r\n",
        "# Completar las cadenas cortas a la más larga con el \"padding\"\r\n",
        "input_sequences = np.array(pad_sequences(input_sequences, maxlen=max_sequence_len, padding='pre'))\r\n",
        "\r\n",
        "# Separación de objetivo y predictoras según el último término del input_sequences para \"Y\"\" y el resto para \"X\"\r\n",
        "predictors, label = input_sequences[:,:-1], input_sequences[:,-1]\r\n",
        "label = ku.to_categorical(label, num_classes=total_words)"
      ]
    },
    {
      "cell_type": "code",
      "execution_count": 10,
      "metadata": {
        "id": "kWewRnDv3-lS"
      },
      "outputs": [],
      "source": [
        "model = Sequential()\r\n",
        "model.add(Embedding(total_words, 240, input_length = max_sequence_len-1))\r\n",
        "model.add(Bidirectional(LSTM(150, return_sequences = True)))\r\n",
        "model.add(Bidirectional(LSTM(150, return_sequences = True)))\r\n",
        "model.add(LSTM(100))\r\n",
        "model.add(Dropout(0.4))\r\n",
        "model.add(Dense(total_words/2, activation='relu', kernel_regularizer=regularizers.l2(0.01)))\r\n",
        "model.add(Dense(total_words, activation='softmax'))"
      ]
    },
    {
      "cell_type": "code",
      "execution_count": 11,
      "metadata": {},
      "outputs": [
        {
          "name": "stdout",
          "output_type": "stream",
          "text": [
            "Model: \"sequential_1\"\n",
            "_________________________________________________________________\n",
            "Layer (type)                 Output Shape              Param #   \n",
            "=================================================================\n",
            "embedding (Embedding)        (None, 17, 240)           88800     \n",
            "_________________________________________________________________\n",
            "bidirectional (Bidirectional (None, 17, 300)           469200    \n",
            "_________________________________________________________________\n",
            "bidirectional_1 (Bidirection (None, 17, 300)           541200    \n",
            "_________________________________________________________________\n",
            "lstm_2 (LSTM)                (None, 100)               160400    \n",
            "_________________________________________________________________\n",
            "dropout (Dropout)            (None, 100)               0         \n",
            "_________________________________________________________________\n",
            "dense (Dense)                (None, 185)               18685     \n",
            "_________________________________________________________________\n",
            "dense_1 (Dense)              (None, 370)               68820     \n",
            "=================================================================\n",
            "Total params: 1,347,105\n",
            "Trainable params: 1,347,105\n",
            "Non-trainable params: 0\n",
            "_________________________________________________________________\n",
            "None\n"
          ]
        }
      ],
      "source": [
        "model.compile(loss='categorical_crossentropy', optimizer='adam', metrics=['accuracy'])\r\n",
        "print(model.summary())"
      ]
    },
    {
      "cell_type": "code",
      "execution_count": 12,
      "metadata": {},
      "outputs": [],
      "source": [
        "class myCallback(tf.keras.callbacks.Callback):\r\n",
        "      \r\n",
        "      def on_epoch_end(self, epoch, logs={}):\r\n",
        "            if(logs.get('accuracy')> 0.85):\r\n",
        "                  print(\"\\nReached 85% accuracy so cancelling training!\")\r\n",
        "                  self.model.stop_training = True\r\n",
        "\r\n",
        "callbacks = myCallback()"
      ]
    },
    {
      "cell_type": "code",
      "execution_count": 13,
      "metadata": {
        "colab": {
          "base_uri": "https://localhost:8080/"
        },
        "id": "WUuz33U8ajbm",
        "outputId": "774ad2ff-11d9-4f63-db43-900152c99369",
        "tags": [
          "outputPrepend"
        ]
      },
      "outputs": [
        {
          "name": "stdout",
          "output_type": "stream",
          "text": [
            "Epoch 1/200\n",
            "165/165 [==============================] - 14s 41ms/step - loss: 6.2151 - accuracy: 0.0292\n",
            "Epoch 2/200\n",
            "165/165 [==============================] - 10s 59ms/step - loss: 5.5930 - accuracy: 0.0365\n",
            "Epoch 3/200\n",
            "165/165 [==============================] - 10s 60ms/step - loss: 5.4169 - accuracy: 0.0316\n",
            "Epoch 4/200\n",
            "165/165 [==============================] - 10s 60ms/step - loss: 5.2954 - accuracy: 0.0328\n",
            "Epoch 5/200\n",
            "165/165 [==============================] - 9s 56ms/step - loss: 5.2211 - accuracy: 0.0310\n",
            "Epoch 6/200\n",
            "165/165 [==============================] - 9s 52ms/step - loss: 5.1250 - accuracy: 0.0377\n",
            "Epoch 7/200\n",
            "165/165 [==============================] - 10s 58ms/step - loss: 5.0204 - accuracy: 0.0383\n",
            "Epoch 8/200\n",
            "165/165 [==============================] - 9s 57ms/step - loss: 4.9353 - accuracy: 0.0359\n",
            "Epoch 9/200\n",
            "165/165 [==============================] - 9s 53ms/step - loss: 4.8611 - accuracy: 0.0383\n",
            "Epoch 10/200\n",
            "165/165 [==============================] - 9s 53ms/step - loss: 4.7858 - accuracy: 0.0419\n",
            "Epoch 11/200\n",
            "165/165 [==============================] - 9s 56ms/step - loss: 4.7066 - accuracy: 0.0462\n",
            "Epoch 12/200\n",
            "165/165 [==============================] - 9s 52ms/step - loss: 4.6531 - accuracy: 0.0462\n",
            "Epoch 13/200\n",
            "165/165 [==============================] - 10s 58ms/step - loss: 4.5923 - accuracy: 0.0535\n",
            "Epoch 14/200\n",
            "165/165 [==============================] - 9s 54ms/step - loss: 4.5530 - accuracy: 0.0559\n",
            "Epoch 15/200\n",
            "165/165 [==============================] - 10s 60ms/step - loss: 4.5072 - accuracy: 0.0614\n",
            "Epoch 16/200\n",
            "165/165 [==============================] - 9s 53ms/step - loss: 4.4351 - accuracy: 0.0675\n",
            "Epoch 17/200\n",
            "165/165 [==============================] - 9s 52ms/step - loss: 4.3672 - accuracy: 0.0748\n",
            "Epoch 18/200\n",
            "165/165 [==============================] - 9s 57ms/step - loss: 4.3349 - accuracy: 0.0760\n",
            "Epoch 19/200\n",
            "165/165 [==============================] - 9s 53ms/step - loss: 4.2653 - accuracy: 0.0815\n",
            "Epoch 20/200\n",
            "165/165 [==============================] - 9s 52ms/step - loss: 4.2091 - accuracy: 0.0906\n",
            "Epoch 21/200\n",
            "165/165 [==============================] - 9s 54ms/step - loss: 4.1697 - accuracy: 0.0942\n",
            "Epoch 22/200\n",
            "165/165 [==============================] - 10s 60ms/step - loss: 4.1057 - accuracy: 0.1125\n",
            "Epoch 23/200\n",
            "165/165 [==============================] - 9s 53ms/step - loss: 4.0389 - accuracy: 0.1125\n",
            "Epoch 24/200\n",
            "165/165 [==============================] - 9s 52ms/step - loss: 3.9753 - accuracy: 0.1112\n",
            "Epoch 25/200\n",
            "165/165 [==============================] - 9s 52ms/step - loss: 3.9123 - accuracy: 0.1319\n",
            "Epoch 26/200\n",
            "165/165 [==============================] - 10s 62ms/step - loss: 3.8615 - accuracy: 0.1350\n",
            "Epoch 27/200\n",
            "165/165 [==============================] - 9s 57ms/step - loss: 3.8034 - accuracy: 0.1447\n",
            "Epoch 28/200\n",
            "165/165 [==============================] - 9s 53ms/step - loss: 3.7269 - accuracy: 0.1635\n",
            "Epoch 29/200\n",
            "165/165 [==============================] - 9s 52ms/step - loss: 3.7013 - accuracy: 0.1514\n",
            "Epoch 30/200\n",
            "165/165 [==============================] - 10s 62ms/step - loss: 3.6490 - accuracy: 0.1696\n",
            "Epoch 31/200\n",
            "165/165 [==============================] - 11s 64ms/step - loss: 3.5686 - accuracy: 0.1872\n",
            "Epoch 32/200\n",
            "165/165 [==============================] - 9s 52ms/step - loss: 3.5185 - accuracy: 0.1976\n",
            "Epoch 33/200\n",
            "165/165 [==============================] - 9s 53ms/step - loss: 3.4502 - accuracy: 0.2109\n",
            "Epoch 34/200\n",
            "165/165 [==============================] - 9s 57ms/step - loss: 3.4162 - accuracy: 0.1964\n",
            "Epoch 35/200\n",
            "165/165 [==============================] - 10s 60ms/step - loss: 3.3503 - accuracy: 0.2201\n",
            "Epoch 36/200\n",
            "165/165 [==============================] - 9s 55ms/step - loss: 3.3026 - accuracy: 0.2304\n",
            "Epoch 37/200\n",
            "165/165 [==============================] - 9s 54ms/step - loss: 3.2323 - accuracy: 0.2511\n",
            "Epoch 38/200\n",
            "165/165 [==============================] - 9s 56ms/step - loss: 3.1546 - accuracy: 0.2650\n",
            "Epoch 39/200\n",
            "165/165 [==============================] - 9s 57ms/step - loss: 3.0751 - accuracy: 0.2894\n",
            "Epoch 40/200\n",
            "165/165 [==============================] - 9s 52ms/step - loss: 3.0479 - accuracy: 0.2936\n",
            "Epoch 41/200\n",
            "165/165 [==============================] - 8s 51ms/step - loss: 2.9753 - accuracy: 0.3173\n",
            "Epoch 42/200\n",
            "165/165 [==============================] - 8s 51ms/step - loss: 2.9281 - accuracy: 0.3210\n",
            "Epoch 43/200\n",
            "165/165 [==============================] - 9s 52ms/step - loss: 2.9070 - accuracy: 0.3289\n",
            "Epoch 44/200\n",
            "165/165 [==============================] - 9s 52ms/step - loss: 2.8620 - accuracy: 0.3362\n",
            "Epoch 45/200\n",
            "165/165 [==============================] - 9s 53ms/step - loss: 2.7788 - accuracy: 0.3532\n",
            "Epoch 46/200\n",
            "165/165 [==============================] - 9s 55ms/step - loss: 2.7369 - accuracy: 0.3720\n",
            "Epoch 47/200\n",
            "165/165 [==============================] - 9s 55ms/step - loss: 2.6348 - accuracy: 0.3854\n",
            "Epoch 48/200\n",
            "165/165 [==============================] - 9s 53ms/step - loss: 2.6122 - accuracy: 0.3982\n",
            "Epoch 49/200\n",
            "165/165 [==============================] - 9s 53ms/step - loss: 2.5828 - accuracy: 0.4000\n",
            "Epoch 50/200\n",
            "165/165 [==============================] - 9s 52ms/step - loss: 2.5083 - accuracy: 0.4116\n",
            "Epoch 51/200\n",
            "165/165 [==============================] - 9s 54ms/step - loss: 2.4258 - accuracy: 0.4389\n",
            "Epoch 52/200\n",
            "165/165 [==============================] - 9s 52ms/step - loss: 2.3796 - accuracy: 0.4529\n",
            "Epoch 53/200\n",
            "165/165 [==============================] - 10s 60ms/step - loss: 2.3378 - accuracy: 0.4663\n",
            "Epoch 54/200\n",
            "165/165 [==============================] - 9s 56ms/step - loss: 2.2874 - accuracy: 0.4711\n",
            "Epoch 55/200\n",
            "165/165 [==============================] - 9s 53ms/step - loss: 2.2606 - accuracy: 0.4675\n",
            "Epoch 56/200\n",
            "165/165 [==============================] - 9s 53ms/step - loss: 2.2311 - accuracy: 0.4833\n",
            "Epoch 57/200\n",
            "165/165 [==============================] - 8s 51ms/step - loss: 2.1659 - accuracy: 0.5033\n",
            "Epoch 58/200\n",
            "165/165 [==============================] - 9s 54ms/step - loss: 2.1157 - accuracy: 0.5264\n",
            "Epoch 59/200\n",
            "165/165 [==============================] - 9s 56ms/step - loss: 2.0830 - accuracy: 0.5313\n",
            "Epoch 60/200\n",
            "165/165 [==============================] - 9s 53ms/step - loss: 2.0827 - accuracy: 0.5271\n",
            "Epoch 61/200\n",
            "165/165 [==============================] - 8s 50ms/step - loss: 2.0682 - accuracy: 0.5319\n",
            "Epoch 62/200\n",
            "165/165 [==============================] - 8s 51ms/step - loss: 1.9828 - accuracy: 0.5508\n",
            "Epoch 63/200\n",
            "165/165 [==============================] - 9s 54ms/step - loss: 1.9631 - accuracy: 0.5581\n",
            "Epoch 64/200\n",
            "165/165 [==============================] - 10s 58ms/step - loss: 1.8963 - accuracy: 0.5690\n",
            "Epoch 65/200\n",
            "165/165 [==============================] - 8s 51ms/step - loss: 1.8671 - accuracy: 0.5751\n",
            "Epoch 66/200\n",
            "165/165 [==============================] - 9s 53ms/step - loss: 1.8144 - accuracy: 0.5848\n",
            "Epoch 67/200\n",
            "165/165 [==============================] - 8s 50ms/step - loss: 1.8129 - accuracy: 0.5988\n",
            "Epoch 68/200\n",
            "165/165 [==============================] - 9s 53ms/step - loss: 1.7684 - accuracy: 0.5982\n",
            "Epoch 69/200\n",
            "165/165 [==============================] - 9s 54ms/step - loss: 1.7673 - accuracy: 0.5976\n",
            "Epoch 70/200\n",
            "165/165 [==============================] - 10s 63ms/step - loss: 1.7243 - accuracy: 0.6158\n",
            "Epoch 71/200\n",
            "165/165 [==============================] - 12s 75ms/step - loss: 1.6572 - accuracy: 0.6359\n",
            "Epoch 72/200\n",
            "165/165 [==============================] - 9s 57ms/step - loss: 1.6746 - accuracy: 0.6292\n",
            "Epoch 73/200\n",
            "165/165 [==============================] - 10s 59ms/step - loss: 1.6203 - accuracy: 0.6450\n",
            "Epoch 74/200\n",
            "165/165 [==============================] - 10s 58ms/step - loss: 1.5927 - accuracy: 0.6450\n",
            "Epoch 75/200\n",
            "165/165 [==============================] - 9s 55ms/step - loss: 1.5642 - accuracy: 0.6632\n",
            "Epoch 76/200\n",
            "165/165 [==============================] - 9s 54ms/step - loss: 1.6207 - accuracy: 0.6474\n",
            "Epoch 77/200\n",
            "165/165 [==============================] - 9s 53ms/step - loss: 1.5126 - accuracy: 0.6760\n",
            "Epoch 78/200\n",
            "165/165 [==============================] - 10s 59ms/step - loss: 1.4680 - accuracy: 0.6821\n",
            "Epoch 79/200\n",
            "165/165 [==============================] - 10s 60ms/step - loss: 1.4424 - accuracy: 0.6900\n",
            "Epoch 80/200\n",
            "165/165 [==============================] - 9s 55ms/step - loss: 1.4128 - accuracy: 0.7027\n",
            "Epoch 81/200\n",
            "165/165 [==============================] - 10s 62ms/step - loss: 1.3935 - accuracy: 0.6960\n",
            "Epoch 82/200\n",
            "165/165 [==============================] - 10s 59ms/step - loss: 1.3417 - accuracy: 0.7021\n",
            "Epoch 83/200\n",
            "165/165 [==============================] - 10s 58ms/step - loss: 1.3149 - accuracy: 0.7149\n",
            "Epoch 84/200\n",
            "165/165 [==============================] - 10s 58ms/step - loss: 1.3062 - accuracy: 0.7112\n",
            "Epoch 85/200\n",
            "165/165 [==============================] - 10s 60ms/step - loss: 1.2660 - accuracy: 0.7289\n",
            "Epoch 86/200\n",
            "165/165 [==============================] - 10s 61ms/step - loss: 1.2738 - accuracy: 0.7234\n",
            "Epoch 87/200\n",
            "165/165 [==============================] - 11s 64ms/step - loss: 1.2507 - accuracy: 0.7374\n",
            "Epoch 88/200\n",
            "165/165 [==============================] - 11s 66ms/step - loss: 1.2541 - accuracy: 0.7404\n",
            "Epoch 89/200\n",
            "165/165 [==============================] - 10s 63ms/step - loss: 1.2367 - accuracy: 0.7337\n",
            "Epoch 90/200\n",
            "165/165 [==============================] - 10s 60ms/step - loss: 1.2159 - accuracy: 0.7404\n",
            "Epoch 91/200\n",
            "165/165 [==============================] - 9s 57ms/step - loss: 1.1468 - accuracy: 0.7647\n",
            "Epoch 92/200\n",
            "165/165 [==============================] - 9s 57ms/step - loss: 1.1606 - accuracy: 0.7617\n",
            "Epoch 93/200\n",
            "165/165 [==============================] - 10s 61ms/step - loss: 1.1399 - accuracy: 0.7623\n",
            "Epoch 94/200\n",
            "165/165 [==============================] - 10s 62ms/step - loss: 1.1907 - accuracy: 0.7526\n",
            "Epoch 95/200\n",
            "165/165 [==============================] - 10s 64ms/step - loss: 1.1625 - accuracy: 0.7422\n",
            "Epoch 96/200\n",
            "165/165 [==============================] - 11s 69ms/step - loss: 1.0826 - accuracy: 0.7751\n",
            "Epoch 97/200\n",
            "165/165 [==============================] - 11s 68ms/step - loss: 1.0810 - accuracy: 0.7824\n",
            "Epoch 98/200\n",
            "165/165 [==============================] - 11s 64ms/step - loss: 1.0475 - accuracy: 0.7970\n",
            "Epoch 99/200\n",
            "165/165 [==============================] - 11s 69ms/step - loss: 1.0438 - accuracy: 0.7848\n",
            "Epoch 100/200\n",
            "165/165 [==============================] - 9s 56ms/step - loss: 1.0022 - accuracy: 0.7915\n",
            "Epoch 101/200\n",
            "165/165 [==============================] - 9s 54ms/step - loss: 1.0041 - accuracy: 0.8006\n",
            "Epoch 102/200\n",
            "165/165 [==============================] - 9s 54ms/step - loss: 0.9896 - accuracy: 0.7988\n",
            "Epoch 103/200\n",
            "165/165 [==============================] - 9s 54ms/step - loss: 0.9704 - accuracy: 0.8073\n",
            "Epoch 104/200\n",
            "165/165 [==============================] - 9s 54ms/step - loss: 0.9931 - accuracy: 0.7824\n",
            "Epoch 105/200\n",
            "165/165 [==============================] - 9s 54ms/step - loss: 0.9699 - accuracy: 0.7951\n",
            "Epoch 106/200\n",
            "165/165 [==============================] - 10s 62ms/step - loss: 0.9296 - accuracy: 0.8182\n",
            "Epoch 107/200\n",
            "165/165 [==============================] - 10s 61ms/step - loss: 0.9374 - accuracy: 0.8091\n",
            "Epoch 108/200\n",
            "165/165 [==============================] - 10s 63ms/step - loss: 0.9210 - accuracy: 0.8091\n",
            "Epoch 109/200\n",
            "165/165 [==============================] - 9s 57ms/step - loss: 0.9160 - accuracy: 0.8170\n",
            "Epoch 110/200\n",
            "165/165 [==============================] - 9s 55ms/step - loss: 0.8975 - accuracy: 0.8158\n",
            "Epoch 111/200\n",
            "165/165 [==============================] - 9s 54ms/step - loss: 0.8998 - accuracy: 0.8237\n",
            "Epoch 112/200\n",
            "165/165 [==============================] - 9s 54ms/step - loss: 0.9055 - accuracy: 0.8103\n",
            "Epoch 113/200\n",
            "165/165 [==============================] - 10s 58ms/step - loss: 0.9821 - accuracy: 0.7994\n",
            "Epoch 114/200\n",
            "165/165 [==============================] - 10s 58ms/step - loss: 0.9076 - accuracy: 0.8036\n",
            "Epoch 115/200\n",
            "165/165 [==============================] - 9s 55ms/step - loss: 0.8752 - accuracy: 0.8237\n",
            "Epoch 116/200\n",
            "165/165 [==============================] - 9s 56ms/step - loss: 0.8446 - accuracy: 0.8304\n",
            "Epoch 117/200\n",
            "165/165 [==============================] - 9s 57ms/step - loss: 0.8236 - accuracy: 0.8310\n",
            "Epoch 118/200\n",
            "165/165 [==============================] - 10s 61ms/step - loss: 0.8274 - accuracy: 0.8298\n",
            "Epoch 119/200\n",
            "165/165 [==============================] - 10s 60ms/step - loss: 0.8024 - accuracy: 0.8377\n",
            "Epoch 120/200\n",
            "165/165 [==============================] - 9s 53ms/step - loss: 0.7789 - accuracy: 0.8389\n",
            "Epoch 121/200\n",
            "165/165 [==============================] - 9s 57ms/step - loss: 0.7640 - accuracy: 0.8413\n",
            "Epoch 122/200\n",
            "165/165 [==============================] - 9s 57ms/step - loss: 0.7850 - accuracy: 0.8395\n",
            "Epoch 123/200\n",
            "165/165 [==============================] - 10s 62ms/step - loss: 0.7820 - accuracy: 0.8334\n",
            "Epoch 124/200\n",
            "165/165 [==============================] - 10s 58ms/step - loss: 0.8204 - accuracy: 0.8304\n",
            "Epoch 125/200\n",
            "165/165 [==============================] - 9s 58ms/step - loss: 0.7986 - accuracy: 0.8371\n",
            "Epoch 126/200\n",
            "165/165 [==============================] - 9s 54ms/step - loss: 0.7688 - accuracy: 0.8535\n",
            "\n",
            "Reached 85% accuracy so cancelling training!\n"
          ]
        }
      ],
      "source": [
        "history = model.fit(predictors, label, batch_size=10, epochs=200, verbose=1, callbacks=[callbacks])"
      ]
    },
    {
      "cell_type": "code",
      "execution_count": 14,
      "metadata": {
        "colab": {
          "base_uri": "https://localhost:8080/",
          "height": 545
        },
        "id": "8rLBQLSa4kdq",
        "outputId": "5f933c56-e511-4c5c-8e3c-ba3ef80eb0d1"
      },
      "outputs": [
        {
          "data": {
            "image/png": "[encoded data removed]",
            "text/plain": [
              "<Figure size 432x288 with 1 Axes>"
            ]
          },
          "metadata": {
            "needs_background": "light"
          },
          "output_type": "display_data"
        },
        {
          "data": {
            "image/png": "[encoded data removed]",
            "text/plain": [
              "<Figure size 432x288 with 1 Axes>"
            ]
          },
          "metadata": {
            "needs_background": "light"
          },
          "output_type": "display_data"
        }
      ],
      "source": [
        "import matplotlib.pyplot as plt\n",
        "\n",
        "acc = history.history['accuracy']\n",
        "loss = history.history['loss']\n",
        "epochs = range(len(acc))\n",
        "\n",
        "#grafica #2\n",
        "plt.plot(epochs, acc, 'b', label='Training accuracy')\n",
        "plt.title('Training accuracy')\n",
        "plt.figure()\n",
        "\n",
        "#grafica #1\n",
        "plt.plot(epochs, loss, 'b', label='Training Loss')\n",
        "plt.title('Training loss')\n",
        "plt.legend()\n",
        "plt.show()"
      ]
    },
    {
      "cell_type": "code",
      "execution_count": 19,
      "metadata": {
        "colab": {
          "base_uri": "https://localhost:8080/"
        },
        "id": "CI_1wMXwbtfk",
        "outputId": "caf45ab4-7655-4410-da53-675acc1ee5f2"
      },
      "outputs": [],
      "source": [
        "# Creación de una bolsa de palabras para elegir dos términos de manera aleatoria \r\n",
        "## que permitan dar inicio a las cadenas de texto.\r\n",
        "\r\n",
        "word_list = [key for key in word_index.keys() if key not in stopwords]\r\n",
        "\r\n",
        "# Creación de las variables que nos permitirán escoger al azar un numero \r\n",
        "## según una distribución probabilística normal\r\n",
        "mess_range = 500 - len(Flagged)\r\n",
        "mu, sigma = 8, 1"
      ]
    },
    {
      "cell_type": "code",
      "execution_count": 20,
      "metadata": {},
      "outputs": [],
      "source": [
        "# Generación de las nuevas cadenas a partir de la secuencia de terminos anterior.\r\n",
        "\r\n",
        "LSTM_temp = []\r\n",
        "\r\n",
        "for _ in range(mess_range):\r\n",
        "  text = \"\"\r\n",
        "  text = choice(word_list) # Elección de número aleatorio de longitud\r\n",
        "  text = text + ' ' + choice(word_list)\r\n",
        "  words_qt =  int(random.gauss(mu, sigma))\r\n",
        "\r\n",
        "  for _ in range(words_qt):\r\n",
        "    token_list = tokenizer.texts_to_sequences([text])[0] #conversión del texto inicial en secuencia.\r\n",
        "    token_list = pad_sequences([token_list], maxlen=max_sequence_len-1, padding='pre')  \r\n",
        "    predicted = np.argmax(model.predict(token_list), axis=-1) #predicción a partir de la entrada transformada de los tokens\r\n",
        "    output_word = \"\"\r\n",
        "    for word, index in tokenizer.word_index.items():\r\n",
        "      if index == predicted:\r\n",
        "        output_word = word\r\n",
        "        break\r\n",
        "    text += \" \" + output_word\r\n",
        "  LSTM_temp.append(text)"
      ]
    },
    {
      "cell_type": "code",
      "execution_count": 24,
      "metadata": {},
      "outputs": [
        {
          "data": {
            "text/plain": [
              "['calm find kindness of her personal problem cope focus',\n",
              " 'reality life loss of girl get catch bedroom slowly die',\n",
              " 'suffer parent get last mental health father give support my experience',\n",
              " 'human trouble start date feel the relationship start suffer quite',\n",
              " 'look drive light lack support family hospital number know',\n",
              " 'hold way simply talk would try change it be',\n",
              " 'throughout big addiction issue i some a hospital',\n",
              " 'several half be one support result quite severe a',\n",
              " 'problem else have her mental switch on my',\n",
              " 'sometime use hear due early mind from year early good',\n",
              " 'part douche would like would have depression make in',\n",
              " 'high die inside mind kindness go through depression and',\n",
              " 'drug last past switch on want year',\n",
              " 'cop anything get bedroom all need sometime like',\n",
              " 'catch anniversary weed pill talk would answer even though']"
            ]
          },
          "execution_count": 24,
          "metadata": {},
          "output_type": "execute_result"
        }
      ],
      "source": [
        "LSTM_temp[:15]"
      ]
    },
    {
      "cell_type": "code",
      "execution_count": 25,
      "metadata": {
        "id": "W_r6bGHfmdX9"
      },
      "outputs": [],
      "source": [
        "pickle.dump(LSTM_temp, open(\"./data_final/Flagged_LSTM.p\", \"wb\" ))"
      ]
    }
  ],
  "metadata": {
    "accelerator": "GPU",
    "colab": {
      "name": "TFM - Aumento de Data_Flagged.ipynb",
      "provenance": []
    },
    "interpreter": {
      "hash": "2d8c4e0adecca2f9bb6152916de834ccf75a0d1de20f0239611dabd3480e2716"
    },
    "kernelspec": {
      "display_name": "Python 3.9.4 64-bit",
      "name": "python3"
    },
    "language_info": {
      "name": "python",
      "version": ""
    },
    "metadata": {
      "interpreter": {
        "hash": "2d8c4e0adecca2f9bb6152916de834ccf75a0d1de20f0239611dabd3480e2716"
      }
    }
  },
  "nbformat": 4,
  "nbformat_minor": 0
}