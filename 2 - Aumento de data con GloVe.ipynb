{
  "cells": [
    {
      "cell_type": "markdown",
      "metadata": {
        "id": "O8gBeS4ygCNz"
      },
      "source": [
        "# Carga de librerías"
      ]
    },
    {
      "cell_type": "code",
      "execution_count": 12,
      "metadata": {
        "id": "-nTj7iYDk8vQ"
      },
      "outputs": [],
      "source": [
        "import numpy as np\n",
        "from scipy import spatial\n",
        "import matplotlib.pyplot as plt\n",
        "from sklearn.manifold import TSNE\n",
        "import pickle\n",
        "from nltk import FreqDist\n",
        "\n",
        "from random import choice\n",
        "import re"
      ]
    },
    {
      "cell_type": "code",
      "execution_count": 2,
      "metadata": {
        "colab": {
          "base_uri": "https://localhost:8080/"
        },
        "id": "EURfyqbcgb2l",
        "outputId": "da6f166a-fb15-47ad-964c-bca7fe54c1e6"
      },
      "outputs": [
        {
          "name": "stdout",
          "output_type": "stream",
          "text": [
            "[nltk_data] Downloading package stopwords to /root/nltk_data...\n",
            "[nltk_data]   Package stopwords is already up-to-date!\n",
            "[nltk_data] Downloading package punkt to /root/nltk_data...\n",
            "[nltk_data]   Package punkt is already up-to-date!\n"
          ]
        },
        {
          "data": {
            "text/plain": [
              "True"
            ]
          },
          "execution_count": 2,
          "metadata": {
            "tags": []
          },
          "output_type": "execute_result"
        }
      ],
      "source": [
        "#import nltk\n",
        "#nltk.download('stopwords')\n",
        "#nltk.download('punkt')"
      ]
    },
    {
      "cell_type": "markdown",
      "metadata": {
        "id": "2xbYKh7RgCN3"
      },
      "source": [
        "# Listado de Funciones"
      ]
    },
    {
      "cell_type": "code",
      "execution_count": 4,
      "metadata": {
        "id": "3p-y4Z0hgCN3"
      },
      "outputs": [],
      "source": [
        "# Conversión de texto en formato NLTK para análisis específicos\n",
        "\n",
        "def conv_nltk(list):\n",
        "    tokens = nltk.word_tokenize(str(list))\n",
        "    return(nltk.Text(tokens))"
      ]
    },
    {
      "cell_type": "code",
      "execution_count": 11,
      "metadata": {
        "id": "fPZ_LBhdgCN3"
      },
      "outputs": [],
      "source": [
        "# Visualización de filtrado y términos más frecuentes. \n",
        "## Longitud máxima de 5\n",
        "\n",
        "def Filter_FreQ_plot(list):\n",
        "    dict = {}\n",
        "    for word, value in list.items():\n",
        "        if word in stopwords:\n",
        "            pass\n",
        "        elif len(word) < 5:\n",
        "            pass\n",
        "        else:\n",
        "            dict[word] = value\n",
        "    plot_dict = FreqDist(dict)\n",
        "    plot_dict.plot(20, cumulative = True)"
      ]
    },
    {
      "cell_type": "code",
      "execution_count": 6,
      "metadata": {
        "id": "j2gWnjKugCN4"
      },
      "outputs": [],
      "source": [
        "# Eliminar duplicados y espacios en blanco\n",
        "\n",
        "def duplicated(list): \n",
        "    temp = []\n",
        "    for sentence in list:\n",
        "        new_sentence = sentence.split() \n",
        "        new_sentece_join = ' '.join(new_sentence)\n",
        "        if new_sentece_join not in temp: \n",
        "            temp.append(new_sentece_join)\n",
        "    temp.pop(0)\n",
        "    return(temp)"
      ]
    },
    {
      "cell_type": "markdown",
      "metadata": {
        "id": "Sf9-WmhdgCN7"
      },
      "source": [
        "# Inicio\n"
      ]
    },
    {
      "cell_type": "code",
      "execution_count": 7,
      "metadata": {
        "id": "pvtlGwfTgCN7"
      },
      "outputs": [],
      "source": [
        "# Carga de las listas binarizadas\n",
        "\n",
        "Flagged_basic = pickle.load(open(\"./Flagged_basic.p\", \"rb\" ))\n",
        "NotFlagged_basic = pickle.load(open(\"./NotFlagged_basic.p\", \"rb\" ))"
      ]
    },
    {
      "cell_type": "code",
      "execution_count": 8,
      "metadata": {
        "colab": {
          "base_uri": "https://localhost:8080/"
        },
        "id": "5-seajJFgCN7",
        "outputId": "a4e2afe1-b315-4296-a515-10134763eba4"
      },
      "outputs": [
        {
          "name": "stdout",
          "output_type": "stream",
          "text": [
            "Verificación de la carga correcta de los datos de la etiqueta 'flagged' \n",
            "Tamaño de la lista: 227\n",
            "Muestra\n"
          ]
        },
        {
          "data": {
            "text/plain": [
              "['after a few day i manage to talk she down',\n",
              " 'alcoholic',\n",
              " 'alone anything',\n",
              " 'also be there to help try and talk he down',\n",
              " 'also help try talk',\n",
              " 'always',\n",
              " 'always listen',\n",
              " 'and give she the advice she need to hear',\n",
              " 'and have a very low self esteem',\n",
              " 'and promise he that i would go through everything with he']"
            ]
          },
          "execution_count": 8,
          "metadata": {
            "tags": []
          },
          "output_type": "execute_result"
        }
      ],
      "source": [
        "print(\"Verificación de la carga correcta de los datos de la etiqueta 'flagged' \")\n",
        "print(\"Tamaño de la lista:\", len(Flagged_basic))\n",
        "print(\"Muestra\")\n",
        "Flagged_basic[:10]"
      ]
    },
    {
      "cell_type": "code",
      "execution_count": 9,
      "metadata": {
        "colab": {
          "base_uri": "https://localhost:8080/"
        },
        "id": "I3vMKtwDgCN8",
        "outputId": "abdf06e0-d126-4433-84ff-8d3f159aee32"
      },
      "outputs": [
        {
          "name": "stdout",
          "output_type": "stream",
          "text": [
            "Verificación de la carga correcta de los datos de la etiqueta 'not_flagged' \n",
            "Tamaño de la lista: 243\n",
            "Muestra\n"
          ]
        },
        {
          "data": {
            "text/plain": [
              "['i can not think of one really',\n",
              " 'i think i may have indirectly',\n",
              " 'only really one who do not fit into the any of the above category',\n",
              " 'her therapist call it spiral',\n",
              " 'anyway she pretty much call i any time she be frustrate by something with',\n",
              " 'her boyfriend to ask i if it be logical or not',\n",
              " 'before they would just fight and he would call she crazy',\n",
              " 'now she ask i if it be ok he do not say please when he say hand',\n",
              " 'i the remote',\n",
              " 'a couple of year ago my be go to switch school because of low']"
            ]
          },
          "execution_count": 9,
          "metadata": {
            "tags": []
          },
          "output_type": "execute_result"
        }
      ],
      "source": [
        "print(\"Verificación de la carga correcta de los datos de la etiqueta 'not_flagged' \")\n",
        "print(\"Tamaño de la lista:\", len(NotFlagged_basic))\n",
        "print(\"Muestra\")\n",
        "NotFlagged_basic[:10]"
      ]
    },
    {
      "cell_type": "markdown",
      "metadata": {
        "id": "xeXqcLIlgCN8"
      },
      "source": [
        "# Aumento de data - previo"
      ]
    },
    {
      "cell_type": "markdown",
      "metadata": {
        "id": "tI69ZXjngCN9"
      },
      "source": [
        "Se hará el aumento de la data en la etiqueta \"Flagged\" con este método, ya que es la que tiene características más precisas que queremos resaltar y reforzar.\n",
        "\n",
        "Lo principal, es saber cuáles son los términos más relevantes y su frecuencia."
      ]
    },
    {
      "cell_type": "code",
      "execution_count": 13,
      "metadata": {
        "colab": {
          "base_uri": "https://localhost:8080/",
          "height": 325
        },
        "id": "mhmOws4OgCN9",
        "outputId": "2ee69a3b-225b-489b-e2f0-44cf90b8e596"
      },
      "outputs": [
        {
          "data": {
            "image/png": "[encoded data removed]",
            "text/plain": [
              "<Figure size 432x288 with 1 Axes>"
            ]
          },
          "metadata": {
            "needs_background": "light",
            "tags": []
          },
          "output_type": "display_data"
        }
      ],
      "source": [
        "# Llamado de la función para convertir las cadenas de texto en formato NLTK \n",
        "## y usar algunas de sus herramientas. \n",
        "\n",
        "Flagged_nltk = conv_nltk(str(Flagged_basic))\n",
        "FreQ_Flagged = FreqDist(Flagged_nltk)\n",
        "Filter_FreQ_plot(FreQ_Flagged)"
      ]
    },
    {
      "cell_type": "markdown",
      "metadata": {
        "id": "AhRw1-wggCN9"
      },
      "source": [
        "Se puede apreciar palabras como adicction, depresion, ansiedad, suicidio, mental son las más frecuentes:\n",
        "\n",
        "* ¿En cuál contexto aparecen? \n",
        "* ¿Cuáles otras maneras hay de referirnos a estos términos? \n",
        "\n",
        "Se hará uso del método \"concordance\" y \"similar\" sobre la lista en formato NLTK para conocer un poco más del contexto."
      ]
    },
    {
      "cell_type": "code",
      "execution_count": 14,
      "metadata": {
        "colab": {
          "base_uri": "https://localhost:8080/"
        },
        "id": "agNNArcCgCN9",
        "outputId": "0664fc47-0b43-4da1-f344-bc9c3581bd21"
      },
      "outputs": [
        {
          "name": "stdout",
          "output_type": "stream",
          "text": [
            "Displaying 10 of 10 matches:\n",
            "al ' , 'ex cuttersuicidal ' , 'ex depression anxiety ' , 'ex have depression a\n",
            "x depression anxiety ' , 'ex have depression and anxiety ' , 'face ' , 'face s\n",
            " 'go and hang out with he ' , 'go depression anxiety ' , 'go hang ' , 'go peri\n",
            ", 'go hang ' , 'go period intense depression make sure ' , 'go rehab month cle\n",
            ", 'good diagnose anxiety disorder depression ' , 'good mom past away ode grade\n",
            " grade ' , 'grandmother go severe depression shortly difficulty ' , 'have self\n",
            "r anything ' , 'having go through depression and anxiety myself ' , 'he be in \n",
            "be go through a period of intense depression and i make sure that ' , 'my deal\n",
            "iagnose with anxiety disorder and depression ' , 'my grandmother go through so\n",
            "randmother go through some severe depression shortly after i have some difficu\n"
          ]
        }
      ],
      "source": [
        "Flagged_nltk.concordance(\"depression\")"
      ]
    },
    {
      "cell_type": "code",
      "execution_count": 15,
      "metadata": {
        "colab": {
          "base_uri": "https://localhost:8080/"
        },
        "id": "n_YkDYu-gCN9",
        "outputId": "e99425ae-0d44-4f31-9f77-6e7cd149950c"
      },
      "outputs": [
        {
          "name": "stdout",
          "output_type": "stream",
          "text": [
            "Displaying 9 of 9 matches:\n",
            "vere ' , 'day manage talk ' , 'deal anxiety desire everything life ' , 'depress\n",
            "x cuttersuicidal ' , 'ex depression anxiety ' , 'ex have depression and anxiety\n",
            "anxiety ' , 'ex have depression and anxiety ' , 'face ' , 'face similar issue t\n",
            "hang out with he ' , 'go depression anxiety ' , 'go hang ' , 'go period intense\n",
            "rvival help make ' , 'good diagnose anxiety disorder depression ' , 'good mom p\n",
            ", 'having go through depression and anxiety myself ' , 'he be in the psych ward\n",
            " i make sure that ' , 'my deal with anxiety and this desire for everything in h\n",
            "other ' , 'my good be diagnose with anxiety disorder and depression ' , 'my gra\n",
            "et super depressed ' , 'y deal with anxiety and this desire for everything in h\n"
          ]
        }
      ],
      "source": [
        "Flagged_nltk.concordance(\"anxiety\")"
      ]
    },
    {
      "cell_type": "code",
      "execution_count": 16,
      "metadata": {
        "colab": {
          "base_uri": "https://localhost:8080/"
        },
        "id": "F5RC9nj2gCN-",
        "outputId": "c1a04ae7-fe0a-4bbc-9543-e25bde5e36a4"
      },
      "outputs": [
        {
          "name": "stdout",
          "output_type": "stream",
          "text": [
            "Displaying 6 of 6 matches:\n",
            "d kindness of a ' , 'be think about suicide ' , 'big addiction issue ' , 'blow \n",
            "ffer as a result ' , 'i save a from suicide once ' , 'i share my experience wit\n",
            "rough death and loss of a ' , 'save suicide ' , 'self harm past ' , 'share expe\n",
            "he addiction ' , 'she try to commit suicide ' , 'shit year early mind ' , 'simp\n",
            "think see look addiction ' , 'think suicide ' , 'though addiction define person\n",
            "ction define person ' , 'try commit suicide ' , 'try good entire time throughou\n"
          ]
        }
      ],
      "source": [
        "Flagged_nltk.concordance(\"suicide\")"
      ]
    },
    {
      "cell_type": "code",
      "execution_count": 17,
      "metadata": {
        "colab": {
          "base_uri": "https://localhost:8080/"
        },
        "id": "VJbfoG7GgCN-",
        "outputId": "05615bbf-90d4-4906-da32-6a40bc1c86f7"
      },
      "outputs": [
        {
          "name": "stdout",
          "output_type": "stream",
          "text": [
            "Displaying 9 of 9 matches:\n",
            "talk to i about ' , 'as though her addiction define she as a person ' , 'basica\n",
            ", 'be think about suicide ' , 'big addiction issue ' , 'blow over what i say be\n",
            "ty ' , 'my now use to have serious addiction trouble before we start date and f\n",
            ", 'one want oh ok ' , 'open mental addiction weed ' , 'or peace in the turmoil \n",
            "l see when they look at she be the addiction ' , 'she try to commit suicide ' ,\n",
            "late help like ' , 'think see look addiction ' , 'think suicide ' , 'though add\n",
            "ion ' , 'think suicide ' , 'though addiction define person ' , 'try commit suic\n",
            "ate share use get ' , 'use serious addiction trouble start date feel ' , 'visit\n",
            "ven though still ' , 'who have big addiction issue ' , 'would go girl get super\n"
          ]
        }
      ],
      "source": [
        "Flagged_nltk.concordance(\"addiction\")"
      ]
    },
    {
      "cell_type": "code",
      "execution_count": 18,
      "metadata": {
        "colab": {
          "base_uri": "https://localhost:8080/"
        },
        "id": "yNY21v9OgCN-",
        "outputId": "e65908d6-2ec0-4ccf-ed94-a0b48e25b5b0"
      },
      "outputs": [
        {
          "name": "stdout",
          "output_type": "stream",
          "text": [
            "Displaying 2 of 2 matches:\n",
            "k ' , 'remind alone ' , 'roommate go death loss ' , 'roommate when he be go thr\n",
            " ' , 'roommate when he be go through death and loss of a ' , 'save suicide ' , \n"
          ]
        }
      ],
      "source": [
        "Flagged_nltk.concordance(\"death\")"
      ]
    },
    {
      "cell_type": "code",
      "execution_count": 19,
      "metadata": {
        "colab": {
          "base_uri": "https://localhost:8080/"
        },
        "id": "5bQJXXENgCN-",
        "outputId": "42aab96f-050a-4b92-e2f4-b5f766bfc7df"
      },
      "outputs": [
        {
          "name": "stdout",
          "output_type": "stream",
          "text": [
            "it death\n"
          ]
        }
      ],
      "source": [
        "Flagged_nltk.similar(\"depression\")"
      ]
    },
    {
      "cell_type": "code",
      "execution_count": 20,
      "metadata": {
        "colab": {
          "base_uri": "https://localhost:8080/"
        },
        "id": "Z0Q90EkhgCN_",
        "outputId": "61266cc6-8314-49e6-f52a-9bdb71753d03"
      },
      "outputs": [
        {
          "name": "stdout",
          "output_type": "stream",
          "text": [
            "i she cancer\n"
          ]
        }
      ],
      "source": [
        "Flagged_nltk.similar(\"anxiety\")"
      ]
    },
    {
      "cell_type": "code",
      "execution_count": 21,
      "metadata": {
        "colab": {
          "base_uri": "https://localhost:8080/"
        },
        "id": "saktY7AmgCN_",
        "outputId": "bcf27d9e-1ca6-4312-f224-05ed26c8f42f"
      },
      "outputs": [
        {
          "name": "stdout",
          "output_type": "stream",
          "text": [
            "either way; 'basically treat; 'huge douche; 'make laugh; 'simply\n",
            "bring; almost every; bring supportive; completely isolate; die inside;\n",
            "doc together; drug cocaine; hard drug; house part; important\n",
            "listening; nobody else; slowly die; tunnel switch; alcoholic mother;\n",
            "already take; every day\n"
          ]
        }
      ],
      "source": [
        "Flagged_nltk.collocations()"
      ]
    },
    {
      "cell_type": "markdown",
      "metadata": {
        "id": "v4hfCBxagCN_"
      },
      "source": [
        "## Observación:\n",
        "\n",
        "* Aunque se puede ver el contexto de las cadenas de texto, la palabra en sí misma\n",
        "está en relación con la clase y no tanto con el contexto; a lo cual se puede preguntar: ¿hay palabras características de la otra clase?\n",
        "\n",
        "* También, observamos como el método \"collocations\" resalta pocos bigramas importantes que podamos rescatar."
      ]
    },
    {
      "cell_type": "code",
      "execution_count": 22,
      "metadata": {
        "colab": {
          "base_uri": "https://localhost:8080/",
          "height": 328
        },
        "id": "WDafpbe5gCN_",
        "outputId": "e94d934a-d6ca-431f-e9e0-1e095ea649e2"
      },
      "outputs": [
        {
          "data": {
            "image/png": "[encoded data removed]",
            "text/plain": [
              "<Figure size 432x288 with 1 Axes>"
            ]
          },
          "metadata": {
            "needs_background": "light",
            "tags": []
          },
          "output_type": "display_data"
        }
      ],
      "source": [
        "NotFlagged_nltk = conv_nltk(str(NotFlagged_basic))\n",
        "FreQ_NotFlagged = FreqDist(NotFlagged_nltk)\n",
        "Filter_FreQ_plot(FreQ_NotFlagged)"
      ]
    },
    {
      "cell_type": "markdown",
      "metadata": {
        "id": "4rFZJOyLgCN_"
      },
      "source": [
        "Nota: No hay términos característimos de la etiqueta \"not_flagged\"; por fanto, para el siguiente paso\n",
        "nos enfocamos en 'depression', 'anxiety', 'death', 'addiction', 'suicide' de la clase \"flagged\"."
      ]
    },
    {
      "cell_type": "markdown",
      "metadata": {
        "id": "qCzaRMwviRJ7"
      },
      "source": [
        "# Carga de GloVe"
      ]
    },
    {
      "cell_type": "code",
      "execution_count": 33,
      "metadata": {
        "colab": {
          "base_uri": "https://localhost:8080/"
        },
        "id": "V8dgMya0iP_O",
        "outputId": "ef70d248-507a-4242-9f39-733aab90a56e"
      },
      "outputs": [
        {
          "name": "stdout",
          "output_type": "stream",
          "text": [
            "--2021-06-22 16:24:45--  http://nlp.stanford.edu/data/glove.6B.zip\n",
            "Resolving nlp.stanford.edu (nlp.stanford.edu)... 171.64.67.140\n",
            "Connecting to nlp.stanford.edu (nlp.stanford.edu)|171.64.67.140|:80... connected.\n",
            "HTTP request sent, awaiting response... 302 Found\n",
            "Location: https://nlp.stanford.edu/data/glove.6B.zip [following]\n",
            "--2021-06-22 16:24:45--  https://nlp.stanford.edu/data/glove.6B.zip\n",
            "Connecting to nlp.stanford.edu (nlp.stanford.edu)|171.64.67.140|:443... connected.\n",
            "HTTP request sent, awaiting response... 301 Moved Permanently\n",
            "Location: http://downloads.cs.stanford.edu/nlp/data/glove.6B.zip [following]\n",
            "--2021-06-22 16:24:46--  http://downloads.cs.stanford.edu/nlp/data/glove.6B.zip\n",
            "Resolving downloads.cs.stanford.edu (downloads.cs.stanford.edu)... 171.64.64.22\n",
            "Connecting to downloads.cs.stanford.edu (downloads.cs.stanford.edu)|171.64.64.22|:80... connected.\n",
            "HTTP request sent, awaiting response... 200 OK\n",
            "Length: 862182613 (822M) [application/zip]\n",
            "Saving to: ‘glove.6B.zip’\n",
            "\n",
            "glove.6B.zip        100%[===================>] 822.24M  5.00MB/s    in 2m 43s  \n",
            "\n",
            "2021-06-22 16:27:29 (5.05 MB/s) - ‘glove.6B.zip’ saved [862182613/862182613]\n",
            "\n"
          ]
        }
      ],
      "source": [
        "# Download the GloVe embeddings\n",
        "!wget http://nlp.stanford.edu/data/glove.6B.zip"
      ]
    },
    {
      "cell_type": "code",
      "execution_count": 34,
      "metadata": {
        "colab": {
          "base_uri": "https://localhost:8080/"
        },
        "id": "FB-QK__2imbU",
        "outputId": "d42dfa4c-b1c6-40fc-ba9b-66c1de2b3306"
      },
      "outputs": [
        {
          "name": "stdout",
          "output_type": "stream",
          "text": [
            "Archive:  glove.6B.zip\n",
            "  inflating: glove.6B.50d.txt        \n",
            "  inflating: glove.6B.100d.txt       \n",
            "  inflating: glove.6B.200d.txt       \n",
            "  inflating: glove.6B.300d.txt       \n"
          ]
        }
      ],
      "source": [
        "!unzip glove.6B.zip"
      ]
    },
    {
      "cell_type": "markdown",
      "metadata": {
        "id": "px1UohEpgCOA"
      },
      "source": [
        "# Aplicación de GloVe\n"
      ]
    },
    {
      "cell_type": "markdown",
      "metadata": {
        "id": "3F9TiYsqgCOA"
      },
      "source": [
        "El algoritmo supervisado GloVe permite obtener palabras con similitudes en diferentes dimensiones; en las cuales se irán \n",
        "agrupando según características de los terminos en un espacio de concurrencias estadísticas. \n",
        "\n",
        "Se hará uso del archivo disponible en la universidad de Stanford: \n",
        "https://nlp.stanford.edu/projects/glove/\n"
      ]
    },
    {
      "cell_type": "code",
      "execution_count": 24,
      "metadata": {
        "id": "E13JGn_6gCOA"
      },
      "outputs": [],
      "source": [
        "# Seleccionar las cadenas de texto de las diferentes palabras. \n",
        "\n",
        "list_glove = ['depression', 'anxiety', 'death', 'addiction', 'suicide']\n",
        "\n",
        "Flagged_GloVe = []\n",
        "\n",
        "for word in list_glove: \n",
        "    for sentence in Flagged_basic:\n",
        "        if word in sentence.split(): \n",
        "            Flagged_GloVe.append(sentence)"
      ]
    },
    {
      "cell_type": "code",
      "execution_count": 25,
      "metadata": {
        "id": "qbmwkenKgCOA"
      },
      "outputs": [],
      "source": [
        "# Eliminar las cadenas duplicadas \n",
        "\n",
        "Flagged_GloVe = duplicated(Flagged_GloVe)"
      ]
    },
    {
      "cell_type": "code",
      "execution_count": 26,
      "metadata": {
        "id": "0itN5vgOjFpt"
      },
      "outputs": [],
      "source": [
        "# Creación de un diccionario a partir del archivo de vectores descargado, \n",
        "## en el cual se presenta el término junto con el conjunto de valores de los vectores.\n",
        "\n",
        "# Debido al tamaño el set de datos y la capacidad de procesamiento, se ha escogido \n",
        "## el archivo con 100 dimensiones.\n",
        "\n",
        "embeddings_dict = {}\n",
        "\n",
        "with open(\"./glove.6B.100d.txt\", 'r', encoding=\"utf-8\") as f:\n",
        "    for line in f:\n",
        "        values = line.split()\n",
        "        word = values[0]\n",
        "        vector = np.asarray(values[1:], \"float32\")\n",
        "        embeddings_dict[word] = vector"
      ]
    },
    {
      "cell_type": "code",
      "execution_count": 27,
      "metadata": {
        "id": "HT5EiAOgkEX0"
      },
      "outputs": [],
      "source": [
        "# Se define una función desde donde se calcula la distancia euclidiana con el algoritmo \"spatial\"\n",
        "## de la librería \"scipy\"\n",
        "\n",
        "# Fuente: https://medium.com/analytics-vidhya/basics-of-using-pre-trained-glove-vectors-in-python-d38905f356db\n",
        "\n",
        "def find_closest_embeddings(embedding):\n",
        "    return sorted(embeddings_dict.keys(), key=lambda word: spatial.distance.euclidean(embeddings_dict[word], embedding))"
      ]
    },
    {
      "cell_type": "markdown",
      "metadata": {
        "id": "1RfBnselxMvS"
      },
      "source": [
        "A partir del la función \"find_closest_embeddings\" en la cual a través de una función Lambda se calcula cada distancia respecto de una lista de términos, se procede a conocer los términos más cercanos de las palabras \n",
        "solicitada. "
      ]
    },
    {
      "cell_type": "code",
      "execution_count": 28,
      "metadata": {
        "colab": {
          "base_uri": "https://localhost:8080/"
        },
        "id": "_9KPLx6Uirxl",
        "outputId": "fe61f365-df47-4481-bdcb-32938054683b"
      },
      "outputs": [
        {
          "data": {
            "text/plain": [
              "['illness', 'anxiety', 'onset', 'alcoholism']"
            ]
          },
          "execution_count": 28,
          "metadata": {
            "tags": []
          },
          "output_type": "execute_result"
        }
      ],
      "source": [
        "depression = find_closest_embeddings(embeddings_dict[\"depression\"])[1:5]\n",
        "depression"
      ]
    },
    {
      "cell_type": "code",
      "execution_count": 29,
      "metadata": {
        "colab": {
          "base_uri": "https://localhost:8080/"
        },
        "id": "K7gDDLR4lFGk",
        "outputId": "d49bf17b-c77b-4125-d95c-9d1cd6e87db5"
      },
      "outputs": [
        {
          "data": {
            "text/plain": [
              "['nervousness', 'anger', 'paranoia', 'discomfort']"
            ]
          },
          "execution_count": 29,
          "metadata": {
            "tags": []
          },
          "output_type": "execute_result"
        }
      ],
      "source": [
        "anxiety = (find_closest_embeddings(embeddings_dict[\"anxiety\"])[1:5])\n",
        "anxiety"
      ]
    },
    {
      "cell_type": "code",
      "execution_count": 30,
      "metadata": {
        "colab": {
          "base_uri": "https://localhost:8080/"
        },
        "id": "OkgU1CMLlH0a",
        "outputId": "55cc69f6-e4e0-4ff1-af0a-ee7d7e21bb94"
      },
      "outputs": [
        {
          "data": {
            "text/plain": [
              "['died', 'victim', 'brought', 'brother']"
            ]
          },
          "execution_count": 30,
          "metadata": {
            "tags": []
          },
          "output_type": "execute_result"
        }
      ],
      "source": [
        "death = (find_closest_embeddings(embeddings_dict[\"death\"])[1:5])\n",
        "death"
      ]
    },
    {
      "cell_type": "code",
      "execution_count": 31,
      "metadata": {
        "colab": {
          "base_uri": "https://localhost:8080/"
        },
        "id": "tvh1ICq6lJYv",
        "outputId": "bc7df2ae-ee4e-4374-9539-8aac0beabac6"
      },
      "outputs": [
        {
          "data": {
            "text/plain": [
              "['alcoholism', 'addictions', 'addicted', 'addict']"
            ]
          },
          "execution_count": 31,
          "metadata": {
            "tags": []
          },
          "output_type": "execute_result"
        }
      ],
      "source": [
        "addiction = (find_closest_embeddings(embeddings_dict[\"addiction\"])[1:5])\n",
        "addiction"
      ]
    },
    {
      "cell_type": "code",
      "execution_count": 32,
      "metadata": {
        "colab": {
          "base_uri": "https://localhost:8080/"
        },
        "id": "caGL9LX8lK4V",
        "outputId": "06ec231f-fa3a-4b7d-f3b3-8cd52a38e9af"
      },
      "outputs": [
        {
          "data": {
            "text/plain": [
              "['attack', 'attacks', 'bombing', 'bombings']"
            ]
          },
          "execution_count": 32,
          "metadata": {
            "tags": []
          },
          "output_type": "execute_result"
        }
      ],
      "source": [
        "suicide = (find_closest_embeddings(embeddings_dict[\"suicide\"])[1:5])\n",
        "suicide"
      ]
    },
    {
      "cell_type": "markdown",
      "metadata": {
        "id": "MUdPgSkpxnxn"
      },
      "source": [
        "\n",
        "\n",
        "Observación: Se puede ver que las palabras más cercanas de los términos \"suicide\" y \"death\" no tienen relación semántica (al menos para nuestro objetivo final), \n",
        "con tanto peso como los otros términos. De igual manera con fines académicos, procedemos a observarlos en una gráfica; aunque luego solo se usará el resultado de los términos \"anxiety\", \"addiction\" y \"depression\"\n",
        "\n"
      ]
    },
    {
      "cell_type": "code",
      "execution_count": 43,
      "metadata": {
        "id": "1SzUMPvYlVtX"
      },
      "outputs": [],
      "source": [
        "words = anxiety + addiction + depression + death + suicide\n"
      ]
    },
    {
      "cell_type": "code",
      "execution_count": 44,
      "metadata": {
        "colab": {
          "base_uri": "https://localhost:8080/",
          "height": 265
        },
        "id": "ovU32mR5lMaf",
        "outputId": "c245701c-956f-4db0-edfc-10e9462a879b"
      },
      "outputs": [
        {
          "data": {
            "image/png": "[encoded data removed]",
            "text/plain": [
              "<Figure size 432x288 with 1 Axes>"
            ]
          },
          "metadata": {
            "needs_background": "light",
            "tags": []
          },
          "output_type": "display_data"
        }
      ],
      "source": [
        "vectors = [embeddings_dict[word] for word in words]\n",
        "\n",
        "tsne = TSNE(n_components=2, random_state=0)\n",
        "Y = tsne.fit_transform(vectors[:1000])\n",
        "plt.scatter(Y[:, 0], Y[:, 1])\n",
        "\n",
        "for label, x, y in zip(words, Y[:, 0], Y[:, 1]):\n",
        "    plt.annotate(label, xy=(x, y), xytext=(0, 0), textcoords=\"offset points\")\n",
        "\n",
        "plt.show()"
      ]
    },
    {
      "cell_type": "markdown",
      "metadata": {
        "id": "sT2pmNYlyZez"
      },
      "source": [
        "Observación: es interesante cómo se relacionan en dos dimensiones estos términos de la clase \"flagged\""
      ]
    },
    {
      "cell_type": "code",
      "execution_count": 46,
      "metadata": {
        "id": "gBriaLAjn5WV"
      },
      "outputs": [],
      "source": [
        "flagged_temp = []\n",
        "\n",
        "# Función para sustituir de manera aleatoria \n",
        "## según términos específicos de los seleccionados\n",
        "\n",
        "def sub_word(index, word_list, sentence_list): \n",
        "  temp = []\n",
        "  for sentence in sentence_list:\n",
        "    if index in sentence.split():\n",
        "      word_choice = choice(word_list)\n",
        "      new_sentence = re.sub(index, word_choice, sentence)\n",
        "      temp.append(new_sentence)\n",
        "  return(temp)"
      ]
    },
    {
      "cell_type": "code",
      "execution_count": 47,
      "metadata": {
        "id": "SGPXEcj_n_bw"
      },
      "outputs": [],
      "source": [
        "flagged_temp.extend(sub_word('depression', depression, Flagged_GloVe))"
      ]
    },
    {
      "cell_type": "code",
      "execution_count": 48,
      "metadata": {
        "id": "M2lO3BLeoPKn"
      },
      "outputs": [],
      "source": [
        "flagged_temp.extend(sub_word('anxiety', anxiety, Flagged_GloVe))"
      ]
    },
    {
      "cell_type": "code",
      "execution_count": 49,
      "metadata": {
        "id": "j1TWLnU_oZqJ"
      },
      "outputs": [],
      "source": [
        "flagged_temp.extend(sub_word('addiction', addiction, Flagged_GloVe))"
      ]
    },
    {
      "cell_type": "code",
      "execution_count": 54,
      "metadata": {
        "colab": {
          "base_uri": "https://localhost:8080/"
        },
        "id": "8Vb1qfb3ozsI",
        "outputId": "3815b356-8004-4cb8-c588-a2ca478363e2"
      },
      "outputs": [
        {
          "name": "stdout",
          "output_type": "stream",
          "text": [
            "Muestra de las cadenas de texto ya sustituidas:\n"
          ]
        },
        {
          "data": {
            "text/plain": [
              "['anxiety girl',\n",
              " 'as though her addict define she as a person',\n",
              " 'big addictions issue',\n",
              " 'deal discomfort desire everything life',\n",
              " 'ex alcoholism anxiety',\n",
              " 'ex depression discomfort',\n",
              " 'ex have depression and paranoia',\n",
              " 'ex have onset and anxiety',\n",
              " 'go anxiety anxiety',\n",
              " 'go depression nervousness',\n",
              " 'go period intense onset make sure',\n",
              " 'good diagnose anger disorder depression',\n",
              " 'good diagnose anxiety disorder illness',\n",
              " 'grandmother go severe alcoholism shortly difficulty',\n",
              " 'having go through depression and paranoia myself',\n",
              " 'having go through illness and anxiety myself',\n",
              " 'my be go through a period of intense anxiety and i make sure that',\n",
              " 'my deal with anger and this desire for everything in her life to be',\n",
              " 'my good be diagnose with anxiety disorder and onset',\n",
              " 'my good be diagnose with nervousness disorder and depression',\n",
              " 'my grandmother go through some severe illness shortly after i have some difficulty',\n",
              " 'my now use to have serious addict trouble before we start date and feel',\n",
              " 'onset emotional problem',\n",
              " 'open mental alcoholism weed',\n",
              " 'she think that all see when they look at she be the addicted',\n",
              " 'think see look addict',\n",
              " 'though addict define person',\n",
              " 'use serious addictions trouble start date feel',\n",
              " 'who have big addicted issue',\n",
              " 'y deal with anger and this desire for everything in her life to be']"
            ]
          },
          "execution_count": 54,
          "metadata": {
            "tags": []
          },
          "output_type": "execute_result"
        }
      ],
      "source": [
        "Flagged_GloVe_2 = [sentence for sentence in list(flagged_temp) if len(str(sentence.split())) > 4]\n",
        "print(\"Muestra de las cadenas de texto ya sustituidas:\")\n",
        "sorted(Flagged_GloVe_2)"
      ]
    },
    {
      "cell_type": "code",
      "execution_count": 55,
      "metadata": {
        "colab": {
          "base_uri": "https://localhost:8080/"
        },
        "id": "O0V9x0u_zcb3",
        "outputId": "c1c9bdad-8d06-4df1-fade-4bc8f834df63"
      },
      "outputs": [
        {
          "name": "stdout",
          "output_type": "stream",
          "text": [
            "Longitud del la nueva cadena:\n"
          ]
        },
        {
          "data": {
            "text/plain": [
              "30"
            ]
          },
          "execution_count": 55,
          "metadata": {
            "tags": []
          },
          "output_type": "execute_result"
        }
      ],
      "source": [
        "print(\"Longitud del la nueva cadena:\")\n",
        "len(Flagged_GloVe_2)"
      ]
    },
    {
      "cell_type": "code",
      "execution_count": 52,
      "metadata": {
        "id": "3Sxg283nsrlk"
      },
      "outputs": [],
      "source": [
        "pickle.dump(Flagged_GloVe_2, open(\"./Flagged_GloVe.p\", \"wb\" ))"
      ]
    },
    {
      "cell_type": "markdown",
      "metadata": {
        "id": "BzxV6h20zXSe"
      },
      "source": [
        "# Observación final: \n",
        "\n",
        "* Se puede observar el uso sencillo de términos con más cercanía en el significado según el uso de palabras vectorizadas. \n",
        "* Aunque el aumento parezca pequeño, es mayor al 100% del dataset inicial en esta etiqueta con la diferencia de que estás cadenas de textos están optimizadas. \n",
        "* Por último paso, las guardamos de modo binarizadas. "
      ]
    }
  ],
  "metadata": {
    "colab": {
      "name": "2 - Aumento de data - v1.ipynb",
      "provenance": []
    },
    "interpreter": {
      "hash": "2d8c4e0adecca2f9bb6152916de834ccf75a0d1de20f0239611dabd3480e2716"
    },
    "kernelspec": {
      "display_name": "Python 3.9.4 64-bit",
      "name": "python3"
    },
    "language_info": {
      "name": "python",
      "version": ""
    },
    "metadata": {
      "interpreter": {
        "hash": "2d8c4e0adecca2f9bb6152916de834ccf75a0d1de20f0239611dabd3480e2716"
      }
    },
    "orig_nbformat": 2
  },
  "nbformat": 4,
  "nbformat_minor": 0
}