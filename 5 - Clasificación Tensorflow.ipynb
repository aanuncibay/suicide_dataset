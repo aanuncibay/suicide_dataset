{
  "cells": [
    {
      "cell_type": "markdown",
      "metadata": {},
      "source": [
        "# Carga de librerías y funciones necesarias"
      ]
    },
    {
      "cell_type": "code",
      "execution_count": 1,
      "metadata": {
        "id": "XYYDvoskkE61"
      },
      "outputs": [],
      "source": [
        "import tensorflow as tf\r\n",
        "import pickle\r\n",
        "import numpy as np\r\n",
        "import matplotlib.pyplot as plt\r\n",
        "import pickle\r\n",
        "import re\r\n",
        "import string\r\n",
        "import spacy\r\n",
        "\r\n",
        "from string import digits\r\n",
        "\r\n",
        "sp = spacy.load('en_core_web_sm')\r\n",
        "\r\n",
        "from string import digits\r\n",
        "from tensorflow.keras.preprocessing.text import Tokenizer\r\n",
        "from tensorflow.keras.preprocessing.sequence import pad_sequences"
      ]
    },
    {
      "cell_type": "code",
      "execution_count": 2,
      "metadata": {},
      "outputs": [],
      "source": [
        "def cut_text_len(list):\r\n",
        "    temp = []\r\n",
        "    temp_coma = []\r\n",
        "    temp_list = []\r\n",
        "\r\n",
        "    for sentence in list: temp.extend(sentence.split('.'))\r\n",
        "    for sentence in temp: temp_coma.extend(sentence.split(','))\r\n",
        "    temp_coma = [sentence for sentence in temp_coma if len(sentence.split()) > 2]\r\n",
        "\r\n",
        "    for sentence in temp_coma:\r\n",
        "        text = sentence.split()\r\n",
        "        new_sentence = ''\r\n",
        "        len_sentence = 0\r\n",
        "        mess = len(text)\r\n",
        "        while mess > 0:\r\n",
        "            new_sentence += text[0] + ' '\r\n",
        "            text.pop(0)\r\n",
        "            len_sentence += 1\r\n",
        "            mess = len(text)\r\n",
        "            if len_sentence == 15:            \r\n",
        "                temp_list.append(new_sentence)\r\n",
        "                new_sentence = ''\r\n",
        "                len_sentence = 0\r\n",
        "                mess = len(text)\r\n",
        "            elif mess == 0:\r\n",
        "                mess = len(new_sentence.split())\r\n",
        "                if mess <= 2:\r\n",
        "                    break\r\n",
        "                temp_list.append(new_sentence)\r\n",
        "                break\r\n",
        "    return(temp_list)\r\n",
        "\r\n",
        "def clean_text(list):   \r\n",
        "    text_clean = []\r\n",
        "    for text in list:\r\n",
        "        text = text.lower()\r\n",
        "        new_text = ''\r\n",
        "        for word in text.split():\r\n",
        "            for key in contractions:\r\n",
        "                if word == key:\r\n",
        "                    word = contractions[key]\r\n",
        "            new_text += word + ' '\r\n",
        "        text = re.sub(r'([a-zA-Z0-9+._-]+@[a-zA-Z0-9._-]+\\.[a-zA-Z0-9_-]+)', '', new_text) \r\n",
        "        text = re.sub(patron_web, '', text)\r\n",
        "        table = str.maketrans(' ', ' ', string.punctuation)\r\n",
        "        stripped = [word.translate(table) for word in text]\r\n",
        "        text = ''.join(stripped)\r\n",
        "        table = str.maketrans('', '', digits)\r\n",
        "        newtext = text.translate(table)\r\n",
        "        newtext = re.sub(\"\\'\", '', newtext)\r\n",
        "        text_clean.append(newtext)\r\n",
        "\r\n",
        "    return(text_clean)\r\n",
        "\r\n",
        "# Fuente: https://kgptalkie.com/3664-2/\r\n",
        "# Lista de contracciones en inglés extraída de \"NLP: End to End Text Processing for Beginners\" (., Roshan)\r\n",
        "\r\n",
        "contractions = { \r\n",
        "\"ain't\": \"am not\",\r\n",
        "\"aren't\": \"are not\",\r\n",
        "\"can't\": \"cannot\",\r\n",
        "\"can't've\": \"cannot have\",\r\n",
        "\"'cause\": \"because\",\r\n",
        "\"could've\": \"could have\",\r\n",
        "\"couldn't\": \"could not\",\r\n",
        "\"couldn't've\": \"could not have\",\r\n",
        "\"didn't\": \"did not\",\r\n",
        "\"doesn't\": \"does not\",\r\n",
        "\"don't\": \"do not\",\r\n",
        "\"hadn't\": \"had not\",\r\n",
        "\"hadn't've\": \"had not have\",\r\n",
        "\"hasn't\": \"has not\",\r\n",
        "\"haven't\": \"have not\",\r\n",
        "\"he'd\": \"he would\",\r\n",
        "\"he'd've\": \"he would have\",\r\n",
        "\"he'll\": \"he will\",\r\n",
        "\"he'll've\": \"he will have\",\r\n",
        "\"he's\": \"he is\",\r\n",
        "\"how'd\": \"how did\",\r\n",
        "\"how'd'y\": \"how do you\",\r\n",
        "\"how'll\": \"how will\",\r\n",
        "\"how's\": \"how does\",\r\n",
        "\"i'd\": \"i would\",\r\n",
        "\"i'd've\": \"i would have\",\r\n",
        "\"i'll\": \"i will\",\r\n",
        "\"i'll've\": \"i will have\",\r\n",
        "\"i'm\": \"i am\",\r\n",
        "\"i've\": \"i have\",\r\n",
        "\"isn't\": \"is not\",\r\n",
        "\"it'd\": \"it would\",\r\n",
        "\"it'd've\": \"it would have\",\r\n",
        "\"it'll\": \"it will\",\r\n",
        "\"it'll've\": \"it will have\",\r\n",
        "\"it's\": \"it is\",\r\n",
        "\"let's\": \"let us\",\r\n",
        "\"ma'am\": \"madam\",\r\n",
        "\"mayn't\": \"may not\",\r\n",
        "\"might've\": \"might have\",\r\n",
        "\"mightn't\": \"might not\",\r\n",
        "\"mightn't've\": \"might not have\",\r\n",
        "\"must've\": \"must have\",\r\n",
        "\"mustn't\": \"must not\",\r\n",
        "\"mustn't've\": \"must not have\",\r\n",
        "\"needn't\": \"need not\",\r\n",
        "\"needn't've\": \"need not have\",\r\n",
        "\"o'clock\": \"of the clock\",\r\n",
        "\"oughtn't\": \"ought not\",\r\n",
        "\"oughtn't've\": \"ought not have\",\r\n",
        "\"shan't\": \"shall not\",\r\n",
        "\"sha'n't\": \"shall not\",\r\n",
        "\"shan't've\": \"shall not have\",\r\n",
        "\"she'd\": \"she would\",\r\n",
        "\"she'd've\": \"she would have\",\r\n",
        "\"she'll\": \"she will\",\r\n",
        "\"she'll've\": \"she will have\",\r\n",
        "\"she's\": \"she is\",\r\n",
        "\"should've\": \"should have\",\r\n",
        "\"shouldn't\": \"should not\",\r\n",
        "\"shouldn't've\": \"should not have\",\r\n",
        "\"so've\": \"so have\",\r\n",
        "\"so's\": \"so is\",\r\n",
        "\"that'd\": \"that would\",\r\n",
        "\"that'd've\": \"that would have\",\r\n",
        "\"that's\": \"that is\",\r\n",
        "\"there'd\": \"there would\",\r\n",
        "\"there'd've\": \"there would have\",\r\n",
        "\"there's\": \"there is\",\r\n",
        "\"they'd\": \"they would\",\r\n",
        "\"they'd've\": \"they would have\",\r\n",
        "\"they'll\": \"they will\",\r\n",
        "\"they'll've\": \"they will have\",\r\n",
        "\"they're\": \"they are\",\r\n",
        "\"they've\": \"they have\",\r\n",
        "\"to've\": \"to have\",\r\n",
        "\"wasn't\": \"was not\",\r\n",
        "\"aint\": \"am not\",\r\n",
        "\"arent\": \"are not\",\r\n",
        "\"cant\": \"can not\",\r\n",
        "\"cantve\": \"cannot have\",\r\n",
        "\"cause\": \"because\",\r\n",
        "\"couldve\": \"could have\",\r\n",
        "\"couldnt\": \"could not\",\r\n",
        "\"couldntve\": \"could not have\",\r\n",
        "\"didnt\": \"did not\",\r\n",
        "\"doesnt\": \"does not\",\r\n",
        "\"dont\": \"do not\",\r\n",
        "\"hadnt\": \"had not\",\r\n",
        "\"hadntve\": \"had not have\",\r\n",
        "\"hasnt\": \"has not\",\r\n",
        "\"havent\": \"have not\",\r\n",
        "\"hed\": \"he would\",\r\n",
        "\"hedve\": \"he would have\",\r\n",
        "\"hell\": \"he will\",\r\n",
        "\"hellve\": \"he will have\",\r\n",
        "\"hes\": \"he is\",\r\n",
        "\"howd\": \"how did\",\r\n",
        "\"howdy\": \"how do you\",\r\n",
        "\"howll\": \"how will\",\r\n",
        "\"hows\": \"how does\",\r\n",
        "\"id\": \"i would\",\r\n",
        "\"idve\": \"i would have\",\r\n",
        "\"ill\": \"i will\",\r\n",
        "\"illve\": \"i will have\",\r\n",
        "\"im\": \"i am\",\r\n",
        "\"ive\": \"i have\",\r\n",
        "\"isnt\": \"is not\",\r\n",
        "\"itd\": \"it would\",\r\n",
        "\"itdve\": \"it would have\",\r\n",
        "\"itll\": \"it will\",\r\n",
        "\"itllve\": \"it will have\",\r\n",
        "\"its\": \"it is\",\r\n",
        "\"lets\": \"let us\",\r\n",
        "\"maam\": \"madam\",\r\n",
        "\"maynt\": \"may not\",\r\n",
        "\"mightve\": \"might have\",\r\n",
        "\"mightnt\": \"might not\",\r\n",
        "\"mightntve\": \"might not have\",\r\n",
        "\"mustve\": \"must have\",\r\n",
        "\"mustnt\": \"must not\",\r\n",
        "\"mustntve\": \"must not have\",\r\n",
        "\"neednt\": \"need not\",\r\n",
        "\"needntve\": \"need not have\",\r\n",
        "\"oclock\": \"of the clock\",\r\n",
        "\"oughtnt\": \"ought not\",\r\n",
        "\"oughtntve\": \"ought not have\",\r\n",
        "\"shant\": \"shall not\",\r\n",
        "\"shant\": \"shall not\",\r\n",
        "\"shantve\": \"shall not have\",\r\n",
        "\"shed\": \"she would\",\r\n",
        "\"shedve\": \"she would have\",\r\n",
        "\"shell\": \"she will\",\r\n",
        "\"shellve\": \"she will have\",\r\n",
        "\"shes\": \"she is\",\r\n",
        "\"shouldve\": \"should have\",\r\n",
        "\"shouldnt\": \"should not\",\r\n",
        "\"shouldntve\": \"should not have\",\r\n",
        "\"sove\": \"so have\",\r\n",
        "\"sos\": \"so is\",\r\n",
        "\"thatd\": \"that would\",\r\n",
        "\"thatdve\": \"that would have\",\r\n",
        "\"thats\": \"that is\",\r\n",
        "\"thered\": \"there would\",\r\n",
        "\"theredve\": \"there would have\",\r\n",
        "\"theres\": \"there is\",\r\n",
        "\"theyd\": \"they would\",\r\n",
        "\"theydve\": \"they would have\",\r\n",
        "\"theyll\": \"they will\",\r\n",
        "\"theyllve\": \"they will have\",\r\n",
        "\"theyre\": \"they are\",\r\n",
        "\"theyve\": \"they have\",\r\n",
        "\"tove\": \"to have\",\r\n",
        "\"wasnt\": \"was not\", \r\n",
        "\"u\": \" you  \",\r\n",
        "\"ur\": \"your\", \r\n",
        "\"n\": \"and\", \r\n",
        "\"friends\": \"\",\r\n",
        "\"friend\":\"\",\r\n",
        "\"people\":\"\",\r\n",
        "\"girl\":\"\",\r\n",
        "\"girlfriend\": \"\",\r\n",
        "\"grl\":\"\",\r\n",
        "\"nt\": \"not\",\r\n",
        "\"gf\": \"\", \r\n",
        "\"cuttersuicidal\": \"suicidal\", \r\n",
        "\"idk\": \"i do not know\", \r\n",
        "\"theripist\": \"therapist\",\r\n",
        "\"s\": \"is\",\r\n",
        "\"mt\": \"\",\r\n",
        "\"cuttersuicidal\": \"cutter suicidal\"\r\n",
        "}\r\n",
        "\r\n",
        "patron_web = r'(http|ftp|https)://([\\w_-]+(?:(?:\\.[\\w_-]+)+))([\\w.,@?^=%&:/~+#-]*[\\w@?^=%&/~+#-])?'\r\n",
        "\r\n",
        "def duplicated(list): \r\n",
        "    temp = []\r\n",
        "    for sentence in list:\r\n",
        "        new_sentence = sentence.split() \r\n",
        "        new_sentece_join = ' '.join(new_sentence)\r\n",
        "        temp.append(new_sentece_join)\r\n",
        "    return(temp)\r\n",
        "\r\n",
        "def text_to_spacy(list): \r\n",
        "    temp = []\r\n",
        "    for sentence in list:\r\n",
        "        new_sentence = ''\r\n",
        "        for word in sp(str(sentence)):\r\n",
        "            new_sentence += word.lemma_ + ' '\r\n",
        "        temp.append(new_sentence.lower())\r\n",
        "    return(temp)"
      ]
    },
    {
      "cell_type": "markdown",
      "metadata": {},
      "source": [
        "# Preparación de la data"
      ]
    },
    {
      "cell_type": "code",
      "execution_count": 3,
      "metadata": {},
      "outputs": [
        {
          "data": {
            "text/html": [
              "<div>\n",
              "<style scoped>\n",
              "    .dataframe tbody tr th:only-of-type {\n",
              "        vertical-align: middle;\n",
              "    }\n",
              "\n",
              "    .dataframe tbody tr th {\n",
              "        vertical-align: top;\n",
              "    }\n",
              "\n",
              "    .dataframe thead th {\n",
              "        text-align: right;\n",
              "    }\n",
              "</style>\n",
              "<table border=\"1\" class=\"dataframe\">\n",
              "  <thead>\n",
              "    <tr style=\"text-align: right;\">\n",
              "      <th></th>\n",
              "      <th>text</th>\n",
              "      <th>label</th>\n",
              "      <th>label_bi</th>\n",
              "      <th>index</th>\n",
              "    </tr>\n",
              "  </thead>\n",
              "  <tbody>\n",
              "    <tr>\n",
              "      <th>651</th>\n",
              "      <td>ex have onset and anxiety</td>\n",
              "      <td>flagged</td>\n",
              "      <td>1</td>\n",
              "      <td>-909</td>\n",
              "    </tr>\n",
              "    <tr>\n",
              "      <th>108</th>\n",
              "      <td>dumps expressing one schoolwork so think my li...</td>\n",
              "      <td>not_flagged</td>\n",
              "      <td>0</td>\n",
              "      <td>-903</td>\n",
              "    </tr>\n",
              "    <tr>\n",
              "      <th>441</th>\n",
              "      <td>that need it be a fairly common occurrence</td>\n",
              "      <td>not_flagged</td>\n",
              "      <td>0</td>\n",
              "      <td>-837</td>\n",
              "    </tr>\n",
              "    <tr>\n",
              "      <th>736</th>\n",
              "      <td>i call back and get a hospital number so i kno...</td>\n",
              "      <td>flagged</td>\n",
              "      <td>1</td>\n",
              "      <td>-833</td>\n",
              "    </tr>\n",
              "    <tr>\n",
              "      <th>145</th>\n",
              "      <td>gave least went campingsurfing week work throu...</td>\n",
              "      <td>not_flagged</td>\n",
              "      <td>0</td>\n",
              "      <td>-783</td>\n",
              "    </tr>\n",
              "    <tr>\n",
              "      <th>321</th>\n",
              "      <td>others even truth hurts best way start even would</td>\n",
              "      <td>not_flagged</td>\n",
              "      <td>0</td>\n",
              "      <td>-758</td>\n",
              "    </tr>\n",
              "    <tr>\n",
              "      <th>451</th>\n",
              "      <td>thing</td>\n",
              "      <td>not_flagged</td>\n",
              "      <td>0</td>\n",
              "      <td>-736</td>\n",
              "    </tr>\n",
              "    <tr>\n",
              "      <th>250</th>\n",
              "      <td>letting know fell open dialog</td>\n",
              "      <td>not_flagged</td>\n",
              "      <td>0</td>\n",
              "      <td>-718</td>\n",
              "    </tr>\n",
              "    <tr>\n",
              "      <th>641</th>\n",
              "      <td>eventually anything time end trouble start date</td>\n",
              "      <td>flagged</td>\n",
              "      <td>1</td>\n",
              "      <td>-708</td>\n",
              "    </tr>\n",
              "    <tr>\n",
              "      <th>631</th>\n",
              "      <td>either death hold talk they look addiction def...</td>\n",
              "      <td>flagged</td>\n",
              "      <td>1</td>\n",
              "      <td>-705</td>\n",
              "    </tr>\n",
              "  </tbody>\n",
              "</table>\n",
              "</div>"
            ],
            "text/plain": [
              "                                                  text        label  label_bi  \\\n",
              "651                          ex have onset and anxiety      flagged         1   \n",
              "108  dumps expressing one schoolwork so think my li...  not_flagged         0   \n",
              "441         that need it be a fairly common occurrence  not_flagged         0   \n",
              "736  i call back and get a hospital number so i kno...      flagged         1   \n",
              "145  gave least went campingsurfing week work throu...  not_flagged         0   \n",
              "321  others even truth hurts best way start even would  not_flagged         0   \n",
              "451                                              thing  not_flagged         0   \n",
              "250                      letting know fell open dialog  not_flagged         0   \n",
              "641    eventually anything time end trouble start date      flagged         1   \n",
              "631  either death hold talk they look addiction def...      flagged         1   \n",
              "\n",
              "     index  \n",
              "651   -909  \n",
              "108   -903  \n",
              "441   -837  \n",
              "736   -833  \n",
              "145   -783  \n",
              "321   -758  \n",
              "451   -736  \n",
              "250   -718  \n",
              "641   -708  \n",
              "631   -705  "
            ]
          },
          "execution_count": 3,
          "metadata": {},
          "output_type": "execute_result"
        }
      ],
      "source": [
        "df = pickle.load(open(\"./data/df.p\", \"rb\" ))\r\n",
        "df.head(10)"
      ]
    },
    {
      "cell_type": "code",
      "execution_count": 4,
      "metadata": {},
      "outputs": [
        {
          "data": {
            "text/plain": [
              "[1, 0, 0, 1, 0]"
            ]
          },
          "execution_count": 4,
          "metadata": {},
          "output_type": "execute_result"
        }
      ],
      "source": [
        "sentences = df['text'].to_list()\r\n",
        "labels = df['label_bi'].to_list()\r\n",
        "labels[:5]"
      ]
    },
    {
      "cell_type": "code",
      "execution_count": 5,
      "metadata": {
        "id": "0eJSTTYnkJQd"
      },
      "outputs": [],
      "source": [
        "vocab_size = 620\r\n",
        "embedding_dim = 24\r\n",
        "max_length = 16\r\n",
        "trunc_type='pre'\r\n",
        "padding_type='pre'\r\n",
        "oov_tok = \"<OOV>\"\r\n",
        "training_size = int(len(sentences)*0.80)"
      ]
    },
    {
      "cell_type": "code",
      "execution_count": 6,
      "metadata": {
        "id": "S1sD-7v0kYWk"
      },
      "outputs": [],
      "source": [
        "training_sentences = sentences[0:training_size]\n",
        "testing_sentences = sentences[training_size:]\n",
        "training_labels = labels[0:training_size]\n",
        "testing_labels = labels[training_size:]"
      ]
    },
    {
      "cell_type": "code",
      "execution_count": 7,
      "metadata": {},
      "outputs": [],
      "source": [
        "tokenizer = Tokenizer(num_words=vocab_size, oov_token=oov_tok)\r\n",
        "tokenizer.fit_on_texts(training_sentences)\r\n",
        "word_index = tokenizer.word_index"
      ]
    },
    {
      "cell_type": "code",
      "execution_count": 8,
      "metadata": {
        "id": "3u8UB0MCkZ5N"
      },
      "outputs": [],
      "source": [
        "training_sequences = tokenizer.texts_to_sequences(training_sentences)\r\n",
        "training_padded = pad_sequences(training_sequences, maxlen=max_length, padding=padding_type, truncating=trunc_type)\r\n",
        "\r\n",
        "testing_sequences = tokenizer.texts_to_sequences(testing_sentences)\r\n",
        "testing_padded = pad_sequences(testing_sequences, maxlen=max_length, padding=padding_type, truncating=trunc_type)"
      ]
    },
    {
      "cell_type": "code",
      "execution_count": 9,
      "metadata": {
        "id": "GrAlWBKf99Ya"
      },
      "outputs": [],
      "source": [
        "training_padded = np.array(training_padded)\r\n",
        "training_labels = np.array(training_labels)\r\n",
        "testing_padded = np.array(testing_padded)\r\n",
        "testing_labels = np.array(testing_labels)\r\n"
      ]
    },
    {
      "cell_type": "code",
      "execution_count": 10,
      "metadata": {},
      "outputs": [
        {
          "name": "stdout",
          "output_type": "stream",
          "text": [
            "dealing confines head little bit openness dealing troubles\n",
            "[  0   0   0   0   0   0   0   0 311 199 146  72 132 420 311 147]\n"
          ]
        }
      ],
      "source": [
        "print(testing_sentences[1])\r\n",
        "print(testing_padded[1])\r\n"
      ]
    },
    {
      "cell_type": "code",
      "execution_count": 11,
      "metadata": {
        "id": "FufaT4vlkiDE"
      },
      "outputs": [],
      "source": [
        "model = tf.keras.Sequential([\r\n",
        "     tf.keras.layers.Embedding(vocab_size, embedding_dim, input_length=max_length),\r\n",
        "     tf.keras.layers.Dropout(0.3),\r\n",
        "     tf.keras.layers.LSTM(100),\r\n",
        "     tf.keras.layers.Dropout(0.3),\r\n",
        "     tf.keras.layers.Dense(1, activation='sigmoid')\r\n",
        " ])\r\n"
      ]
    },
    {
      "cell_type": "code",
      "execution_count": 12,
      "metadata": {
        "id": "XfDt1hmYkiys"
      },
      "outputs": [
        {
          "name": "stdout",
          "output_type": "stream",
          "text": [
            "Model: \"sequential\"\n",
            "_________________________________________________________________\n",
            "Layer (type)                 Output Shape              Param #   \n",
            "=================================================================\n",
            "embedding (Embedding)        (None, 16, 24)            14880     \n",
            "_________________________________________________________________\n",
            "dropout (Dropout)            (None, 16, 24)            0         \n",
            "_________________________________________________________________\n",
            "lstm (LSTM)                  (None, 100)               50000     \n",
            "_________________________________________________________________\n",
            "dropout_1 (Dropout)          (None, 100)               0         \n",
            "_________________________________________________________________\n",
            "dense (Dense)                (None, 1)                 101       \n",
            "=================================================================\n",
            "Total params: 64,981\n",
            "Trainable params: 64,981\n",
            "Non-trainable params: 0\n",
            "_________________________________________________________________\n"
          ]
        }
      ],
      "source": [
        "model.summary()"
      ]
    },
    {
      "cell_type": "code",
      "execution_count": 13,
      "metadata": {},
      "outputs": [],
      "source": [
        "model.compile(loss='binary_crossentropy',optimizer='adam',metrics=['accuracy'])"
      ]
    },
    {
      "cell_type": "code",
      "execution_count": 20,
      "metadata": {
        "id": "2DTKQFf1kkyc"
      },
      "outputs": [
        {
          "name": "stdout",
          "output_type": "stream",
          "text": [
            "Epoch 1/10\n",
            "26/26 [==============================] - 0s 13ms/step - loss: 0.1155 - accuracy: 0.9516 - val_loss: 0.1929 - val_accuracy: 0.9356\n",
            "Epoch 2/10\n",
            "26/26 [==============================] - 0s 12ms/step - loss: 0.0863 - accuracy: 0.9752 - val_loss: 0.1969 - val_accuracy: 0.9257\n",
            "Epoch 3/10\n",
            "26/26 [==============================] - 0s 11ms/step - loss: 0.1030 - accuracy: 0.9727 - val_loss: 0.2714 - val_accuracy: 0.9010\n",
            "Epoch 4/10\n",
            "26/26 [==============================] - 0s 10ms/step - loss: 0.0720 - accuracy: 0.9764 - val_loss: 0.1833 - val_accuracy: 0.9307\n",
            "Epoch 5/10\n",
            "26/26 [==============================] - 0s 10ms/step - loss: 0.0615 - accuracy: 0.9764 - val_loss: 0.1351 - val_accuracy: 0.9554\n",
            "Epoch 6/10\n",
            "26/26 [==============================] - 0s 13ms/step - loss: 0.0509 - accuracy: 0.9777 - val_loss: 0.1290 - val_accuracy: 0.9505\n",
            "Epoch 7/10\n",
            "26/26 [==============================] - 0s 10ms/step - loss: 0.0470 - accuracy: 0.9777 - val_loss: 0.1266 - val_accuracy: 0.9604\n",
            "Epoch 8/10\n",
            "26/26 [==============================] - 0s 10ms/step - loss: 0.0526 - accuracy: 0.9764 - val_loss: 0.1071 - val_accuracy: 0.9604\n",
            "Epoch 9/10\n",
            "26/26 [==============================] - 0s 13ms/step - loss: 0.0361 - accuracy: 0.9926 - val_loss: 0.1019 - val_accuracy: 0.9554\n",
            "Epoch 10/10\n",
            "26/26 [==============================] - 0s 10ms/step - loss: 0.0405 - accuracy: 0.9888 - val_loss: 0.1162 - val_accuracy: 0.9505\n"
          ]
        }
      ],
      "source": [
        "num_epochs = 10\r\n",
        "history = model.fit(training_padded, training_labels, epochs = num_epochs, validation_data=(testing_padded, testing_labels), verbose=1) "
      ]
    },
    {
      "cell_type": "code",
      "execution_count": 21,
      "metadata": {
        "id": "2HYfBKXjkmU8"
      },
      "outputs": [
        {
          "data": {
            "image/png": "[encoded data removed]",
            "text/plain": [
              "<Figure size 432x288 with 1 Axes>"
            ]
          },
          "metadata": {
            "needs_background": "light"
          },
          "output_type": "display_data"
        },
        {
          "data": {
            "image/png": "[encoded data removed]",
            "text/plain": [
              "<Figure size 432x288 with 1 Axes>"
            ]
          },
          "metadata": {
            "needs_background": "light"
          },
          "output_type": "display_data"
        }
      ],
      "source": [
        "def plot_graphs(history, string):\r\n",
        "  plt.plot(history.history[string])\r\n",
        "  plt.plot(history.history['val_'+string])\r\n",
        "  plt.xlabel(\"Epochs\")\r\n",
        "  plt.ylabel(string)\r\n",
        "  plt.legend([string, 'val_'+string])\r\n",
        "  plt.show()\r\n",
        "  \r\n",
        "plot_graphs(history, \"accuracy\")\r\n",
        "plot_graphs(history, \"loss\")"
      ]
    },
    {
      "cell_type": "markdown",
      "metadata": {},
      "source": [
        "# Ejemplo #1"
      ]
    },
    {
      "cell_type": "code",
      "execution_count": 26,
      "metadata": {},
      "outputs": [],
      "source": [
        "new_sentences = data = [\"I've some anxiety and some days want to die\", \r\n",
        "                        \"I help her with her depression\",\r\n",
        "                        \"I'm very sad and depressed today. want to finish it \", \r\n",
        "                        \"Some of my friends are suicidal\", \r\n",
        "                        \"I am happy and joyful \"]"
      ]
    },
    {
      "cell_type": "code",
      "execution_count": 27,
      "metadata": {},
      "outputs": [],
      "source": [
        "new_sentences = cut_text_len(new_sentences)\r\n",
        "new_sentences = clean_text(new_sentences)\r\n",
        "new_sentences = text_to_spacy(new_sentences)\r\n",
        "new_sentences = duplicated(new_sentences)"
      ]
    },
    {
      "cell_type": "code",
      "execution_count": 28,
      "metadata": {
        "id": "cG8-ArY-qDcz"
      },
      "outputs": [],
      "source": [
        "sequences = tokenizer.texts_to_sequences(new_sentences)\r\n",
        "padded = pad_sequences(sequences, maxlen=max_length, padding=padding_type, truncating=trunc_type)\r\n",
        "total = model.predict(padded)"
      ]
    },
    {
      "cell_type": "code",
      "execution_count": 29,
      "metadata": {},
      "outputs": [
        {
          "name": "stdout",
          "output_type": "stream",
          "text": [
            "i have some anxiety and some day want to die : 0.9480705261230469\n",
            "i help she with her depression : 0.9773111343383789\n",
            "i be very sad and depressed today : 0.9946457147598267\n",
            "want to finish it : 0.48846158385276794\n",
            "some of my be suicidal : 0.02422255277633667\n",
            "i be happy and joyful : 0.07623383402824402\n"
          ]
        }
      ],
      "source": [
        "i = 0\r\n",
        "for sentence in new_sentences: \r\n",
        "    print(sentence , ':',  str(float(total[i])))\r\n",
        "    i += 1"
      ]
    },
    {
      "cell_type": "markdown",
      "metadata": {},
      "source": [
        "# Ejemplo #2"
      ]
    },
    {
      "cell_type": "code",
      "execution_count": 34,
      "metadata": {},
      "outputs": [],
      "source": [
        "new_sentences = [\"my name is andie. i am 16 years old. my life is too messed up for fixing. i have been through a lot. i think it's my time to go. there's no other way . i will not be stating my method because i don't want to be copied. i love you, stranger, please live a better life than me.\"]"
      ]
    },
    {
      "cell_type": "code",
      "execution_count": 32,
      "metadata": {},
      "outputs": [
        {
          "name": "stdout",
          "output_type": "stream",
          "text": [
            "my name be andie : 0.049216002225875854\n",
            "i be year old : 0.6086801886558533\n",
            "my life be too mess up for fix : 0.0033178627490997314\n",
            "i have be through a lot : 0.06065836548805237\n",
            "i think it be my time to go : 0.37844473123550415\n",
            "there be no other way : 0.5441129207611084\n",
            "i will not be state my method because i do not want to be copy : 0.0021991729736328125\n",
            "i love you : 0.1085701584815979\n",
            "please live a well life than i : 0.4895108640193939\n"
          ]
        }
      ],
      "source": [
        "new_sentences = cut_text_len(new_sentences)\r\n",
        "new_sentences = clean_text(new_sentences)\r\n",
        "new_sentences = text_to_spacy(new_sentences)\r\n",
        "new_sentences = duplicated(new_sentences)\r\n",
        "\r\n",
        "sequences = tokenizer.texts_to_sequences(new_sentences)\r\n",
        "padded = pad_sequences(sequences, maxlen=max_length, padding=padding_type, truncating=trunc_type)\r\n",
        "total = model.predict(padded)\r\n",
        "\r\n",
        "i = 0\r\n",
        "for sentence in new_sentences: \r\n",
        "    print(sentence , ':',  str(float(total[i])))\r\n",
        "    i += 1"
      ]
    },
    {
      "cell_type": "markdown",
      "metadata": {},
      "source": [
        "# Ejemplo #3"
      ]
    },
    {
      "cell_type": "code",
      "execution_count": 36,
      "metadata": {},
      "outputs": [],
      "source": [
        "new_sentences = [\"Can someone explain to me how actively looking for help is one of the loneliest experiences someone can have? Not only am I miserable because I'm sick, but then I also have to listen to these people who are supposed to help me that I have to want to get better or it won't work. Now, I grew up evangelical (not practicing, agnostic, forever put off by religion) and I sure as hell know that expression. What if I don't believe in getting better. What if a big part of me just wants to decay. What if I dragged myself to your office with the last bit of strength in my body. If it were for me, I'd just lie down and die. Deep down, I don't want to get better, I want a do over. Everything is fucked. There's no ladder out of this hole, I only have a shovel and I'm going to dig myself a grave.\"]"
      ]
    },
    {
      "cell_type": "code",
      "execution_count": 38,
      "metadata": {},
      "outputs": [
        {
          "name": "stdout",
          "output_type": "stream",
          "text": [
            "can someone explain to i how actively look for help be one of the lonely : 1.1484719379950548e-06\n",
            "experience someone can have not only be i miserable because i be sick : 2.0396435047587147e-06\n",
            "but then i also have to listen to these who be suppose to help : 0.0015214979648590088\n",
            "i that i have to want to get well or it wo not work : 0.9966904520988464\n",
            "i grow up evangelical not practice : 0.001322925090789795\n",
            "forever put off by religion and i sure as he will know that expression : 2.9821585485478863e-06\n",
            "what if i do not believe in get well : 0.03317096829414368\n",
            "what if a big part of i just want to decay : 0.003270477056503296\n",
            "what if i drag myself to your office with the last bit of strength in : 0.050721168518066406\n",
            "if it be for i : 0.28518348932266235\n",
            "i would just lie down and die : 0.008244335651397705\n",
            "i do not want to get well : 0.19594231247901917\n",
            "i want a do over : 0.3678298592567444\n",
            "everything be fuck : 0.8384888172149658\n",
            "there be no ladder out of this hole : 0.17740970849990845\n",
            "i only have a shovel and i be go to dig myself a grave : 0.017837703227996826\n"
          ]
        }
      ],
      "source": [
        "new_sentences = cut_text_len(new_sentences)\r\n",
        "new_sentences = clean_text(new_sentences)\r\n",
        "new_sentences = text_to_spacy(new_sentences)\r\n",
        "new_sentences = duplicated(new_sentences)\r\n",
        "sequences = tokenizer.texts_to_sequences(new_sentences)\r\n",
        "padded = pad_sequences(sequences, maxlen=max_length, padding=padding_type, truncating=trunc_type)\r\n",
        "total = model.predict(padded)\r\n",
        "i = 0\r\n",
        "for sentence in new_sentences: \r\n",
        "    print(sentence , ':',  str(float(total[i])))\r\n",
        "    i += 1"
      ]
    }
  ],
  "metadata": {
    "accelerator": "GPU",
    "colab": {
      "collapsed_sections": [],
      "name": "Course 3 - Week 2 - Lesson 2.ipynb",
      "provenance": []
    },
    "interpreter": {
      "hash": "2d8c4e0adecca2f9bb6152916de834ccf75a0d1de20f0239611dabd3480e2716"
    },
    "kernelspec": {
      "display_name": "Python 3.9.4 64-bit",
      "name": "python3"
    },
    "language_info": {
      "codemirror_mode": {
        "name": "ipython",
        "version": 3
      },
      "file_extension": ".py",
      "mimetype": "text/x-python",
      "name": "python",
      "nbconvert_exporter": "python",
      "pygments_lexer": "ipython3",
      "version": "3.9.4"
    },
    "metadata": {
      "interpreter": {
        "hash": "2d8c4e0adecca2f9bb6152916de834ccf75a0d1de20f0239611dabd3480e2716"
      }
    }
  },
  "nbformat": 4,
  "nbformat_minor": 0
}