{
  "cells": [
    {
      "cell_type": "markdown",
      "metadata": {},
      "source": [
        "# Carga de datos, librerías y funciones"
      ]
    },
    {
      "cell_type": "code",
      "execution_count": 1,
      "metadata": {
        "id": "LoD6KNa1nrml"
      },
      "outputs": [],
      "source": [
        "import tensorflow as tf\r\n",
        "from tensorflow.keras.preprocessing.text import Tokenizer\r\n",
        "from tensorflow.keras.preprocessing.sequence import pad_sequences\r\n",
        "\r\n",
        "import numpy as np\r\n",
        "import matplotlib.pyplot as plt\r\n",
        "from numpy import array\r\n",
        "import pandas as pd\r\n",
        "import pickle\r\n",
        "import re\r\n",
        "import string\r\n",
        "import spacy\r\n",
        "\r\n",
        "from string import digits\r\n",
        "from sklearn.model_selection import train_test_split\r\n",
        "\r\n",
        "sp = spacy.load('en_core_web_sm')"
      ]
    },
    {
      "cell_type": "code",
      "execution_count": 28,
      "metadata": {},
      "outputs": [],
      "source": [
        "def cut_text_len(list):\r\n",
        "    temp = []\r\n",
        "    temp_coma = []\r\n",
        "    temp_list = []\r\n",
        "\r\n",
        "    for sentence in list: temp.extend(sentence.split('.'))\r\n",
        "    for sentence in temp: temp_coma.extend(sentence.split(','))\r\n",
        "    temp_coma = [sentence for sentence in temp_coma if len(sentence.split()) > 2]\r\n",
        "\r\n",
        "    for sentence in temp_coma:\r\n",
        "        text = sentence.split()\r\n",
        "        new_sentence = ''\r\n",
        "        len_sentence = 0\r\n",
        "        mess = len(text)\r\n",
        "        while mess > 0:\r\n",
        "            new_sentence += text[0] + ' '\r\n",
        "            text.pop(0)\r\n",
        "            len_sentence += 1\r\n",
        "            mess = len(text)\r\n",
        "            if len_sentence == 15:            \r\n",
        "                temp_list.append(new_sentence)\r\n",
        "                new_sentence = ''\r\n",
        "                len_sentence = 0\r\n",
        "                mess = len(text)\r\n",
        "            elif mess == 0:\r\n",
        "                mess = len(new_sentence.split())\r\n",
        "                if mess <= 2:\r\n",
        "                    break\r\n",
        "                temp_list.append(new_sentence)\r\n",
        "                break\r\n",
        "    return(temp_list)\r\n",
        "\r\n",
        "def clean_text(list):   \r\n",
        "    text_clean = []\r\n",
        "    for text in list:\r\n",
        "        text = text.lower()\r\n",
        "        new_text = ''\r\n",
        "        for word in text.split():\r\n",
        "            for key in contractions:\r\n",
        "                if word == key:\r\n",
        "                    word = contractions[key]\r\n",
        "            new_text += word + ' '\r\n",
        "        text = re.sub(r'([a-zA-Z0-9+._-]+@[a-zA-Z0-9._-]+\\.[a-zA-Z0-9_-]+)', '', new_text) \r\n",
        "        text = re.sub(patron_web, '', text)\r\n",
        "        table = str.maketrans(' ', ' ', string.punctuation)\r\n",
        "        stripped = [word.translate(table) for word in text]\r\n",
        "        text = ''.join(stripped)\r\n",
        "        table = str.maketrans('', '', digits)\r\n",
        "        newtext = text.translate(table)\r\n",
        "        newtext = re.sub(\"\\'\", '', newtext)\r\n",
        "        text_clean.append(newtext)\r\n",
        "\r\n",
        "    return(text_clean)\r\n",
        "\r\n",
        "# Fuente: https://kgptalkie.com/3664-2/\r\n",
        "# Lista de contracciones en inglés extraída de \"NLP: End to End Text Processing for Beginners\" (., Roshan)\r\n",
        "\r\n",
        "contractions = { \r\n",
        "\"ain't\": \"am not\",\r\n",
        "\"aren't\": \"are not\",\r\n",
        "\"can't\": \"cannot\",\r\n",
        "\"can't've\": \"cannot have\",\r\n",
        "\"'cause\": \"because\",\r\n",
        "\"could've\": \"could have\",\r\n",
        "\"couldn't\": \"could not\",\r\n",
        "\"couldn't've\": \"could not have\",\r\n",
        "\"didn't\": \"did not\",\r\n",
        "\"doesn't\": \"does not\",\r\n",
        "\"don't\": \"do not\",\r\n",
        "\"hadn't\": \"had not\",\r\n",
        "\"hadn't've\": \"had not have\",\r\n",
        "\"hasn't\": \"has not\",\r\n",
        "\"haven't\": \"have not\",\r\n",
        "\"he'd\": \"he would\",\r\n",
        "\"he'd've\": \"he would have\",\r\n",
        "\"he'll\": \"he will\",\r\n",
        "\"he'll've\": \"he will have\",\r\n",
        "\"he's\": \"he is\",\r\n",
        "\"how'd\": \"how did\",\r\n",
        "\"how'd'y\": \"how do you\",\r\n",
        "\"how'll\": \"how will\",\r\n",
        "\"how's\": \"how does\",\r\n",
        "\"i'd\": \"i would\",\r\n",
        "\"i'd've\": \"i would have\",\r\n",
        "\"i'll\": \"i will\",\r\n",
        "\"i'll've\": \"i will have\",\r\n",
        "\"i'm\": \"i am\",\r\n",
        "\"i've\": \"i have\",\r\n",
        "\"isn't\": \"is not\",\r\n",
        "\"it'd\": \"it would\",\r\n",
        "\"it'd've\": \"it would have\",\r\n",
        "\"it'll\": \"it will\",\r\n",
        "\"it'll've\": \"it will have\",\r\n",
        "\"it's\": \"it is\",\r\n",
        "\"let's\": \"let us\",\r\n",
        "\"ma'am\": \"madam\",\r\n",
        "\"mayn't\": \"may not\",\r\n",
        "\"might've\": \"might have\",\r\n",
        "\"mightn't\": \"might not\",\r\n",
        "\"mightn't've\": \"might not have\",\r\n",
        "\"must've\": \"must have\",\r\n",
        "\"mustn't\": \"must not\",\r\n",
        "\"mustn't've\": \"must not have\",\r\n",
        "\"needn't\": \"need not\",\r\n",
        "\"needn't've\": \"need not have\",\r\n",
        "\"o'clock\": \"of the clock\",\r\n",
        "\"oughtn't\": \"ought not\",\r\n",
        "\"oughtn't've\": \"ought not have\",\r\n",
        "\"shan't\": \"shall not\",\r\n",
        "\"sha'n't\": \"shall not\",\r\n",
        "\"shan't've\": \"shall not have\",\r\n",
        "\"she'd\": \"she would\",\r\n",
        "\"she'd've\": \"she would have\",\r\n",
        "\"she'll\": \"she will\",\r\n",
        "\"she'll've\": \"she will have\",\r\n",
        "\"she's\": \"she is\",\r\n",
        "\"should've\": \"should have\",\r\n",
        "\"shouldn't\": \"should not\",\r\n",
        "\"shouldn't've\": \"should not have\",\r\n",
        "\"so've\": \"so have\",\r\n",
        "\"so's\": \"so is\",\r\n",
        "\"that'd\": \"that would\",\r\n",
        "\"that'd've\": \"that would have\",\r\n",
        "\"that's\": \"that is\",\r\n",
        "\"there'd\": \"there would\",\r\n",
        "\"there'd've\": \"there would have\",\r\n",
        "\"there's\": \"there is\",\r\n",
        "\"they'd\": \"they would\",\r\n",
        "\"they'd've\": \"they would have\",\r\n",
        "\"they'll\": \"they will\",\r\n",
        "\"they'll've\": \"they will have\",\r\n",
        "\"they're\": \"they are\",\r\n",
        "\"they've\": \"they have\",\r\n",
        "\"to've\": \"to have\",\r\n",
        "\"wasn't\": \"was not\",\r\n",
        "\"aint\": \"am not\",\r\n",
        "\"arent\": \"are not\",\r\n",
        "\"cant\": \"can not\",\r\n",
        "\"cantve\": \"cannot have\",\r\n",
        "\"cause\": \"because\",\r\n",
        "\"couldve\": \"could have\",\r\n",
        "\"couldnt\": \"could not\",\r\n",
        "\"couldntve\": \"could not have\",\r\n",
        "\"didnt\": \"did not\",\r\n",
        "\"doesnt\": \"does not\",\r\n",
        "\"dont\": \"do not\",\r\n",
        "\"hadnt\": \"had not\",\r\n",
        "\"hadntve\": \"had not have\",\r\n",
        "\"hasnt\": \"has not\",\r\n",
        "\"havent\": \"have not\",\r\n",
        "\"hed\": \"he would\",\r\n",
        "\"hedve\": \"he would have\",\r\n",
        "\"hell\": \"he will\",\r\n",
        "\"hellve\": \"he will have\",\r\n",
        "\"hes\": \"he is\",\r\n",
        "\"howd\": \"how did\",\r\n",
        "\"howdy\": \"how do you\",\r\n",
        "\"howll\": \"how will\",\r\n",
        "\"hows\": \"how does\",\r\n",
        "\"id\": \"i would\",\r\n",
        "\"idve\": \"i would have\",\r\n",
        "\"ill\": \"i will\",\r\n",
        "\"illve\": \"i will have\",\r\n",
        "\"im\": \"i am\",\r\n",
        "\"ive\": \"i have\",\r\n",
        "\"isnt\": \"is not\",\r\n",
        "\"itd\": \"it would\",\r\n",
        "\"itdve\": \"it would have\",\r\n",
        "\"itll\": \"it will\",\r\n",
        "\"itllve\": \"it will have\",\r\n",
        "\"its\": \"it is\",\r\n",
        "\"lets\": \"let us\",\r\n",
        "\"maam\": \"madam\",\r\n",
        "\"maynt\": \"may not\",\r\n",
        "\"mightve\": \"might have\",\r\n",
        "\"mightnt\": \"might not\",\r\n",
        "\"mightntve\": \"might not have\",\r\n",
        "\"mustve\": \"must have\",\r\n",
        "\"mustnt\": \"must not\",\r\n",
        "\"mustntve\": \"must not have\",\r\n",
        "\"neednt\": \"need not\",\r\n",
        "\"needntve\": \"need not have\",\r\n",
        "\"oclock\": \"of the clock\",\r\n",
        "\"oughtnt\": \"ought not\",\r\n",
        "\"oughtntve\": \"ought not have\",\r\n",
        "\"shant\": \"shall not\",\r\n",
        "\"shant\": \"shall not\",\r\n",
        "\"shantve\": \"shall not have\",\r\n",
        "\"shed\": \"she would\",\r\n",
        "\"shedve\": \"she would have\",\r\n",
        "\"shell\": \"she will\",\r\n",
        "\"shellve\": \"she will have\",\r\n",
        "\"shes\": \"she is\",\r\n",
        "\"shouldve\": \"should have\",\r\n",
        "\"shouldnt\": \"should not\",\r\n",
        "\"shouldntve\": \"should not have\",\r\n",
        "\"sove\": \"so have\",\r\n",
        "\"sos\": \"so is\",\r\n",
        "\"thatd\": \"that would\",\r\n",
        "\"thatdve\": \"that would have\",\r\n",
        "\"thats\": \"that is\",\r\n",
        "\"thered\": \"there would\",\r\n",
        "\"theredve\": \"there would have\",\r\n",
        "\"theres\": \"there is\",\r\n",
        "\"theyd\": \"they would\",\r\n",
        "\"theydve\": \"they would have\",\r\n",
        "\"theyll\": \"they will\",\r\n",
        "\"theyllve\": \"they will have\",\r\n",
        "\"theyre\": \"they are\",\r\n",
        "\"theyve\": \"they have\",\r\n",
        "\"tove\": \"to have\",\r\n",
        "\"wasnt\": \"was not\", \r\n",
        "\"u\": \" you  \",\r\n",
        "\"ur\": \"your\", \r\n",
        "\"n\": \"and\", \r\n",
        "\"friends\": \"\",\r\n",
        "\"friend\":\"\",\r\n",
        "\"people\":\"\",\r\n",
        "\"girl\":\"\",\r\n",
        "\"girlfriend\": \"\",\r\n",
        "\"grl\":\"\",\r\n",
        "\"nt\": \"not\",\r\n",
        "\"gf\": \"\", \r\n",
        "\"cuttersuicidal\": \"suicidal\", \r\n",
        "\"idk\": \"i do not know\", \r\n",
        "\"theripist\": \"therapist\",\r\n",
        "\"s\": \"is\",\r\n",
        "\"mt\": \"\",\r\n",
        "\"cuttersuicidal\": \"cutter suicidal\"\r\n",
        "}\r\n",
        "\r\n",
        "patron_web = r'(http|ftp|https)://([\\w_-]+(?:(?:\\.[\\w_-]+)+))([\\w.,@?^=%&:/~+#-]*[\\w@?^=%&/~+#-])?'\r\n",
        "\r\n",
        "def duplicated(list): \r\n",
        "    temp = []\r\n",
        "    for sentence in list:\r\n",
        "        new_sentence = sentence.split() \r\n",
        "        new_sentece_join = ' '.join(new_sentence)\r\n",
        "        temp.append(new_sentece_join)\r\n",
        "    return(temp)\r\n",
        "\r\n",
        "def text_to_spacy(list): \r\n",
        "    temp = []\r\n",
        "    for sentence in list:\r\n",
        "        new_sentence = ''\r\n",
        "        for word in sp(str(sentence)):\r\n",
        "            new_sentence += word.lemma_ + ' '\r\n",
        "        temp.append(new_sentence.lower())\r\n",
        "    return(temp)"
      ]
    },
    {
      "cell_type": "markdown",
      "metadata": {},
      "source": [
        "# Preparación de la data"
      ]
    },
    {
      "cell_type": "code",
      "execution_count": 3,
      "metadata": {
        "id": "UUfSW5M1nrt2"
      },
      "outputs": [
        {
          "data": {
            "text/html": [
              "<div>\n",
              "<style scoped>\n",
              "    .dataframe tbody tr th:only-of-type {\n",
              "        vertical-align: middle;\n",
              "    }\n",
              "\n",
              "    .dataframe tbody tr th {\n",
              "        vertical-align: top;\n",
              "    }\n",
              "\n",
              "    .dataframe thead th {\n",
              "        text-align: right;\n",
              "    }\n",
              "</style>\n",
              "<table border=\"1\" class=\"dataframe\">\n",
              "  <thead>\n",
              "    <tr style=\"text-align: right;\">\n",
              "      <th></th>\n",
              "      <th>text</th>\n",
              "      <th>label</th>\n",
              "      <th>label_bi</th>\n",
              "      <th>index</th>\n",
              "    </tr>\n",
              "  </thead>\n",
              "  <tbody>\n",
              "    <tr>\n",
              "      <th>768</th>\n",
              "      <td>kill themselves try and find comfort with i be...</td>\n",
              "      <td>flagged</td>\n",
              "      <td>1</td>\n",
              "      <td>245</td>\n",
              "    </tr>\n",
              "    <tr>\n",
              "      <th>256</th>\n",
              "      <td>listen to girlfriend problem</td>\n",
              "      <td>not_flagged</td>\n",
              "      <td>0</td>\n",
              "      <td>2</td>\n",
              "    </tr>\n",
              "    <tr>\n",
              "      <th>57</th>\n",
              "      <td>back better telling story thoughts others help...</td>\n",
              "      <td>not_flagged</td>\n",
              "      <td>0</td>\n",
              "      <td>-151</td>\n",
              "    </tr>\n",
              "    <tr>\n",
              "      <th>782</th>\n",
              "      <td>look drive light lack support family hospital ...</td>\n",
              "      <td>flagged</td>\n",
              "      <td>1</td>\n",
              "      <td>109</td>\n",
              "    </tr>\n",
              "    <tr>\n",
              "      <th>690</th>\n",
              "      <td>grandmother go severe alcoholism shortly diffi...</td>\n",
              "      <td>flagged</td>\n",
              "      <td>1</td>\n",
              "      <td>-134</td>\n",
              "    </tr>\n",
              "    <tr>\n",
              "      <th>571</th>\n",
              "      <td>campsite hang share as the tunnel lack of so</td>\n",
              "      <td>flagged</td>\n",
              "      <td>1</td>\n",
              "      <td>-311</td>\n",
              "    </tr>\n",
              "    <tr>\n",
              "      <th>134</th>\n",
              "      <td>fight someone see many youre going help go thr...</td>\n",
              "      <td>not_flagged</td>\n",
              "      <td>0</td>\n",
              "      <td>-421</td>\n",
              "    </tr>\n",
              "    <tr>\n",
              "      <th>753</th>\n",
              "      <td>i understand the struggle and have a few perso...</td>\n",
              "      <td>flagged</td>\n",
              "      <td>1</td>\n",
              "      <td>-633</td>\n",
              "    </tr>\n",
              "    <tr>\n",
              "      <th>783</th>\n",
              "      <td>look simply the throughout and talk to make sure</td>\n",
              "      <td>flagged</td>\n",
              "      <td>1</td>\n",
              "      <td>150</td>\n",
              "    </tr>\n",
              "    <tr>\n",
              "      <th>550</th>\n",
              "      <td>basically treat other human even stranger with...</td>\n",
              "      <td>flagged</td>\n",
              "      <td>1</td>\n",
              "      <td>-608</td>\n",
              "    </tr>\n",
              "  </tbody>\n",
              "</table>\n",
              "</div>"
            ],
            "text/plain": [
              "                                                  text        label  label_bi  \\\n",
              "768  kill themselves try and find comfort with i be...      flagged         1   \n",
              "256                       listen to girlfriend problem  not_flagged         0   \n",
              "57   back better telling story thoughts others help...  not_flagged         0   \n",
              "782  look drive light lack support family hospital ...      flagged         1   \n",
              "690  grandmother go severe alcoholism shortly diffi...      flagged         1   \n",
              "571       campsite hang share as the tunnel lack of so      flagged         1   \n",
              "134  fight someone see many youre going help go thr...  not_flagged         0   \n",
              "753  i understand the struggle and have a few perso...      flagged         1   \n",
              "783   look simply the throughout and talk to make sure      flagged         1   \n",
              "550  basically treat other human even stranger with...      flagged         1   \n",
              "\n",
              "     index  \n",
              "768    245  \n",
              "256      2  \n",
              "57    -151  \n",
              "782    109  \n",
              "690   -134  \n",
              "571   -311  \n",
              "134   -421  \n",
              "753   -633  \n",
              "783    150  \n",
              "550   -608  "
            ]
          },
          "execution_count": 3,
          "metadata": {},
          "output_type": "execute_result"
        }
      ],
      "source": [
        "df = pickle.load(open(\"./data/df.p\", \"rb\" ))\r\n",
        "df.sample(10)"
      ]
    },
    {
      "cell_type": "code",
      "execution_count": 4,
      "metadata": {
        "colab": {
          "base_uri": "https://localhost:8080/"
        },
        "id": "ToObr__Jnr0V",
        "outputId": "c2c83f43-b4fe-4d27-f165-6183d44ec23a"
      },
      "outputs": [
        {
          "data": {
            "text/plain": [
              "[1, 0, 0, 1, 0]"
            ]
          },
          "execution_count": 4,
          "metadata": {},
          "output_type": "execute_result"
        }
      ],
      "source": [
        "# Creación de listas con las cadenas de textos y etiquetas\r\n",
        "\r\n",
        "sentences = df['text'].to_list()\r\n",
        "labels = df['label_bi'].to_list()\r\n",
        "labels[:5]"
      ]
    },
    {
      "cell_type": "code",
      "execution_count": 5,
      "metadata": {
        "id": "j1ChHAEdZz-Q"
      },
      "outputs": [],
      "source": [
        "# Carga y creación del Tokenizer y entrenamiento del diccionario de palabras y números que serán \r\n",
        "## codificados para su posterior entrenamiento\r\n",
        "\r\n",
        "token = Tokenizer()\r\n",
        "token.fit_on_texts(sentences)\r\n",
        "encoded_text = token.texts_to_sequences(sentences)"
      ]
    },
    {
      "cell_type": "code",
      "execution_count": 25,
      "metadata": {
        "id": "leJjDikhnr3q"
      },
      "outputs": [],
      "source": [
        "embedding_dim = 100\r\n",
        "vec_size = 100\r\n",
        "max_length = 16\r\n",
        "padding_type= 'pre'\r\n",
        "trunc_type = 'pre'\r\n",
        "word_index = token.word_index\r\n",
        "vocab_size = len(token.word_index) + 1"
      ]
    },
    {
      "cell_type": "code",
      "execution_count": 7,
      "metadata": {
        "id": "zy-yIkPlZ_1Y"
      },
      "outputs": [
        {
          "name": "stdout",
          "output_type": "stream",
          "text": [
            "[[  0   0   0 ... 273   4  38]\n",
            " [  0   0   0 ... 404  18   5]\n",
            " [  0   0   0 ... 456 351 168]\n",
            " ...\n",
            " [  0   0   0 ...   7 136  80]\n",
            " [  0   0   0 ...   5 309   3]\n",
            " [  0   0   0 ... 568  42  46]]\n"
          ]
        }
      ],
      "source": [
        "# Preparación de la variable predictora con el diccionario creado con los términos tokenizados\r\n",
        "\r\n",
        "X = pad_sequences(encoded_text, maxlen=max_length, padding=padding_type)\r\n",
        "print(X)\r\n"
      ]
    },
    {
      "cell_type": "code",
      "execution_count": 8,
      "metadata": {
        "id": "Y_9ckcneZ_8K"
      },
      "outputs": [
        {
          "data": {
            "text/plain": [
              "(1008, 16)"
            ]
          },
          "execution_count": 8,
          "metadata": {},
          "output_type": "execute_result"
        }
      ],
      "source": [
        "#Conocer la dimensión de la variable\r\n",
        "X.shape"
      ]
    },
    {
      "cell_type": "code",
      "execution_count": 9,
      "metadata": {
        "id": "FHbjpTqbruSJ"
      },
      "outputs": [],
      "source": [
        "glove_vectors = {}\r\n",
        "\r\n",
        "file = open('./data/glove.6B.100d.txt', encoding='utf-8')\r\n",
        "\r\n",
        "for line in file:\r\n",
        "    values = line.split()\r\n",
        "    word = values[0] #guardar el valor del vector. \r\n",
        "    vectors = np.asarray(values[1: ])\r\n",
        "    glove_vectors[word] = vectors #guardar la representación en array del vector en el diccionario\r\n",
        "\r\n",
        "file.close()"
      ]
    },
    {
      "cell_type": "code",
      "execution_count": 10,
      "metadata": {
        "colab": {
          "base_uri": "https://localhost:8080/"
        },
        "id": "k11AUkyDsJQ3",
        "outputId": "bfd38749-1dd3-46e2-be2d-a8595385e5ed"
      },
      "outputs": [
        {
          "data": {
            "text/plain": [
              "(100,)"
            ]
          },
          "execution_count": 10,
          "metadata": {},
          "output_type": "execute_result"
        }
      ],
      "source": [
        "# Representación en vector del término 'you'\r\n",
        "glove_vectors.get('you').shape"
      ]
    },
    {
      "cell_type": "code",
      "execution_count": 11,
      "metadata": {
        "colab": {
          "base_uri": "https://localhost:8080/"
        },
        "id": "V6Nyc3FYanqc",
        "outputId": "e0339429-a95d-4cba-a25d-72387af399da"
      },
      "outputs": [
        {
          "data": {
            "text/plain": [
              "400000"
            ]
          },
          "execution_count": 11,
          "metadata": {},
          "output_type": "execute_result"
        }
      ],
      "source": [
        "# Tamaño del diccionario\r\n",
        "len(glove_vectors)"
      ]
    },
    {
      "cell_type": "code",
      "execution_count": 13,
      "metadata": {
        "id": "9H5Qxhy-anwz"
      },
      "outputs": [],
      "source": [
        "# Creación de una matriz del tamaño del vocabulario con 100 dimensiones \r\n",
        "\r\n",
        "word_vector_matrix = np.zeros((vocab_size, 100))\r\n",
        "\r\n",
        "for word, index in token.word_index.items():\r\n",
        "    vector = glove_vectors.get(word)\r\n",
        "    if vector is not None:\r\n",
        "        word_vector_matrix[index] = vector\r\n",
        "    else:\r\n",
        "        pass"
      ]
    },
    {
      "cell_type": "markdown",
      "metadata": {},
      "source": [
        "# Preparación de la data y entrenamiento\r\n"
      ]
    },
    {
      "cell_type": "code",
      "execution_count": 14,
      "metadata": {
        "id": "ImPU4U6za2Lt"
      },
      "outputs": [],
      "source": [
        "X_train, X_test, y_train, y_test = train_test_split(X, labels, test_size = 0.3, stratify = labels)"
      ]
    },
    {
      "cell_type": "code",
      "execution_count": 15,
      "metadata": {
        "id": "6bqEklZtbQMm"
      },
      "outputs": [],
      "source": [
        "X_train = np.array(X_train)\n",
        "y_train = np.array(y_train)\n",
        "X_test = np.array(X_test)\n",
        "y_test = np.array(y_test)"
      ]
    },
    {
      "cell_type": "code",
      "execution_count": 16,
      "metadata": {
        "id": "K3hzH5uT-_0v"
      },
      "outputs": [],
      "source": [
        "class myCallback(tf.keras.callbacks.Callback):\r\n",
        "  def on_epoch_end(self, epoch, logs={}):\r\n",
        "    if(logs.get('val_accuracy')> 0.85):\r\n",
        "      print(\"\\n Entrenamiento cancelado. Se alcanzó el 85% de precisión en el set de validación\")\r\n",
        "      self.model.stop_training = True\r\n",
        "\r\n",
        "callbacks = myCallback()"
      ]
    },
    {
      "cell_type": "code",
      "execution_count": 17,
      "metadata": {
        "id": "A3itjU-W6vsg"
      },
      "outputs": [],
      "source": [
        "model = tf.keras.Sequential([\n",
        "    tf.keras.layers.Embedding(vocab_size, vec_size, input_length=max_length, weights = [word_vector_matrix], trainable = False),\n",
        "    tf.keras.layers.Dropout(0.2),\n",
        "    tf.keras.layers.LSTM(100),\n",
        "    tf.keras.layers.Dropout(0.2),\n",
        "    tf.keras.layers.Dense(1, activation='sigmoid')\n",
        "])"
      ]
    },
    {
      "cell_type": "code",
      "execution_count": 18,
      "metadata": {
        "id": "xk09xf9hdjJ2"
      },
      "outputs": [],
      "source": [
        "model.compile(loss='binary_crossentropy',optimizer='adam',metrics=['accuracy'])"
      ]
    },
    {
      "cell_type": "code",
      "execution_count": 19,
      "metadata": {
        "colab": {
          "base_uri": "https://localhost:8080/"
        },
        "id": "pQdMgUFHdVh4",
        "outputId": "b82543ea-d91a-4fb8-a17e-03f21ecb1983"
      },
      "outputs": [
        {
          "name": "stdout",
          "output_type": "stream",
          "text": [
            "Epoch 1/50\n",
            "23/23 [==============================] - 4s 30ms/step - loss: 0.6700 - accuracy: 0.5830 - val_loss: 0.6162 - val_accuracy: 0.6964\n",
            "Epoch 2/50\n",
            "23/23 [==============================] - 0s 9ms/step - loss: 0.5746 - accuracy: 0.7106 - val_loss: 0.4969 - val_accuracy: 0.7954\n",
            "Epoch 3/50\n",
            "23/23 [==============================] - 0s 9ms/step - loss: 0.4864 - accuracy: 0.7574 - val_loss: 0.4615 - val_accuracy: 0.8053\n",
            "Epoch 4/50\n",
            "23/23 [==============================] - 0s 10ms/step - loss: 0.4560 - accuracy: 0.7915 - val_loss: 0.4927 - val_accuracy: 0.7789\n",
            "Epoch 5/50\n",
            "23/23 [==============================] - 0s 9ms/step - loss: 0.4537 - accuracy: 0.7957 - val_loss: 0.4896 - val_accuracy: 0.7591\n",
            "Epoch 6/50\n",
            "23/23 [==============================] - 0s 9ms/step - loss: 0.4888 - accuracy: 0.7631 - val_loss: 0.4532 - val_accuracy: 0.7954\n",
            "Epoch 7/50\n",
            "23/23 [==============================] - 0s 9ms/step - loss: 0.4185 - accuracy: 0.7929 - val_loss: 0.4172 - val_accuracy: 0.8020\n",
            "Epoch 8/50\n",
            "23/23 [==============================] - 0s 9ms/step - loss: 0.3721 - accuracy: 0.8298 - val_loss: 0.3904 - val_accuracy: 0.8218\n",
            "Epoch 9/50\n",
            "23/23 [==============================] - 0s 10ms/step - loss: 0.3963 - accuracy: 0.8227 - val_loss: 0.4141 - val_accuracy: 0.7987\n",
            "Epoch 10/50\n",
            "23/23 [==============================] - 0s 10ms/step - loss: 0.3507 - accuracy: 0.8496 - val_loss: 0.4308 - val_accuracy: 0.7822\n",
            "Epoch 11/50\n",
            "23/23 [==============================] - 0s 10ms/step - loss: 0.3937 - accuracy: 0.8184 - val_loss: 0.4010 - val_accuracy: 0.8185\n",
            "Epoch 12/50\n",
            "23/23 [==============================] - 0s 10ms/step - loss: 0.3196 - accuracy: 0.8624 - val_loss: 0.3624 - val_accuracy: 0.8317\n",
            "Epoch 13/50\n",
            "23/23 [==============================] - 0s 10ms/step - loss: 0.2910 - accuracy: 0.8780 - val_loss: 0.3575 - val_accuracy: 0.8251\n",
            "Epoch 14/50\n",
            "23/23 [==============================] - 0s 10ms/step - loss: 0.2899 - accuracy: 0.8681 - val_loss: 0.3531 - val_accuracy: 0.8383\n",
            "Epoch 15/50\n",
            "23/23 [==============================] - 0s 9ms/step - loss: 0.2571 - accuracy: 0.9007 - val_loss: 0.3853 - val_accuracy: 0.8350\n",
            "Epoch 16/50\n",
            "23/23 [==============================] - 0s 9ms/step - loss: 0.3157 - accuracy: 0.8539 - val_loss: 0.4361 - val_accuracy: 0.7855\n",
            "Epoch 17/50\n",
            "23/23 [==============================] - 0s 9ms/step - loss: 0.2872 - accuracy: 0.8738 - val_loss: 0.3998 - val_accuracy: 0.8218\n",
            "Epoch 18/50\n",
            "23/23 [==============================] - 0s 9ms/step - loss: 0.2471 - accuracy: 0.8908 - val_loss: 0.3660 - val_accuracy: 0.8317\n",
            "Epoch 19/50\n",
            "23/23 [==============================] - 0s 9ms/step - loss: 0.2776 - accuracy: 0.8681 - val_loss: 0.3851 - val_accuracy: 0.8119\n",
            "Epoch 20/50\n",
            "23/23 [==============================] - 0s 9ms/step - loss: 0.2426 - accuracy: 0.8894 - val_loss: 0.3340 - val_accuracy: 0.8647\n",
            "\n",
            " Entrenamiento cancelado. Se alcanzó el 85% de precisión en el set de validación\n"
          ]
        }
      ],
      "source": [
        "num_epochs = 50\r\n",
        "history = model.fit(X_train, y_train,  epochs = num_epochs, validation_data = (X_test, y_test), callbacks = [callbacks])"
      ]
    },
    {
      "cell_type": "code",
      "execution_count": 20,
      "metadata": {
        "colab": {
          "base_uri": "https://localhost:8080/",
          "height": 541
        },
        "id": "8cedE0zPtuPa",
        "outputId": "29f6d390-8fc7-4ea7-e5d5-e18fba79d540"
      },
      "outputs": [
        {
          "data": {
            "image/png": "[encoded data removed]",
            "text/plain": [
              "<Figure size 432x288 with 1 Axes>"
            ]
          },
          "metadata": {
            "needs_background": "light"
          },
          "output_type": "display_data"
        },
        {
          "data": {
            "image/png": "[encoded data removed]",
            "text/plain": [
              "<Figure size 432x288 with 1 Axes>"
            ]
          },
          "metadata": {
            "needs_background": "light"
          },
          "output_type": "display_data"
        }
      ],
      "source": [
        "def plot_graphs(history, string):\n",
        "  plt.plot(history.history[string])\n",
        "  plt.plot(history.history['val_'+string])\n",
        "  plt.xlabel(\"Epochs\")\n",
        "  plt.ylabel(string)\n",
        "  plt.legend([string, 'val_'+string])\n",
        "  plt.show()\n",
        "  \n",
        "plot_graphs(history, \"accuracy\")\n",
        "plot_graphs(history, \"loss\")"
      ]
    },
    {
      "cell_type": "markdown",
      "metadata": {},
      "source": [
        "# Ejemplo #1"
      ]
    },
    {
      "cell_type": "code",
      "execution_count": 32,
      "metadata": {
        "colab": {
          "base_uri": "https://localhost:8080/"
        },
        "id": "8AUinIgDt1Zr",
        "outputId": "25a23f58-9cd5-4583-e3b0-136d3532b2c2"
      },
      "outputs": [],
      "source": [
        "new_sentences = data = [\"I've some anxiety and some days want to die\", \r\n",
        "                        \"I help her with her depression\",\r\n",
        "                        \"I'm very sad and depressed today. want to finish it \", \r\n",
        "                        \"Some of my friends are suicidal\", \r\n",
        "                        \"I am happy and joyful \"]"
      ]
    },
    {
      "cell_type": "code",
      "execution_count": 33,
      "metadata": {},
      "outputs": [],
      "source": [
        "new_sentences = cut_text_len(new_sentences)\r\n",
        "new_sentences = clean_text(new_sentences)\r\n",
        "new_sentences = text_to_spacy(new_sentences)\r\n",
        "new_sentences = duplicated(new_sentences)"
      ]
    },
    {
      "cell_type": "code",
      "execution_count": 34,
      "metadata": {},
      "outputs": [],
      "source": [
        "sequences = token.texts_to_sequences(new_sentences)\r\n",
        "padded = pad_sequences(sequences, maxlen=max_length, padding=padding_type, truncating=trunc_type)\r\n",
        "total = model.predict(padded)"
      ]
    },
    {
      "cell_type": "code",
      "execution_count": 35,
      "metadata": {},
      "outputs": [
        {
          "name": "stdout",
          "output_type": "stream",
          "text": [
            "i have some anxiety and some day want to die : 0.7377107739448547\n",
            "i help she with her depression : 0.962130069732666\n",
            "i be very sad and depressed today : 0.04884207248687744\n",
            "want to finish it : 0.635036289691925\n",
            "some of my be suicidal : 0.2717679738998413\n",
            "i be happy and joyful : 0.34535151720046997\n"
          ]
        }
      ],
      "source": [
        "i = 0\r\n",
        "for sentence in new_sentences: \r\n",
        "    print(sentence , ':',  str(float(total[i])))\r\n",
        "    i += 1"
      ]
    },
    {
      "cell_type": "markdown",
      "metadata": {},
      "source": [
        "# Ejemplo #2"
      ]
    },
    {
      "cell_type": "code",
      "execution_count": 36,
      "metadata": {},
      "outputs": [],
      "source": [
        "\r\n",
        "new_sentences = [\"my name is andie. i am 16 years old. my life is too messed up for fixing. i have been through a lot. i think it's my time to go. there's no other way . i will not be stating my method because i don't want to be copied. i love you, stranger, please live a better life than me.\"]"
      ]
    },
    {
      "cell_type": "code",
      "execution_count": 38,
      "metadata": {},
      "outputs": [
        {
          "name": "stdout",
          "output_type": "stream",
          "text": [
            "my name be andie : 0.40486252307891846\n",
            "i be year old : 0.4949590563774109\n",
            "my life be too mess up for fix : 0.3289406895637512\n",
            "i have be through a lot : 0.06824198365211487\n",
            "i think it be my time to go : 0.07404187321662903\n",
            "there be no other way : 0.4884796142578125\n",
            "i will not be state my method because i do not want to be copy : 0.2729380130767822\n",
            "i love you : 0.2646474242210388\n",
            "please live a well life than i : 0.6601837873458862\n"
          ]
        }
      ],
      "source": [
        "new_sentences = cut_text_len(new_sentences)\r\n",
        "new_sentences = clean_text(new_sentences)\r\n",
        "new_sentences = text_to_spacy(new_sentences)\r\n",
        "new_sentences = duplicated(new_sentences)\r\n",
        "sequences = token.texts_to_sequences(new_sentences)\r\n",
        "padded = pad_sequences(sequences, maxlen=max_length, padding=padding_type, truncating=trunc_type)\r\n",
        "total = model.predict(padded)\r\n",
        "i = 0\r\n",
        "for sentence in new_sentences: \r\n",
        "    print(sentence , ':',  str(float(total[i])))\r\n",
        "    i += 1"
      ]
    },
    {
      "cell_type": "markdown",
      "metadata": {},
      "source": [
        "# Ejemplo #3"
      ]
    },
    {
      "cell_type": "code",
      "execution_count": 39,
      "metadata": {},
      "outputs": [],
      "source": [
        "new_sentences = [\"Can someone explain to me how actively looking for help is one of the loneliest experiences someone can have? Not only am I miserable because I'm sick, but then I also have to listen to these people who are supposed to help me that I have to want to get better or it won't work. Now, I grew up evangelical (not practicing, agnostic, forever put off by religion) and I sure as hell know that expression. What if I don't believe in getting better. What if a big part of me just wants to decay. What if I dragged myself to your office with the last bit of strength in my body. If it were for me, I'd just lie down and die. Deep down, I don't want to get better, I want a do over. Everything is fucked. There's no ladder out of this hole, I only have a shovel and I'm going to dig myself a grave.\"]"
      ]
    },
    {
      "cell_type": "code",
      "execution_count": 40,
      "metadata": {},
      "outputs": [
        {
          "name": "stdout",
          "output_type": "stream",
          "text": [
            "can someone explain to i how actively look for help be one of the lonely : 0.11179134249687195\n",
            "experience someone can have not only be i miserable because i be sick : 0.3631255626678467\n",
            "but then i also have to listen to these who be suppose to help : 0.4550795555114746\n",
            "i that i have to want to get well or it wo nt work : 0.22590255737304688\n",
            "i grow up evangelical not practice : 0.2179722785949707\n",
            "forever put off by religion and i sure as he will know that expression : 0.4823320508003235\n",
            "what if i do not believe in get well : 0.03411459922790527\n",
            "what if a big part of i just want to decay : 0.055151283740997314\n",
            "what if i drag myself to your office with the last bit of strength in : 0.11386984586715698\n",
            "if it be for i : 0.7855674624443054\n",
            "i would just lie down and die : 0.4909425675868988\n",
            "i do not want to get well : 0.12742862105369568\n",
            "i want a do over : 0.06630599498748779\n",
            "everything be fuck : 0.5557295680046082\n",
            "there be no ladder out of this hole : 0.5741317868232727\n",
            "i only have a shovel and i be go to dig myself a grave : 0.26340168714523315\n"
          ]
        }
      ],
      "source": [
        "new_sentences = cut_text_len(new_sentences)\r\n",
        "new_sentences = clean_text(new_sentences)\r\n",
        "new_sentences = text_to_spacy(new_sentences)\r\n",
        "new_sentences = duplicated(new_sentences)\r\n",
        "sequences = token.texts_to_sequences(new_sentences)\r\n",
        "padded = pad_sequences(sequences, maxlen=max_length, padding=padding_type, truncating=trunc_type)\r\n",
        "total = model.predict(padded)\r\n",
        "i = 0\r\n",
        "for sentence in new_sentences: \r\n",
        "    print(sentence , ':',  str(float(total[i])))\r\n",
        "    i += 1"
      ]
    }
  ],
  "metadata": {
    "colab": {
      "name": "(completa) TFM -- Clasificación con Tensorflow y GloVe.ipynb",
      "provenance": []
    },
    "interpreter": {
      "hash": "2d8c4e0adecca2f9bb6152916de834ccf75a0d1de20f0239611dabd3480e2716"
    },
    "kernelspec": {
      "display_name": "Python 3.9.4 64-bit",
      "name": "python3"
    },
    "language_info": {
      "codemirror_mode": {
        "name": "ipython",
        "version": 3
      },
      "file_extension": ".py",
      "mimetype": "text/x-python",
      "name": "python",
      "nbconvert_exporter": "python",
      "pygments_lexer": "ipython3",
      "version": "3.9.4"
    },
    "toc": {
      "base_numbering": 1,
      "nav_menu": {},
      "number_sections": true,
      "sideBar": true,
      "skip_h1_title": false,
      "title_cell": "Table of Contents",
      "title_sidebar": "Contents",
      "toc_cell": false,
      "toc_position": {},
      "toc_section_display": true,
      "toc_window_display": true
    },
    "varInspector": {
      "cols": {
        "lenName": 16,
        "lenType": 16,
        "lenVar": 40
      },
      "kernels_config": {
        "python": {
          "delete_cmd_postfix": "",
          "delete_cmd_prefix": "del ",
          "library": "var_list.py",
          "varRefreshCmd": "print(var_dic_list())"
        },
        "r": {
          "delete_cmd_postfix": ") ",
          "delete_cmd_prefix": "rm(",
          "library": "var_list.r",
          "varRefreshCmd": "cat(var_dic_list()) "
        }
      },
      "position": {
        "height": "348px",
        "left": "799px",
        "right": "20px",
        "top": "120px",
        "width": "358px"
      },
      "types_to_exclude": [
        "module",
        "function",
        "builtin_function_or_method",
        "instance",
        "_Feature"
      ],
      "window_display": false
    }
  },
  "nbformat": 4,
  "nbformat_minor": 0
}