{
  "cells": [
    {
      "cell_type": "markdown",
      "metadata": {
        "id": "QNT7RjLSKER3"
      },
      "source": [
        "# Aumento de data"
      ]
    },
    {
      "cell_type": "markdown",
      "metadata": {},
      "source": [
        "Se hará uso de Tensorflow y el arreglo de estilo \"n-gram\" para crear nuevas cadenas de texto a partir del entrenamiento\r\n",
        "y predicción de un modelo que permita generar una palabra a partir de sus anteriores.\r\n",
        "\r\n",
        "Fuente: https://www.youtube.com/watch?v=ZMudJXhsUpY&list=PLQY2H8rRoyvzDbLUZkbudP-MFQZwNmU4S&index=6"
      ]
    },
    {
      "cell_type": "code",
      "execution_count": 1,
      "metadata": {
        "id": "uQwh_5j9xiHB"
      },
      "outputs": [],
      "source": [
        "# Importar librerías necesarias. \r\n",
        "\r\n",
        "import tensorflow as tf\r\n",
        "from tensorflow.keras.preprocessing.sequence import pad_sequences\r\n",
        "from tensorflow.keras.layers import Embedding, LSTM, Dense, Dropout, Bidirectional\r\n",
        "from tensorflow.keras.preprocessing.text import Tokenizer\r\n",
        "from tensorflow.keras.models import Sequential\r\n",
        "from tensorflow.keras.optimizers import Adam\r\n",
        "from tensorflow.keras import regularizers\r\n",
        "import tensorflow.keras.utils as ku\r\n",
        "import random\r\n",
        "import numpy as np\r\n",
        "from random import randrange, choice\r\n",
        "import pickle\r\n",
        "import nltk \r\n",
        "stopwords = nltk.corpus.stopwords.words('english')"
      ]
    },
    {
      "cell_type": "code",
      "execution_count": 2,
      "metadata": {
        "id": "4K39WIj14HOp"
      },
      "outputs": [],
      "source": [
        "# Carga de la data\r\n",
        "\r\n",
        "NotFlagged_basic = pickle.load(open(\"./data_final/NotFlagged_basic.p\", \"rb\" ))"
      ]
    },
    {
      "cell_type": "code",
      "execution_count": 3,
      "metadata": {
        "colab": {
          "base_uri": "https://localhost:8080/"
        },
        "id": "k_ercF86adr0",
        "outputId": "cf72ef43-2c36-4185-cbb0-c6699439132a"
      },
      "outputs": [
        {
          "name": "stdout",
          "output_type": "stream",
          "text": [
            "{'i': 1, 'be': 2, 'to': 3, 'and': 4, 'a': 5, 'have': 6, 'help': 7, 'they': 8, 'the': 9, 'it': 10, 'of': 11, 'talk': 12, 'not': 13, 'my': 14, 'she': 15, 'he': 16, 'that': 17, 'listen': 18, 'for': 19, 'know': 20, 'do': 21, 'go': 22, 'someone': 23, 'about': 24, 'as': 25, 'lot': 26, 'think': 27, 'with': 28, 'through': 29, 'really': 30, 'feel': 31, 'always': 32, 'try': 33, 'come': 34, 'would': 35, 'just': 36, 'problem': 37, 'need': 38, 'well': 39, 'in': 40, 'life': 41, 'helped': 42, 'can': 43, 'one': 44, 'some': 45, 'up': 46, 'open': 47, 'sometimes': 48, 'their': 49, 'so': 50, 'who': 51, 'but': 52, 'you': 53, 'much': 54, 'when': 55, 'school': 56, 'shit': 57, 'advice': 58, 'week': 59, 'let': 60, 'good': 61, 'at': 62, 'even': 63, 'often': 64, 'there': 65, 'stuff': 66, 'time': 67, 'ask': 68, 'if': 69, 'too': 70, 'other': 71, 'issue': 72, 'give': 73, 'want': 74, 'struggle': 75, 'feeling': 76, 'going': 77, 'problems': 78, 'may': 79, 'any': 80, 'therapist': 81, 'call': 82, 'pretty': 83, 'please': 84, 'relationship': 85, 'experience': 86, 'on': 87, 'similar': 88, 'make': 89, 'helpful': 90, 'honest': 91, 'guess': 92, 'see': 93, 'tell': 94, 'kid': 95, 'same': 96, 'got': 97, 'care': 98, 'head': 99, 'way': 100, 'get': 101, 'resource': 102, 'look': 103, 'side': 104, 'bad': 105, 'tough': 106, 'situation': 107, 'many': 108, 'talked': 109, 'her': 110, 'by': 111, 'or': 112, 'say': 113, 'because': 114, 'trouble': 115, 'work': 116, 'his': 117, 'more': 118, 'express': 119, 'bring': 120, 'guy': 121, 'an': 122, 'down': 123, 'myself': 124, 'over': 125, 'we': 126, 'listened': 127, 'others': 128, 'issues': 129, 'indirectly': 130, 'fit': 131, 'into': 132, 'anyway': 133, 'something': 134, 'boyfriend': 135, 'logical': 136, 'before': 137, 'fight': 138, 'crazy': 139, 'now': 140, 'ok': 141, 'hand': 142, 'remote': 143, 'couple': 144, 'year': 145, 'ago': 146, 'switch': 147, 'low': 148, 'self': 149, 'esteem': 150, 'overcome': 151, 'from': 152, 'personal': 153, 'off': 154, 'car': 155, 'verge': 156, 'big': 157, 'part': 158, 'away': 159, 'physical': 160, 'activity': 161, 'every': 162, 'day': 163, 'around': 164, 'anxious': 165, 'mom': 166, 'advise': 167, 'face': 168, 'mine': 169, 'out': 170, 'tryin': 171, 'concern': 172, 'openness': 173, 'deal': 174, 'dialog': 175, 'girlfriend': 176, 'themselves': 177, 'adequate': 178, 'kind': 179, 'never': 180, 'damn': 181, 'own': 182, 'story': 183, 'tutor': 184, 'homeless': 185, 'shelter': 186, 'obtain': 187, 'age': 188, 'first': 189, 'high': 190, 'teacher': 191, 'almost': 192, 'everyday': 193, 'countless': 194, 'how': 195, 'restless': 196, 'eight': 197, 'grade': 198, 'reject': 199, 'twice': 200, 'sign': 201, 'yearbook': 202, 'nervous': 203, 'less': 204, 'top': 205, 'specific': 206, 'example': 207, 're': 208, 'type': 209, 'could': 210, 'anything': 211, 'truth': 212, 'start': 213, 'back': 214, 'listener': 215, 'necessarily': 216, 'relief': 217, 'within': 218, 'ear': 219, 'speak': 220, 'qualified': 221, 'serious': 222, 'else': 223, 'dump': 224, 'positive': 225, 'reflect': 226, 'brother': 227, 'after': 228, 'able': 229, 'set': 230, 'path': 231, 'healing': 232, 'emotional': 233, 'support': 234, 'calm': 235, 'schoolwork': 236, 'though': 237, 'major': 238, 'break': 239, 'internet': 240, 'write': 241, 'nice': 242, 'rant': 243, 'irlsomeone': 244, 'little': 245, 'bit': 246, 'objective': 247, 'also': 248, 'hard': 249, 'irl': 250, 'innermost': 251, 'least': 252, 'jokingly': 253, 'agony': 254, 'aunt': 255, 'possibly': 256, 'simply': 257, 'somebody': 258, 'sense': 259, 'admit': 260, 'encourage': 261, 'therapy': 262, 'anyone': 263, 'attention': 264, 'chance': 265, 'unfortunately': 266, 'remember': 267, 'specifically': 268, 'rational': 269, 'possible': 270, 'fairly': 271, 'common': 272, 'occurrence': 273, 'absolutely': 274, 'horrable': 275, 'blunt': 276, 'judge': 277, 'naturally': 278, 'although': 279, 'like': 280, 'extremely': 281, 'hesitate': 282, 'email': 283, 'book': 284, 'excited': 285, 'camp': 286, 'counselor': 287, 'provide': 288, 'stability': 289, 'home': 290, 'person': 291, 'ever': 292, 'thing': 293, 'together': 294, 'important': 295, 'realize': 296, 'alone': 297, 'calls': 298, 'years': 299, 'troubles': 300, 'went': 301, 'dealing': 302, 'letting': 303, 'listening': 304, 'girlfriends': 305, 'kids': 306, 'youre': 307, 'best': 308, 'lives': 309, 'struggling': 310, 'talking': 311, 'needed': 312, 'only': 313, 'above': 314, 'category': 315, 'spiral': 316, 'frustrate': 317, 'offer': 318, 'take': 319, 'pack': 320, 'pick': 321, 'lose': 322, 'campingsurfe': 323, 'parent': 324, 'circumstance': 325, 'fall': 326, 'appose': 327, 'use': 328, 'man': 329, 'ged': 330, 'all': 331, 'read': 332, 'no': 333, 'what': 334, 'yourself': 335, 'hurt': 336, 'hear': 337, 'fix': 338, 'thought': 339, 'trap': 340, 'confine': 341, 'lend': 342, 'friend': 343, 'live': 344, 'find': 345, 'stay': 346, 'until': 347, 'stop': 348, 'will': 349, 'happen': 350, 'once': 351, 'act': 352, 'blow': 353, 'than': 354, 'relate': 355, 'refer': 356, 's': 357, 'maybe': 358, 'facebook': 359, 'chat': 360, 'nt': 361, 'initiate': 362, 'meet': 363, 'while': 364, 'most': 365, 'where': 366, 'share': 367, 'question': 368, 'both': 369, 'avoid': 370, 'sort': 371, 'conflict': 372, 'categories': 373, 'spiraling': 374, 'frustrated': 375, 'asks': 376, 'said': 377, 'offered': 378, 'took': 379, 'packed': 380, 'picked': 381, 'losing': 382, 'campingsurfing': 383, 'parents': 384, 'needs': 385, 'faced': 386, 'circumstances': 387, 'expressing': 388, 'fell': 389, 'better': 390, 'apposed': 391, 'telling': 392, 'used': 393, 'men': 394, 'geds': 395, 'reading': 396, 'facing': 397, 'rejected': 398, 'wanted': 399, 'told': 400, 'rejecting': 401, 'thinks': 402, 'comes': 403, 'gone': 404, 'hurts': 405, 'heard': 406, 'fixed': 407, 'thoughts': 408, 'trapped': 409, 'confines': 410, 'lent': 411, 'dumps': 412, 'friends': 413, 'struggles': 414, 'found': 415, 'dumped': 416, 'stayed': 417, 'stopped': 418, 'happens': 419, 'acted': 420, 'blows': 421, 'times': 422, 'related': 423, 'guys': 424, 'feelings': 425, 'refers': 426, 'whos': 427, 'worked': 428, 'knew': 429, 'wouldnt': 430, 'brought': 431, 'initiated': 432, 'met': 433, 'came': 434, 'gave': 435, 'tried': 436, 'sharing': 437, 'helping': 438, 'questions': 439, 'troubled': 440, 'us': 441}\n",
            " \n",
            " Cantidad de palabras diferentes: 442\n"
          ]
        }
      ],
      "source": [
        "#Se carga el tokenizador de la librería Keras y se entrena con el corpus \r\n",
        "# para generar un diccionario de cada una de las palabras con su respectiva representación numérica.\r\n",
        "\r\n",
        "tokenizer = Tokenizer() \r\n",
        "tokenizer.fit_on_texts(NotFlagged_basic)\r\n",
        "word_index = tokenizer.word_index\r\n",
        "\r\n",
        "total_words = len(word_index) + 1 \r\n",
        "\r\n",
        "print(tokenizer.word_index)\r\n",
        "print(\" \\n Cantidad de palabras diferentes:\",  total_words)"
      ]
    },
    {
      "cell_type": "code",
      "execution_count": 4,
      "metadata": {
        "id": "ZLdwlgOex-9v"
      },
      "outputs": [],
      "source": [
        "# Creación de las secuencias de entrada de la red neuronal \r\n",
        "## con oraciones del set de datos, las cuales serán convertidas en secuencias de números \r\n",
        "## en un arreglo de estilo n-gram\r\n",
        "\r\n",
        "input_sequences = []\r\n",
        "\r\n",
        "for line in NotFlagged_basic:\r\n",
        "\ttoken_list = tokenizer.texts_to_sequences([line])[0]\r\n",
        "\tfor i in range(1, len(token_list)):\r\n",
        "\t\tn_gram_sequence = token_list[:i+1]\r\n",
        "\t\tinput_sequences.append(n_gram_sequence)\r\n",
        "\r\n",
        "# Conocer la longitud máxima para igualar las cadenas a la más larga.\r\n",
        "\r\n",
        "max_sequence_len = max([len(x) for x in input_sequences])\r\n",
        "\r\n",
        "# Completar las cadenas cortas a la más larga con el \"padding\"\r\n",
        "input_sequences = np.array(pad_sequences(input_sequences, maxlen=max_sequence_len, padding='pre'))\r\n",
        "\r\n",
        "# Separación de objetivo y predictoras según el último término del input_sequences para \"Y\"\" y el resto para \"X\"\r\n",
        "predictors, label = input_sequences[:,:-1], input_sequences[:,-1]\r\n",
        "label = ku.to_categorical(label, num_classes=total_words)"
      ]
    },
    {
      "cell_type": "code",
      "execution_count": 5,
      "metadata": {
        "id": "kWewRnDv3-lS"
      },
      "outputs": [],
      "source": [
        "# Creación y compilación del modelo de red neuronal\r\n",
        "\r\n",
        "model = Sequential()\r\n",
        "model.add(Embedding(total_words, 240, input_length = max_sequence_len-1))\r\n",
        "model.add(Bidirectional(LSTM(150, return_sequences = True)))\r\n",
        "model.add(Bidirectional(LSTM(150, return_sequences = True)))\r\n",
        "model.add(LSTM(100))\r\n",
        "model.add(Dropout(0.4))\r\n",
        "model.add(Dense(total_words/2, activation='relu', kernel_regularizer=regularizers.l2(0.01)))\r\n",
        "model.add(Dense(total_words, activation='softmax'))"
      ]
    },
    {
      "cell_type": "code",
      "execution_count": 6,
      "metadata": {},
      "outputs": [
        {
          "name": "stdout",
          "output_type": "stream",
          "text": [
            "Model: \"sequential\"\n",
            "_________________________________________________________________\n",
            "Layer (type)                 Output Shape              Param #   \n",
            "=================================================================\n",
            "embedding (Embedding)        (None, 16, 240)           106080    \n",
            "_________________________________________________________________\n",
            "bidirectional (Bidirectional (None, 16, 300)           469200    \n",
            "_________________________________________________________________\n",
            "bidirectional_1 (Bidirection (None, 16, 300)           541200    \n",
            "_________________________________________________________________\n",
            "lstm_2 (LSTM)                (None, 100)               160400    \n",
            "_________________________________________________________________\n",
            "dropout (Dropout)            (None, 100)               0         \n",
            "_________________________________________________________________\n",
            "dense (Dense)                (None, 221)               22321     \n",
            "_________________________________________________________________\n",
            "dense_1 (Dense)              (None, 442)               98124     \n",
            "=================================================================\n",
            "Total params: 1,397,325\n",
            "Trainable params: 1,397,325\n",
            "Non-trainable params: 0\n",
            "_________________________________________________________________\n",
            "None\n"
          ]
        }
      ],
      "source": [
        "model.compile(loss='categorical_crossentropy', optimizer='adam', metrics=['accuracy'])\r\n",
        "print(model.summary())"
      ]
    },
    {
      "cell_type": "code",
      "execution_count": 7,
      "metadata": {},
      "outputs": [],
      "source": [
        "class myCallback(tf.keras.callbacks.Callback):\r\n",
        "      \r\n",
        "      def on_epoch_end(self, epoch, logs={}):\r\n",
        "            if(logs.get('accuracy')> 0.85):\r\n",
        "                  print(\"\\nReached 85% accuracy so cancelling training!\")\r\n",
        "                  self.model.stop_training = True\r\n",
        "\r\n",
        "callbacks = myCallback()"
      ]
    },
    {
      "cell_type": "code",
      "execution_count": 8,
      "metadata": {
        "colab": {
          "base_uri": "https://localhost:8080/"
        },
        "id": "WUuz33U8ajbm",
        "outputId": "774ad2ff-11d9-4f63-db43-900152c99369",
        "tags": [
          "outputPrepend"
        ]
      },
      "outputs": [
        {
          "name": "stdout",
          "output_type": "stream",
          "text": [
            "Epoch 1/200\n",
            "143/143 [==============================] - 11s 30ms/step - loss: 6.4167 - accuracy: 0.0364\n",
            "Epoch 2/200\n",
            "143/143 [==============================] - 5s 32ms/step - loss: 5.7226 - accuracy: 0.0350\n",
            "Epoch 3/200\n",
            "143/143 [==============================] - 5s 32ms/step - loss: 5.5512 - accuracy: 0.0406\n",
            "Epoch 4/200\n",
            "143/143 [==============================] - 5s 38ms/step - loss: 5.3832 - accuracy: 0.0420\n",
            "Epoch 5/200\n",
            "143/143 [==============================] - 6s 44ms/step - loss: 5.3049 - accuracy: 0.0434\n",
            "Epoch 6/200\n",
            "143/143 [==============================] - 6s 42ms/step - loss: 5.2111 - accuracy: 0.0441\n",
            "Epoch 7/200\n",
            "143/143 [==============================] - 7s 52ms/step - loss: 5.1219 - accuracy: 0.0469\n",
            "Epoch 8/200\n",
            "143/143 [==============================] - 7s 46ms/step - loss: 5.0538 - accuracy: 0.0483\n",
            "Epoch 9/200\n",
            "143/143 [==============================] - 7s 46ms/step - loss: 4.9830 - accuracy: 0.0545\n",
            "Epoch 10/200\n",
            "143/143 [==============================] - 7s 48ms/step - loss: 4.9118 - accuracy: 0.0650\n",
            "Epoch 11/200\n",
            "143/143 [==============================] - 7s 47ms/step - loss: 4.8366 - accuracy: 0.0615\n",
            "Epoch 12/200\n",
            "143/143 [==============================] - 7s 48ms/step - loss: 4.7710 - accuracy: 0.0776\n",
            "Epoch 13/200\n",
            "143/143 [==============================] - 8s 58ms/step - loss: 4.7436 - accuracy: 0.0776\n",
            "Epoch 14/200\n",
            "143/143 [==============================] - 8s 59ms/step - loss: 4.6503 - accuracy: 0.0727\n",
            "Epoch 15/200\n",
            "143/143 [==============================] - 7s 51ms/step - loss: 4.5866 - accuracy: 0.0839\n",
            "Epoch 16/200\n",
            "143/143 [==============================] - 7s 49ms/step - loss: 4.5140 - accuracy: 0.0930\n",
            "Epoch 17/200\n",
            "143/143 [==============================] - 8s 55ms/step - loss: 4.4364 - accuracy: 0.0930\n",
            "Epoch 18/200\n",
            "143/143 [==============================] - 8s 53ms/step - loss: 4.3717 - accuracy: 0.0993\n",
            "Epoch 19/200\n",
            "143/143 [==============================] - 7s 49ms/step - loss: 4.2874 - accuracy: 0.1112\n",
            "Epoch 20/200\n",
            "143/143 [==============================] - 7s 52ms/step - loss: 4.2627 - accuracy: 0.1133\n",
            "Epoch 21/200\n",
            "143/143 [==============================] - 7s 51ms/step - loss: 4.1820 - accuracy: 0.1238\n",
            "Epoch 22/200\n",
            "143/143 [==============================] - 7s 46ms/step - loss: 4.1235 - accuracy: 0.1217\n",
            "Epoch 23/200\n",
            "143/143 [==============================] - 7s 49ms/step - loss: 4.0517 - accuracy: 0.1371\n",
            "Epoch 24/200\n",
            "143/143 [==============================] - 8s 56ms/step - loss: 3.9898 - accuracy: 0.1427\n",
            "Epoch 25/200\n",
            "143/143 [==============================] - 9s 61ms/step - loss: 3.9443 - accuracy: 0.1378\n",
            "Epoch 26/200\n",
            "143/143 [==============================] - 8s 58ms/step - loss: 3.8704 - accuracy: 0.1573\n",
            "Epoch 27/200\n",
            "143/143 [==============================] - 8s 55ms/step - loss: 3.8084 - accuracy: 0.1643\n",
            "Epoch 28/200\n",
            "143/143 [==============================] - 7s 48ms/step - loss: 3.7375 - accuracy: 0.1699\n",
            "Epoch 29/200\n",
            "143/143 [==============================] - 6s 45ms/step - loss: 3.6854 - accuracy: 0.1832\n",
            "Epoch 30/200\n",
            "143/143 [==============================] - 7s 47ms/step - loss: 3.5873 - accuracy: 0.1944\n",
            "Epoch 31/200\n",
            "143/143 [==============================] - 7s 48ms/step - loss: 3.5763 - accuracy: 0.2007\n",
            "Epoch 32/200\n",
            "143/143 [==============================] - 7s 51ms/step - loss: 3.4993 - accuracy: 0.2028\n",
            "Epoch 33/200\n",
            "143/143 [==============================] - 7s 52ms/step - loss: 3.4039 - accuracy: 0.2301\n",
            "Epoch 34/200\n",
            "143/143 [==============================] - 9s 62ms/step - loss: 3.3758 - accuracy: 0.2280\n",
            "Epoch 35/200\n",
            "143/143 [==============================] - 9s 62ms/step - loss: 3.3075 - accuracy: 0.2413\n",
            "Epoch 36/200\n",
            "143/143 [==============================] - 8s 55ms/step - loss: 3.2365 - accuracy: 0.2510\n",
            "Epoch 37/200\n",
            "143/143 [==============================] - 8s 53ms/step - loss: 3.1952 - accuracy: 0.2545\n",
            "Epoch 38/200\n",
            "143/143 [==============================] - 8s 56ms/step - loss: 3.1291 - accuracy: 0.2713\n",
            "Epoch 39/200\n",
            "143/143 [==============================] - 9s 61ms/step - loss: 3.0606 - accuracy: 0.2720\n",
            "Epoch 40/200\n",
            "143/143 [==============================] - 9s 63ms/step - loss: 2.9870 - accuracy: 0.2881\n",
            "Epoch 41/200\n",
            "143/143 [==============================] - 9s 63ms/step - loss: 2.9410 - accuracy: 0.3084\n",
            "Epoch 42/200\n",
            "143/143 [==============================] - 10s 69ms/step - loss: 2.9144 - accuracy: 0.3203\n",
            "Epoch 43/200\n",
            "143/143 [==============================] - 10s 67ms/step - loss: 2.8548 - accuracy: 0.3301\n",
            "Epoch 44/200\n",
            "143/143 [==============================] - 9s 60ms/step - loss: 2.7810 - accuracy: 0.3336\n",
            "Epoch 45/200\n",
            "143/143 [==============================] - 9s 60ms/step - loss: 2.7592 - accuracy: 0.3406\n",
            "Epoch 46/200\n",
            "143/143 [==============================] - 10s 69ms/step - loss: 2.6816 - accuracy: 0.3629\n",
            "Epoch 47/200\n",
            "143/143 [==============================] - 10s 70ms/step - loss: 2.6324 - accuracy: 0.3699\n",
            "Epoch 48/200\n",
            "143/143 [==============================] - 9s 60ms/step - loss: 2.6086 - accuracy: 0.3860\n",
            "Epoch 49/200\n",
            "143/143 [==============================] - 7s 49ms/step - loss: 2.5565 - accuracy: 0.3916\n",
            "Epoch 50/200\n",
            "143/143 [==============================] - 7s 46ms/step - loss: 2.4528 - accuracy: 0.4168\n",
            "Epoch 51/200\n",
            "143/143 [==============================] - 7s 47ms/step - loss: 2.4396 - accuracy: 0.4217\n",
            "Epoch 52/200\n",
            "143/143 [==============================] - 7s 47ms/step - loss: 2.3869 - accuracy: 0.4315\n",
            "Epoch 53/200\n",
            "143/143 [==============================] - 15s 103ms/step - loss: 2.3698 - accuracy: 0.4510\n",
            "Epoch 54/200\n",
            "143/143 [==============================] - 14s 94ms/step - loss: 2.2707 - accuracy: 0.4678\n",
            "Epoch 55/200\n",
            "143/143 [==============================] - 8s 56ms/step - loss: 2.2667 - accuracy: 0.4755\n",
            "Epoch 56/200\n",
            "143/143 [==============================] - 8s 55ms/step - loss: 2.1958 - accuracy: 0.4853\n",
            "Epoch 57/200\n",
            "143/143 [==============================] - 7s 50ms/step - loss: 2.1568 - accuracy: 0.4895\n",
            "Epoch 58/200\n",
            "143/143 [==============================] - 6s 43ms/step - loss: 2.1335 - accuracy: 0.5042\n",
            "Epoch 59/200\n",
            "143/143 [==============================] - 6s 42ms/step - loss: 2.0987 - accuracy: 0.5154\n",
            "Epoch 60/200\n",
            "143/143 [==============================] - 6s 42ms/step - loss: 2.0314 - accuracy: 0.5357\n",
            "Epoch 61/200\n",
            "143/143 [==============================] - 6s 42ms/step - loss: 1.9831 - accuracy: 0.5580\n",
            "Epoch 62/200\n",
            "143/143 [==============================] - 6s 43ms/step - loss: 1.9427 - accuracy: 0.5664\n",
            "Epoch 63/200\n",
            "143/143 [==============================] - 6s 43ms/step - loss: 1.9132 - accuracy: 0.5762\n",
            "Epoch 64/200\n",
            "143/143 [==============================] - 6s 42ms/step - loss: 1.8546 - accuracy: 0.5916\n",
            "Epoch 65/200\n",
            "143/143 [==============================] - 6s 42ms/step - loss: 1.8509 - accuracy: 0.5874\n",
            "Epoch 66/200\n",
            "143/143 [==============================] - 6s 42ms/step - loss: 1.8055 - accuracy: 0.5916\n",
            "Epoch 67/200\n",
            "143/143 [==============================] - 6s 45ms/step - loss: 1.7933 - accuracy: 0.6035\n",
            "Epoch 68/200\n",
            "143/143 [==============================] - 6s 42ms/step - loss: 1.7339 - accuracy: 0.6259\n",
            "Epoch 69/200\n",
            "143/143 [==============================] - 6s 43ms/step - loss: 1.7063 - accuracy: 0.6301\n",
            "Epoch 70/200\n",
            "143/143 [==============================] - 6s 42ms/step - loss: 1.6891 - accuracy: 0.6336\n",
            "Epoch 71/200\n",
            "143/143 [==============================] - 6s 42ms/step - loss: 1.6398 - accuracy: 0.6427\n",
            "Epoch 72/200\n",
            "143/143 [==============================] - 6s 42ms/step - loss: 1.6516 - accuracy: 0.6294\n",
            "Epoch 73/200\n",
            "143/143 [==============================] - 6s 42ms/step - loss: 1.6062 - accuracy: 0.6413\n",
            "Epoch 74/200\n",
            "143/143 [==============================] - 6s 42ms/step - loss: 1.5816 - accuracy: 0.6629\n",
            "Epoch 75/200\n",
            "143/143 [==============================] - 6s 42ms/step - loss: 1.5392 - accuracy: 0.6825\n",
            "Epoch 76/200\n",
            "143/143 [==============================] - 6s 42ms/step - loss: 1.5493 - accuracy: 0.6601\n",
            "Epoch 77/200\n",
            "143/143 [==============================] - 7s 48ms/step - loss: 1.5141 - accuracy: 0.6748\n",
            "Epoch 78/200\n",
            "143/143 [==============================] - 6s 44ms/step - loss: 1.4669 - accuracy: 0.7000\n",
            "Epoch 79/200\n",
            "143/143 [==============================] - 6s 45ms/step - loss: 1.4765 - accuracy: 0.6804\n",
            "Epoch 80/200\n",
            "143/143 [==============================] - 6s 45ms/step - loss: 1.4630 - accuracy: 0.6888\n",
            "Epoch 81/200\n",
            "143/143 [==============================] - 7s 48ms/step - loss: 1.4227 - accuracy: 0.6916\n",
            "Epoch 82/200\n",
            "143/143 [==============================] - 7s 48ms/step - loss: 1.3868 - accuracy: 0.7231\n",
            "Epoch 83/200\n",
            "143/143 [==============================] - 6s 45ms/step - loss: 1.3611 - accuracy: 0.7196\n",
            "Epoch 84/200\n",
            "143/143 [==============================] - 6s 43ms/step - loss: 1.3567 - accuracy: 0.7273\n",
            "Epoch 85/200\n",
            "143/143 [==============================] - 6s 43ms/step - loss: 1.3346 - accuracy: 0.7266\n",
            "Epoch 86/200\n",
            "143/143 [==============================] - 6s 43ms/step - loss: 1.2700 - accuracy: 0.7455\n",
            "Epoch 87/200\n",
            "143/143 [==============================] - 6s 43ms/step - loss: 1.2564 - accuracy: 0.7538\n",
            "Epoch 88/200\n",
            "143/143 [==============================] - 6s 43ms/step - loss: 1.2063 - accuracy: 0.7629\n",
            "Epoch 89/200\n",
            "143/143 [==============================] - 6s 43ms/step - loss: 1.2299 - accuracy: 0.7497\n",
            "Epoch 90/200\n",
            "143/143 [==============================] - 6s 43ms/step - loss: 1.2183 - accuracy: 0.7448\n",
            "Epoch 91/200\n",
            "143/143 [==============================] - 6s 43ms/step - loss: 1.1861 - accuracy: 0.7601\n",
            "Epoch 92/200\n",
            "143/143 [==============================] - 6s 44ms/step - loss: 1.2011 - accuracy: 0.7643\n",
            "Epoch 93/200\n",
            "143/143 [==============================] - 6s 43ms/step - loss: 1.1754 - accuracy: 0.7720\n",
            "Epoch 94/200\n",
            "143/143 [==============================] - 6s 43ms/step - loss: 1.1826 - accuracy: 0.7545\n",
            "Epoch 95/200\n",
            "143/143 [==============================] - 6s 43ms/step - loss: 1.1762 - accuracy: 0.7552\n",
            "Epoch 96/200\n",
            "143/143 [==============================] - 6s 43ms/step - loss: 1.1682 - accuracy: 0.7594\n",
            "Epoch 97/200\n",
            "143/143 [==============================] - 6s 43ms/step - loss: 1.1113 - accuracy: 0.7811\n",
            "Epoch 98/200\n",
            "143/143 [==============================] - 6s 43ms/step - loss: 1.1165 - accuracy: 0.7755\n",
            "Epoch 99/200\n",
            "143/143 [==============================] - 6s 43ms/step - loss: 1.0660 - accuracy: 0.8021\n",
            "Epoch 100/200\n",
            "143/143 [==============================] - 6s 43ms/step - loss: 1.0553 - accuracy: 0.7895\n",
            "Epoch 101/200\n",
            "143/143 [==============================] - 6s 43ms/step - loss: 1.0758 - accuracy: 0.7909\n",
            "Epoch 102/200\n",
            "143/143 [==============================] - 6s 43ms/step - loss: 1.0647 - accuracy: 0.7776\n",
            "Epoch 103/200\n",
            "143/143 [==============================] - 6s 43ms/step - loss: 1.0578 - accuracy: 0.7839\n",
            "Epoch 104/200\n",
            "143/143 [==============================] - 6s 43ms/step - loss: 1.0040 - accuracy: 0.8021\n",
            "Epoch 105/200\n",
            "143/143 [==============================] - 6s 43ms/step - loss: 0.9943 - accuracy: 0.7979\n",
            "Epoch 106/200\n",
            "143/143 [==============================] - 6s 43ms/step - loss: 0.9702 - accuracy: 0.8091\n",
            "Epoch 107/200\n",
            "143/143 [==============================] - 6s 43ms/step - loss: 0.9813 - accuracy: 0.8077\n",
            "Epoch 108/200\n",
            "143/143 [==============================] - 6s 43ms/step - loss: 0.9560 - accuracy: 0.8154\n",
            "Epoch 109/200\n",
            "143/143 [==============================] - 6s 43ms/step - loss: 0.9233 - accuracy: 0.8161\n",
            "Epoch 110/200\n",
            "143/143 [==============================] - 6s 43ms/step - loss: 0.9086 - accuracy: 0.8210\n",
            "Epoch 111/200\n",
            "143/143 [==============================] - 6s 43ms/step - loss: 0.9127 - accuracy: 0.8196\n",
            "Epoch 112/200\n",
            "143/143 [==============================] - 6s 43ms/step - loss: 0.9158 - accuracy: 0.8231\n",
            "Epoch 113/200\n",
            "143/143 [==============================] - 6s 43ms/step - loss: 0.8977 - accuracy: 0.8259\n",
            "Epoch 114/200\n",
            "143/143 [==============================] - 6s 43ms/step - loss: 0.9081 - accuracy: 0.8133\n",
            "Epoch 115/200\n",
            "143/143 [==============================] - 6s 43ms/step - loss: 0.9107 - accuracy: 0.8182\n",
            "Epoch 116/200\n",
            "143/143 [==============================] - 6s 43ms/step - loss: 0.8785 - accuracy: 0.8252\n",
            "Epoch 117/200\n",
            "143/143 [==============================] - 6s 43ms/step - loss: 0.8685 - accuracy: 0.8336\n",
            "Epoch 118/200\n",
            "143/143 [==============================] - 6s 43ms/step - loss: 0.8493 - accuracy: 0.8350\n",
            "Epoch 119/200\n",
            "143/143 [==============================] - 6s 43ms/step - loss: 0.8559 - accuracy: 0.8322\n",
            "Epoch 120/200\n",
            "143/143 [==============================] - 6s 43ms/step - loss: 0.8426 - accuracy: 0.8406\n",
            "Epoch 121/200\n",
            "143/143 [==============================] - 6s 43ms/step - loss: 0.8412 - accuracy: 0.8392\n",
            "Epoch 122/200\n",
            "143/143 [==============================] - 6s 44ms/step - loss: 0.8157 - accuracy: 0.8455\n",
            "Epoch 123/200\n",
            "143/143 [==============================] - 6s 43ms/step - loss: 0.7914 - accuracy: 0.8434\n",
            "Epoch 124/200\n",
            "143/143 [==============================] - 6s 43ms/step - loss: 0.7914 - accuracy: 0.8510\n",
            "\n",
            "Reached 85% accuracy so cancelling training!\n"
          ]
        }
      ],
      "source": [
        "history = model.fit(predictors, label, batch_size=10, epochs=200, verbose=1, callbacks=[callbacks])"
      ]
    },
    {
      "cell_type": "code",
      "execution_count": 9,
      "metadata": {
        "colab": {
          "base_uri": "https://localhost:8080/",
          "height": 545
        },
        "id": "8rLBQLSa4kdq",
        "outputId": "5f933c56-e511-4c5c-8e3c-ba3ef80eb0d1"
      },
      "outputs": [
        {
          "data": {
            "image/png": "[encoded data removed]",
            "text/plain": [
              "<Figure size 432x288 with 1 Axes>"
            ]
          },
          "metadata": {
            "needs_background": "light"
          },
          "output_type": "display_data"
        },
        {
          "data": {
            "image/png": "[encoded data removed]",
            "text/plain": [
              "<Figure size 432x288 with 1 Axes>"
            ]
          },
          "metadata": {
            "needs_background": "light"
          },
          "output_type": "display_data"
        }
      ],
      "source": [
        "import matplotlib.pyplot as plt\n",
        "\n",
        "acc = history.history['accuracy']\n",
        "loss = history.history['loss']\n",
        "epochs = range(len(acc))\n",
        "\n",
        "#grafica #2\n",
        "plt.plot(epochs, acc, 'b', label='Training accuracy')\n",
        "plt.title('Training accuracy')\n",
        "plt.figure()\n",
        "\n",
        "#grafica #1\n",
        "plt.plot(epochs, loss, 'b', label='Training Loss')\n",
        "plt.title('Training loss')\n",
        "plt.legend()\n",
        "plt.show()"
      ]
    },
    {
      "cell_type": "code",
      "execution_count": 12,
      "metadata": {
        "colab": {
          "base_uri": "https://localhost:8080/"
        },
        "id": "CI_1wMXwbtfk",
        "outputId": "caf45ab4-7655-4410-da53-675acc1ee5f2"
      },
      "outputs": [],
      "source": [
        "# Creación de una bolsa de palabras para elegir dos términos de manera aleatoria \r\n",
        "## que permitan dar inicio a las cadenas de texto.\r\n",
        "\r\n",
        "word_list = [key for key in word_index.keys() if key not in stopwords]\r\n",
        "\r\n",
        "# Creación de las variables que nos permitirán escoger al azar un numero \r\n",
        "## según una distribución probabilística normal\r\n",
        "mess_range = 500 - len(NotFlagged_basic)\r\n",
        "mu, sigma = 8, 1"
      ]
    },
    {
      "cell_type": "code",
      "execution_count": 13,
      "metadata": {},
      "outputs": [],
      "source": [
        "# Generación de las nuevas cadenas a partir de la secuencia de terminos anterior.\r\n",
        "\r\n",
        "LSTM_temp = []\r\n",
        "\r\n",
        "for _ in range(mess_range):\r\n",
        "  text = \"\"\r\n",
        "  text = choice(word_list) # Elección de número aleatorio de longitud\r\n",
        "  text = text + ' ' + choice(word_list)\r\n",
        "  words_qt =  int(random.gauss(mu, sigma))\r\n",
        "\r\n",
        "  for _ in range(words_qt):\r\n",
        "    token_list = tokenizer.texts_to_sequences([text])[0] #conversión del texto inicial en secuencia.\r\n",
        "    token_list = pad_sequences([token_list], maxlen=max_sequence_len-1, padding='pre')  \r\n",
        "    predicted = np.argmax(model.predict(token_list), axis=-1) #predicción a partir de la entrada transformada de los tokens\r\n",
        "    output_word = \"\"\r\n",
        "    for word, index in tokenizer.word_index.items():\r\n",
        "      if index == predicted:\r\n",
        "        output_word = word\r\n",
        "        break\r\n",
        "    text += \" \" + output_word\r\n",
        "  LSTM_temp.append(text)"
      ]
    },
    {
      "cell_type": "code",
      "execution_count": 14,
      "metadata": {},
      "outputs": [
        {
          "data": {
            "text/plain": [
              "['live car friends lives well time agony aunt in of',\n",
              " 'others even truth hurts best way start even would',\n",
              " 'countless read occurrence kids specifically little esteem book know emotional activity',\n",
              " 'take letting know someone else irlsomeone experience good',\n",
              " 'talk bit similar mine necessarily facebook chat went campingsurfing week',\n",
              " 'offered ok some lot of write to i and able',\n",
              " 'helped problems go through the same struggle i do',\n",
              " 'make set path healing personal experience others helping going similar',\n",
              " 'path talked possibly do not know irlsomeone who do not say',\n",
              " 'issue blunt sharing side stopped feeling bad the',\n",
              " 'esteem verge life advice really much calls situation',\n",
              " 'rejected conflict calm stuff needed wouldnt admit agony aunt something',\n",
              " 'dumps expressing one schoolwork so think my listener through the',\n",
              " 'refer ever helpful to ask the car of struggle',\n",
              " 'stop switch school low life bad stuff talking whos']"
            ]
          },
          "execution_count": 14,
          "metadata": {},
          "output_type": "execute_result"
        }
      ],
      "source": [
        "LSTM_temp[:15]"
      ]
    },
    {
      "cell_type": "code",
      "execution_count": 15,
      "metadata": {
        "id": "W_r6bGHfmdX9"
      },
      "outputs": [],
      "source": [
        "pickle.dump(LSTM_temp, open(\"./data_final/NotFlagged_LSTM.p\", \"wb\" ))"
      ]
    }
  ],
  "metadata": {
    "accelerator": "GPU",
    "colab": {
      "name": "TFM - Aumento de Data_Flagged.ipynb",
      "provenance": []
    },
    "interpreter": {
      "hash": "2d8c4e0adecca2f9bb6152916de834ccf75a0d1de20f0239611dabd3480e2716"
    },
    "kernelspec": {
      "display_name": "Python 3.9.4 64-bit",
      "name": "python3"
    },
    "language_info": {
      "codemirror_mode": {
        "name": "ipython",
        "version": 3
      },
      "file_extension": ".py",
      "mimetype": "text/x-python",
      "name": "python",
      "nbconvert_exporter": "python",
      "pygments_lexer": "ipython3",
      "version": "3.9.4"
    },
    "metadata": {
      "interpreter": {
        "hash": "2d8c4e0adecca2f9bb6152916de834ccf75a0d1de20f0239611dabd3480e2716"
      }
    }
  },
  "nbformat": 4,
  "nbformat_minor": 0
}