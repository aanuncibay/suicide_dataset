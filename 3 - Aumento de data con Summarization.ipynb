{
 "cells": [
  {
   "cell_type": "markdown",
   "metadata": {},
   "source": [
    "# Carga de librerías y set de datos"
   ]
  },
  {
   "cell_type": "code",
   "execution_count": 2,
   "metadata": {},
   "outputs": [],
   "source": [
    "# Para aplicar un proceso de resumen con un modelo pre-entrenado, \r\n",
    "## necesitaremos primero cargar nuevamente el set de datos y extraer las cadenas correspondientes\r\n",
    "## a cada etiqueta.\r\n",
    "\r\n",
    "import pandas as pd\r\n",
    "import pickle\r\n",
    "\r\n",
    "df = pd.read_csv(\"./data/flagged/Sheet_1.csv\")\r\n",
    "columns_df = df[['response_text', 'class']]\r\n",
    "df = columns_df.copy()\r\n",
    "columns_name = [\"text\", \"label\"]\r\n",
    "df.columns = columns_name\r\n",
    "\r\n",
    "Flagged_List = df['text'][df.label == 'flagged'].to_list()\r\n",
    "NotFlagged_List = df['text'][df.label == 'not_flagged'].to_list()"
   ]
  },
  {
   "cell_type": "markdown",
   "metadata": {},
   "source": [
    "# Carga de modelos"
   ]
  },
  {
   "cell_type": "markdown",
   "metadata": {},
   "source": [
    "Se hará uso del modelo pre-entrenado de la plataforma de Hugging Face: \"google/pegasus-large\", \r\n",
    "disponen de todo un framework de trabajo que permite la manipulación de cadena de textos con bastante rapidez \r\n",
    "y precisión.\r\n",
    "\r\n",
    "En este caso, se seleccionó este modelo por los resultados publicación en comparación de otros modelos \r\n",
    "con la misma finalidad. \r\n",
    "\r\n",
    "Fuente: https://huggingface.co/google/pegasus-large"
   ]
  },
  {
   "cell_type": "code",
   "execution_count": 1,
   "metadata": {},
   "outputs": [],
   "source": [
    "# Importación de la librería Transformers y métodos para la generación \r\n",
    "## de texto y tokenización.\r\n",
    "\r\n",
    "from transformers import AutoTokenizer, AutoModelForSeq2SeqLM\r\n",
    "  \r\n",
    "tokenizer = AutoTokenizer.from_pretrained(\"google/pegasus-large\")\r\n",
    "model = AutoModelForSeq2SeqLM.from_pretrained(\"google/pegasus-large\")"
   ]
  },
  {
   "cell_type": "code",
   "execution_count": 3,
   "metadata": {},
   "outputs": [],
   "source": [
    "# Defnición de una función para preparar la data, codificar y decodificar \r\n",
    "## los textos en nuevas cadenas de caracteres.\r\n",
    "\r\n",
    "def summarize(text):\r\n",
    "    input_ids = tokenizer(text, return_tensors=\"pt\").input_ids\r\n",
    "    output_ids = model.generate(input_ids)[0]\r\n",
    "    return(tokenizer.decode(output_ids, skip_special_tokens = True))"
   ]
  },
  {
   "cell_type": "markdown",
   "metadata": {},
   "source": [
    "## Procesamiento con modelo \"Pegasus\" de versión Large"
   ]
  },
  {
   "cell_type": "code",
   "execution_count": 4,
   "metadata": {},
   "outputs": [
    {
     "name": "stdout",
     "output_type": "stream",
     "text": [
      "Resumir textos de la etiqueta 'flagged' \n",
      "Texto completo: \n",
      "\n",
      "Having gone through depression and anxiety myself, I understand the struggles and have a few personal methods to cope when stuff hits. Having this knowledge has allowed me to help several people on the internet as well as my other friends when they have faced similar issues and talk to me about them. I understand how important listening is and offer my experiences to help them get through what they face.\n",
      "\n",
      "Nuevo texto resumido: \n",
      "\n",
      "I understand how important listening is and offer my experiences to help them get through what they face.\n",
      "\n",
      "-------------\n",
      "\n",
      "Texto completo: \n",
      "\n",
      "Friend who had big addiction issues, ended up being completely isolated, skipped school, and had a very low self esteem. I convinced him to go see a doc together, and promised him that i would go through everything with him. He went to rehab for a few months and now he's clean. But the complete lack of support from his family, from school, changed him. I think it was too late when I helped him (he was like that for 5 months) and he'll never be the same as before.\n",
      "\n",
      "Nuevo texto resumido: \n",
      "\n",
      "He went to rehab for a few months and now he's clean.\n",
      "\n",
      "-------------\n",
      "\n",
      "Texto completo: \n",
      "\n",
      "One of my best friends was diagnosed with cancer and I did as much as I could for him during that time. I visited him almost every day when he was in treatment just so he didn't have to be alone or anything. When he came back to school I helped him get caught up with school work too.\n",
      "\n",
      "Nuevo texto resumido: \n",
      "\n",
      "When he came back to school I helped him get caught up with school work too.\n",
      "\n",
      "-------------\n",
      "\n",
      "Texto completo: \n",
      "\n",
      "I had a friend that would go off about girls and get super depressed. He told me he was going to kill himself one night and I drove 1n hour and a half to go look for him. By then the cops had already taken him to the hospital but me and a friend went and hung out with him. Also been there to help try and talk him down. Another person I hadnt been friends with for years cause of some stuff called me out of the blue on thankgiving last year. I called back and got a hospital number so I knew something was up. Ended up being a kid who I was friends with years before but was a huge douche to me. He was in the psych ward for trying to kill himself. I got a hold of him and talked to him for a while. Whenever he would call I would answer and be there even though I still had the shit from years earlier on my mind. There are people that I might not want to be around but if it's a situation like this I'll be there for people. My goal or purpose in life that's sustained my survival is to help make other peoples lives a little bit better. Make people laugh when they're sad, help people out when nobody else will. Basically treat other humans even strangers with the respect and kindness of a friend. That's all people need sometime. Let people talk through their shit with me and offer helpful advice if I can. I'm still swimming in my own shit but that's enough to keep me going, keep that little light at the end of the tunnel switched on. Idk how long that will last but I'll be here till it flickers out.\n",
      "\n",
      "Nuevo texto resumido: \n",
      "\n",
      "Whenever he would call I would answer and be there even though I still had the shit from years earlier on my mind. Make people laugh when they're sad, help people out when nobody else will. I'm still swimming in my own shit but that's enough to keep me going, keep that little light at the end of the tunnel switched on.\n",
      "\n",
      "-------------\n",
      "\n",
      "Texto completo: \n",
      "\n",
      "My friend dealt with anxiety and this desire for everything in her life to be perfect, she describes it as caring what happens to much, but either way I simply talked to her and when she would try and change the subject I would have to drag her back in due the fact that she didn't want to talk about it, but in reality she wouldn't get better unless i pulled her back into it and helped her through it. But how i helped was by basically talking to her, and giving her the advice she needed to hear, not the one she wanted to such as oh you'll be ok  this will all blow over\" what i said was more along the lines of being so blunt that many may find it rude but for her and i it was essential to making any progress.\"\"y friend dealt with anxiety and this desire for everything in her life to be perfect  she describes it as caring what happens to much  but either way I simply talked to her and when \"\n",
      "\n",
      "Nuevo texto resumido: \n",
      "\n",
      "But how i helped was by basically talking to her, and giving her the advice she needed to hear, not the one she wanted to such as oh you'll be ok this will all blow over\" what i said was more along the lines of being so blunt that many may find it rude but for her and i it was essential to making any progress.\"\"y friend dealt with anxiety and this desire for everything in her life to be perfect she describes it as caring what happens to much but either way I simply talked to her and when \"\n",
      "\n",
      "-------------\n",
      "\n",
      "Texto completo: \n",
      "\n",
      "I've had some friends come to me saying people or acquaintances they've known who have killed themselves try and find comfort with me because my best friend killed himself my junior year of high school so they've come to me hoping to find some answers or peace in the turmoil.\n",
      "\n",
      "Nuevo texto resumido: \n",
      "\n",
      "I've had some friends come to me saying people or acquaintances they've known who have killed themselves try and find comfort with me because my best friend killed himself my junior year of high school so they've come to me hoping to find some answers or peace in the turmoil.\n",
      "\n",
      "-------------\n",
      "\n",
      "Texto completo: \n",
      "\n",
      "My now girlfriend used to have serious addiction troubles before we started dating and felt as though her addiction defined her as a person. She thought that all people saw when they looked at her was the addiction. I spent many nights with her talking and letting her vent. I was one of the only people supporting her and she felt as though I could help because I had been in her spot.\n",
      "\n",
      "Nuevo texto resumido: \n",
      "\n",
      "I was one of the only people supporting her and she felt as though I could help because I had been in her spot.\n",
      "\n",
      "-------------\n",
      "\n"
     ]
    }
   ],
   "source": [
    "Flagged_Temp = []\r\n",
    "\r\n",
    "print(\"Resumir textos de la etiqueta 'flagged' \" )\r\n",
    "\r\n",
    "for sentence in Flagged_List:\r\n",
    "    len_sentence = len(sentence.split())\r\n",
    "    if len_sentence >= 50: \r\n",
    "        print(\"Texto completo: \\n\")\r\n",
    "        print(sentence + '\\n')\r\n",
    "        new_sentence = summarize(sentence)\r\n",
    "        print(\"Nuevo texto resumido: \\n\")\r\n",
    "        print(new_sentence + '\\n')\r\n",
    "        Flagged_Temp.append(new_sentence)\r\n",
    "        print('-------------' + '\\n')\r\n"
   ]
  },
  {
   "cell_type": "code",
   "execution_count": 9,
   "metadata": {},
   "outputs": [
    {
     "name": "stdout",
     "output_type": "stream",
     "text": [
      "Resumir textos de la etiqueta 'not_flagged' \n",
      "Texto completo: \n",
      "\n",
      "Only really one friend who doesn't fit into the any of the above categories. Her therapist calls it spiraling.\" Anyway she pretty much calls me any time she is frustrated by something with  her boyfriend to ask me if it's logical or not. Before they would just fight and he would call her crazy. Now she asks me if it's ok he didn't say \"please\" when he said  \"hand me the remote.\"\n",
      "\n",
      "Nuevo texto resumido: \n",
      "\n",
      "Now she asks me if it's ok he didn't say \"please\" when he said \"hand me the remote.\"\n",
      "\n",
      "-------------\n",
      "\n",
      "Texto completo: \n",
      "\n",
      "Took a week off work, packed up the car and picked up a friend who was on the verge of losing it and went camping/surfing for a week. His parents were a big part of the problem and being away from them and others and physical activity every day for a week. but more just being around helped i feel.\n",
      "\n",
      "Nuevo texto resumido: \n",
      "\n",
      "His parents were a big part of the problem and being away from them and others and physical activity every day for a week.\n",
      "\n",
      "-------------\n",
      "\n",
      "Texto completo: \n",
      "\n",
      "Haha. In eight grade, kid got rejected twice. Wanted her to sign his yearbook but he was too nervous. I told him she doesn't really care about rejecting him and she thinks no less of him. He did it.    Probably more, but that's what comes up off the top of my head.\n",
      "\n",
      "Nuevo texto resumido: \n",
      "\n",
      "Probably more, but that's what comes up off the top of my head.\n",
      "\n",
      "-------------\n",
      "\n",
      "Texto completo: \n",
      "\n",
      "I've always been a good listener for people and I think a lot of people just want to be heard and not necessarily fixed. They just need to express themselves to relief their thoughts to others so they're not trapped so much within the confines of their own head.  I've always lent an ear for someone to speak to.\n",
      "\n",
      "Nuevo texto resumido: \n",
      "\n",
      "I've always lent an ear for someone to speak to.\n",
      "\n",
      "-------------\n",
      "\n",
      "Texto completo: \n",
      "\n",
      "Over the internet a LOT of people write to me to talk about their problems. Its often girl related, I dont know, I guess it can be nice to rant to someone you dont know irl/someone who can look at the situation a little bit more objective? I think a lot of guys also feel that it can be hard to talk to girl friends irl about their innermost feelings sometimes, thats the feeling I get at least. My friend jokingly refers to me as an Agony Aunt\"\n",
      "\n",
      "Nuevo texto resumido: \n",
      "\n",
      "I think a lot of guys also feel that it can be hard to talk to girl friends irl about their innermost feelings sometimes, thats the feeling I get at least.\n",
      "\n",
      "-------------\n",
      "\n",
      "Texto completo: \n",
      "\n",
      "Now that I've been through it, although i'm not even where I'd like to be, I'm extremely open about sharing my experience with others and helping friends going through similar situations. And PLEASE if you have any other questions about my situation don't hesitate to email me. I'm an open book and excited to see how many people you're going to help.\n",
      "\n",
      "Nuevo texto resumido: \n",
      "\n",
      "I'm an open book and excited to see how many people you're going to help.\n",
      "\n",
      "-------------\n",
      "\n"
     ]
    }
   ],
   "source": [
    "NotFlagged_Temp = []\r\n",
    "\r\n",
    "print(\"Resumir textos de la etiqueta 'not_flagged' \" )\r\n",
    "\r\n",
    "for sentence in NotFlagged_List:\r\n",
    "    len_sentence = len(sentence.split())\r\n",
    "    if len_sentence >= 50: \r\n",
    "        print(\"Texto completo: \\n\")\r\n",
    "        print(sentence + '\\n')\r\n",
    "        new_sentence = summarize(sentence)\r\n",
    "        print(\"Nuevo texto resumido: \\n\")\r\n",
    "        print(new_sentence + '\\n')\r\n",
    "        NotFlagged_Temp.append(new_sentence)\r\n",
    "        print('-------------' + '\\n')\r\n"
   ]
  },
  {
   "cell_type": "code",
   "execution_count": 10,
   "metadata": {},
   "outputs": [
    {
     "data": {
      "text/plain": [
       "['But how i helped was by basically talking to her, and giving her the advice she needed to hear, not the one she wanted to such as oh you\\'ll be ok this will all blow over\" what i said was more along the lines of being so blunt that many may find it rude but for her and i it was essential to making any progress.\"\"y friend dealt with anxiety and this desire for everything in her life to be perfect she describes it as caring what happens to much but either way I simply talked to her and when \"',\n",
       " \"He went to rehab for a few months and now he's clean.\",\n",
       " 'I understand how important listening is and offer my experiences to help them get through what they face.',\n",
       " 'I was one of the only people supporting her and she felt as though I could help because I had been in her spot.',\n",
       " \"I've had some friends come to me saying people or acquaintances they've known who have killed themselves try and find comfort with me because my best friend killed himself my junior year of high school so they've come to me hoping to find some answers or peace in the turmoil.\",\n",
       " 'When he came back to school I helped him get caught up with school work too.',\n",
       " \"Whenever he would call I would answer and be there even though I still had the shit from years earlier on my mind. Make people laugh when they're sad, help people out when nobody else will. I'm still swimming in my own shit but that's enough to keep me going, keep that little light at the end of the tunnel switched on.\"]"
      ]
     },
     "execution_count": 10,
     "metadata": {},
     "output_type": "execute_result"
    }
   ],
   "source": [
    "sorted(Flagged_Temp)"
   ]
  },
  {
   "cell_type": "code",
   "execution_count": 11,
   "metadata": {},
   "outputs": [
    {
     "data": {
      "text/plain": [
       "['His parents were a big part of the problem and being away from them and others and physical activity every day for a week.',\n",
       " 'I think a lot of guys also feel that it can be hard to talk to girl friends irl about their innermost feelings sometimes, thats the feeling I get at least.',\n",
       " \"I'm an open book and excited to see how many people you're going to help.\",\n",
       " \"I've always lent an ear for someone to speak to.\",\n",
       " 'Now she asks me if it\\'s ok he didn\\'t say \"please\" when he said \"hand me the remote.\"',\n",
       " \"Probably more, but that's what comes up off the top of my head.\"]"
      ]
     },
     "execution_count": 11,
     "metadata": {},
     "output_type": "execute_result"
    }
   ],
   "source": [
    "sorted(NotFlagged_Temp)"
   ]
  },
  {
   "cell_type": "markdown",
   "metadata": {},
   "source": [
    "## Observaciones finales:\r\n",
    "\r\n",
    "* Se puede observar la generación de nuevas cadenas de textos a partir del resumen con modelos pre-entrenados; los cuales se desempeñan con\r\n",
    "exactitud y rapidez bastante aceptables para generar nuevos set de datos. \r\n",
    "* Se eligió resumir los textos de más de 50 tokens para evitar repeticiones innecesarias de textos más cortos.\r\n",
    "* A manera de administrar bien la capacidad de procesamiento, el tratamiento de esta data se hará en el notebook \"EDA - preprocesamiento\" "
   ]
  },
  {
   "cell_type": "code",
   "execution_count": 14,
   "metadata": {},
   "outputs": [],
   "source": [
    "pickle.dump(NotFlagged_Temp, open(\"./data_final/NotFlagged_Summ.p\", \"wb\" ))\r\n",
    "pickle.dump(Flagged_Temp, open(\"./data_final/Flagged_Summ.p\", \"wb\" ))"
   ]
  }
 ],
 "metadata": {
  "interpreter": {
   "hash": "2d8c4e0adecca2f9bb6152916de834ccf75a0d1de20f0239611dabd3480e2716"
  },
  "kernelspec": {
   "display_name": "Python 3.9.4 64-bit",
   "name": "python3"
  },
  "language_info": {
   "name": "python",
   "version": ""
  },
  "metadata": {
   "interpreter": {
    "hash": "2d8c4e0adecca2f9bb6152916de834ccf75a0d1de20f0239611dabd3480e2716"
   }
  },
  "orig_nbformat": 2
 },
 "nbformat": 4,
 "nbformat_minor": 2
}